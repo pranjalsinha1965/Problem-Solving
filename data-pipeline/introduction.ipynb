{
 "cells": [
  {
   "cell_type": "code",
   "execution_count": 1,
   "id": "2e3d0bef",
   "metadata": {},
   "outputs": [
    {
     "name": "stdout",
     "output_type": "stream",
     "text": [
      "Requirement already satisfied: numpy in c:\\users\\kiit\\appdata\\local\\packages\\pythonsoftwarefoundation.python.3.8_qbz5n2kfra8p0\\localcache\\local-packages\\python38\\site-packages (1.24.3)\n",
      "Note: you may need to restart the kernel to use updated packages.\n"
     ]
    },
    {
     "name": "stderr",
     "output_type": "stream",
     "text": [
      "WARNING: Ignoring invalid distribution -ip (c:\\users\\kiit\\appdata\\local\\packages\\pythonsoftwarefoundation.python.3.8_qbz5n2kfra8p0\\localcache\\local-packages\\python38\\site-packages)\n",
      "WARNING: Error parsing dependencies of gym: Expected matching RIGHT_PARENTHESIS for LEFT_PARENTHESIS, after version specifier\n",
      "    opencv-python (>=3.) ; extra == 'all'\n",
      "                  ~~~~^\n",
      "WARNING: Ignoring invalid distribution -ip (c:\\users\\kiit\\appdata\\local\\packages\\pythonsoftwarefoundation.python.3.8_qbz5n2kfra8p0\\localcache\\local-packages\\python38\\site-packages)\n",
      "WARNING: Ignoring invalid distribution -ip (c:\\users\\kiit\\appdata\\local\\packages\\pythonsoftwarefoundation.python.3.8_qbz5n2kfra8p0\\localcache\\local-packages\\python38\\site-packages)\n",
      "\n",
      "[notice] A new release of pip is available: 24.3.1 -> 25.0.1\n",
      "[notice] To update, run: C:\\Users\\KIIT\\AppData\\Local\\Microsoft\\WindowsApps\\PythonSoftwareFoundation.Python.3.8_qbz5n2kfra8p0\\python.exe -m pip install --upgrade pip\n"
     ]
    }
   ],
   "source": [
    "pip install numpy"
   ]
  },
  {
   "cell_type": "code",
   "execution_count": 2,
   "id": "30e161a2",
   "metadata": {},
   "outputs": [
    {
     "name": "stdout",
     "output_type": "stream",
     "text": [
      "Requirement already satisfied: pandas in c:\\users\\kiit\\appdata\\local\\packages\\pythonsoftwarefoundation.python.3.8_qbz5n2kfra8p0\\localcache\\local-packages\\python38\\site-packages (1.3.1)\n",
      "Requirement already satisfied: numpy>=1.17.3 in c:\\users\\kiit\\appdata\\local\\packages\\pythonsoftwarefoundation.python.3.8_qbz5n2kfra8p0\\localcache\\local-packages\\python38\\site-packages (from pandas) (1.24.3)\n",
      "Requirement already satisfied: python-dateutil>=2.7.3 in c:\\users\\kiit\\appdata\\local\\packages\\pythonsoftwarefoundation.python.3.8_qbz5n2kfra8p0\\localcache\\local-packages\\python38\\site-packages (from pandas) (2.7.5)\n",
      "Note: you may need to restart the kernel to use updated packages.Requirement already satisfied: pytz>=2017.3 in c:\\users\\kiit\\appdata\\local\\packages\\pythonsoftwarefoundation.python.3.8_qbz5n2kfra8p0\\localcache\\local-packages\\python38\\site-packages (from pandas) (2021.1)\n"
     ]
    },
    {
     "name": "stderr",
     "output_type": "stream",
     "text": [
      "WARNING: Ignoring invalid distribution -ip (c:\\users\\kiit\\appdata\\local\\packages\\pythonsoftwarefoundation.python.3.8_qbz5n2kfra8p0\\localcache\\local-packages\\python38\\site-packages)\n",
      "WARNING: Error parsing dependencies of gym: Expected matching RIGHT_PARENTHESIS for LEFT_PARENTHESIS, after version specifier\n",
      "    opencv-python (>=3.) ; extra == 'all'\n",
      "                  ~~~~^\n",
      "WARNING: Ignoring invalid distribution -ip (c:\\users\\kiit\\appdata\\local\\packages\\pythonsoftwarefoundation.python.3.8_qbz5n2kfra8p0\\localcache\\local-packages\\python38\\site-packages)\n",
      "WARNING: Ignoring invalid distribution -ip (c:\\users\\kiit\\appdata\\local\\packages\\pythonsoftwarefoundation.python.3.8_qbz5n2kfra8p0\\localcache\\local-packages\\python38\\site-packages)\n",
      "\n",
      "[notice] A new release of pip is available: 24.3.1 -> 25.0.1\n",
      "[notice] To update, run: C:\\Users\\KIIT\\AppData\\Local\\Microsoft\\WindowsApps\\PythonSoftwareFoundation.Python.3.8_qbz5n2kfra8p0\\python.exe -m pip install --upgrade pip\n"
     ]
    },
    {
     "name": "stdout",
     "output_type": "stream",
     "text": [
      "\n",
      "Requirement already satisfied: six>=1.5 in c:\\users\\kiit\\appdata\\local\\packages\\pythonsoftwarefoundation.python.3.8_qbz5n2kfra8p0\\localcache\\local-packages\\python38\\site-packages (from python-dateutil>=2.7.3->pandas) (1.15.0)\n"
     ]
    }
   ],
   "source": [
    "pip install pandas"
   ]
  },
  {
   "cell_type": "code",
   "execution_count": 3,
   "id": "bbd69014",
   "metadata": {},
   "outputs": [],
   "source": [
    "import pandas as pd\n",
    "import numpy as np\n",
    "data = {\n",
    "    'sales': [1000, 1500, np.nan, 2000, 2500],\n",
    "    'quantity': [50, 60, 70, np.nan, 90],\n",
    "    'product': ['A', 'B', 'C', 'D', 'E']\n",
    "}\n",
    "\n",
    "example_df = pd.DataFrame(data)"
   ]
  },
  {
   "cell_type": "code",
   "execution_count": 4,
   "id": "9c54c7a8",
   "metadata": {},
   "outputs": [],
   "source": [
    "# Step 1: Load Data \n",
    "def load_data(df: pd.DataFrame) -> pd.DataFrame:\n",
    "    return df\n",
    "\n",
    "# Step 2: Data Cleaning\n",
    "def clean_data(df: pd.DataFrame) -> pd.DataFrame:\n",
    "    missing_before = df.isnull().sum().sum()\n",
    "    df_cleaned = df.dropna().reset_index(drop=True)\n",
    "    missing_after = df_cleaned.isnull().sum().sum()\n",
    "    return df_cleaned\n",
    "\n",
    "# Step 3: Feature Engineering\n",
    "def engineer_features(df: pd.DataFrame) -> pd.DataFrame:\n",
    "    if 'sales' in df.columns and 'quantity' in df.columns:\n",
    "        df['avg_price'] = df['sales'] / df['quantity']\n",
    "    return df"
   ]
  },
  {
   "cell_type": "code",
   "execution_count": 5,
   "id": "aa303b1b",
   "metadata": {},
   "outputs": [],
   "source": [
    "def execute_pipeline(df: pd.DataFrame, steps: list) -> pd.DataFrame:\n",
    "    for step in steps:\n",
    "        df = step(df)\n",
    "    return df\n",
    "\n",
    "pipeline_steps = [\n",
    "    load_data,\n",
    "    clean_data,\n",
    "    engineer_features\n",
    "]\n",
    "\n",
    "final_df = execute_pipeline(example_df, pipeline_steps)"
   ]
  },
  {
   "cell_type": "code",
   "execution_count": 6,
   "id": "43c2b731",
   "metadata": {},
   "outputs": [
    {
     "ename": "NameError",
     "evalue": "name 'df_loaded' is not defined",
     "output_type": "error",
     "traceback": [
      "\u001b[1;31m---------------------------------------------------------------------------\u001b[0m",
      "\u001b[1;31mNameError\u001b[0m                                 Traceback (most recent call last)",
      "\u001b[1;32m~\\AppData\\Local\\Temp/ipykernel_18972/1754991235.py\u001b[0m in \u001b[0;36m<module>\u001b[1;34m\u001b[0m\n\u001b[0;32m     11\u001b[0m \u001b[1;33m\u001b[0m\u001b[0m\n\u001b[0;32m     12\u001b[0m \u001b[1;31m# Define features (X) and target (y)\u001b[0m\u001b[1;33m\u001b[0m\u001b[1;33m\u001b[0m\u001b[1;33m\u001b[0m\u001b[0m\n\u001b[1;32m---> 13\u001b[1;33m \u001b[0mX\u001b[0m \u001b[1;33m=\u001b[0m \u001b[0mdf_loaded\u001b[0m\u001b[1;33m.\u001b[0m\u001b[0mdrop\u001b[0m\u001b[1;33m(\u001b[0m\u001b[0mcolumns\u001b[0m\u001b[1;33m=\u001b[0m\u001b[1;33m[\u001b[0m\u001b[1;34m'defaulted'\u001b[0m\u001b[1;33m]\u001b[0m\u001b[1;33m)\u001b[0m\u001b[1;33m\u001b[0m\u001b[1;33m\u001b[0m\u001b[0m\n\u001b[0m\u001b[0;32m     14\u001b[0m \u001b[0my\u001b[0m \u001b[1;33m=\u001b[0m \u001b[0mdf_loaded\u001b[0m\u001b[1;33m[\u001b[0m\u001b[1;34m'defaulted'\u001b[0m\u001b[1;33m]\u001b[0m\u001b[1;33m\u001b[0m\u001b[1;33m\u001b[0m\u001b[0m\n\u001b[0;32m     15\u001b[0m \u001b[1;33m\u001b[0m\u001b[0m\n",
      "\u001b[1;31mNameError\u001b[0m: name 'df_loaded' is not defined"
     ]
    }
   ],
   "source": [
    "from sklearn.pipeline import Pipeline\n",
    "from sklearn.impute import SimpleImputer\n",
    "from sklearn.preprocessing import StandardScaler\n",
    "from sklearn.ensemble import RandomForestClassifier\n",
    "\n",
    "pipeline = Pipeline([\n",
    "    ('imputer', SimpleImputer(strategy='mean')),\n",
    "    ('scaler', StandardScaler()),\n",
    "    ('classifier', RandomForestClassifier(n_estimators=100, random_state=42))\n",
    "])\n",
    "\n",
    "# Define features (X) and target (y)\n",
    "X = df_loaded.drop(columns=['defaulted'])\n",
    "y = df_loaded['defaulted']\n",
    "\n",
    "# Fit the pipeline\n",
    "pipeline.fit(X, y)"
   ]
  },
  {
   "cell_type": "code",
   "execution_count": null,
   "id": "1ddbe730",
   "metadata": {},
   "outputs": [],
   "source": [
    "from sklearn.linear_model import LogisticRegression\n",
    "from sklearn.tree import DecisionTreeClassifier\n",
    "from sklearn.ensemble import RandomForestClassifier, GradientBoostingClassifier\n",
    "\n",
    "def model_factory(model_type: str, **kwargs):\n",
    "    models = {\n",
    "        'logistic_regression': LogisticRegression,\n",
    "        'decision_tree': DecisionTreeClassifier,\n",
    "        'random_forest': RandomForestClassifier,\n",
    "        'gradient_boosting': GradientBoostingClassifier\n",
    "    }\n",
    "\n",
    "    if model_type not in models:\n",
    "        raise ValueError(f\"Unsupported model type '{model_type}'. Supported types: {list(models.keys())}\")\n",
    "    return models[model_type](**kwargs)\n",
    "\n",
    "logreg_model = model_factory(\n",
    "    model_type='logistic_regression',\n",
    "    solver='liblinear',\n",
    "    random_state=42)"
   ]
  },
  {
   "cell_type": "code",
   "execution_count": null,
   "id": "35ed63c2",
   "metadata": {},
   "outputs": [],
   "source": [
    "import functools\n",
    "import time\n",
    "\n",
    "def log_and_time(func):\n",
    "    @functools.wraps(func)\n",
    "    def wrapper(*args, **kwargs):\n",
    "        func_name = func.__name__\n",
    "        start_time = time.time()\n",
    "        result = func(*args, **kwargs)\n",
    "        end_time = time.time()\n",
    "        duration = end_time - start_time\n",
    "        print(f\"'{func_name}' completed in {duration:.4f} seconds.\\n\")\n",
    "        return result\n",
    "    return wrapper"
   ]
  },
  {
   "cell_type": "code",
   "execution_count": null,
   "id": "b2c47b00",
   "metadata": {},
   "outputs": [],
   "source": [
    "@log_and_time\n",
    "def load_simulated_data(n_rows=10000):\n",
    "    np.random.seed(42)\n",
    "    df = pd.DataFrame({\n",
    "        'age': np.random.randint(18, 70, size=n_rows),\n",
    "        'income': np.random.normal(50000, 15000, size=n_rows),\n",
    "        'credit_score': np.random.randint(300, 850, size=n_rows),\n",
    "        'loan_amount': np.random.normal(20000, 5000, size=n_rows),\n",
    "        'defaulted': np.random.binomial(1, 0.2, size=n_rows)\n",
    "    })\n",
    "    for col in ['income', 'credit_score']:\n",
    "        df.loc[df.sample(frac=0.05).index, col] = np.nan\n",
    "    return df"
   ]
  },
  {
   "cell_type": "code",
   "execution_count": null,
   "id": "52ed34c9",
   "metadata": {},
   "outputs": [
    {
     "name": "stdout",
     "output_type": "stream",
     "text": [
      "'load_simulated_data' completed in 0.0051 seconds.\n",
      "\n"
     ]
    }
   ],
   "source": [
    "df_loaded = load_simulated_data()"
   ]
  }
 ],
 "metadata": {
  "kernelspec": {
   "display_name": "Python 3",
   "language": "python",
   "name": "python3"
  },
  "language_info": {
   "codemirror_mode": {
    "name": "ipython",
    "version": 3
   },
   "file_extension": ".py",
   "mimetype": "text/x-python",
   "name": "python",
   "nbconvert_exporter": "python",
   "pygments_lexer": "ipython3",
   "version": "3.8.10"
  }
 },
 "nbformat": 4,
 "nbformat_minor": 5
}
