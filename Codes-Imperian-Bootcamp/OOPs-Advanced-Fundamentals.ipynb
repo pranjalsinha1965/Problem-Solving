{
 "cells": [
  {
   "cell_type": "markdown",
   "metadata": {},
   "source": [
    "# Advanced Python Modules"
   ]
  },
  {
   "cell_type": "code",
   "execution_count": 2,
   "metadata": {},
   "outputs": [],
   "source": [
    "# Unzipping the file\n",
    "\n",
    "# import shutil\n",
    "# shutil.unpack_archive('unzip_me_for_instructions.zip', '', 'zip')\n",
    "# with open('extracted_content/Instructions.txt') as f: \n",
    "#     content = f.read()\n",
    "#     print(content) "
   ]
  },
  {
   "cell_type": "markdown",
   "metadata": {},
   "source": [
    "# Regular Expression to Find the Link"
   ]
  },
  {
   "cell_type": "code",
   "execution_count": 3,
   "metadata": {},
   "outputs": [
    {
     "data": {
      "text/plain": [
       "[]"
      ]
     },
     "execution_count": 3,
     "metadata": {},
     "output_type": "execute_result"
    }
   ],
   "source": [
    "import re\n",
    "pattern  = r'\\d{3}-d{3}-\\d{4}'\n",
    "test_string = \"here is a random number 1231231234 , here is phone number formatted 123-123-1234\"\n",
    "re.findall(pattern, test_string)\n",
    "\n",
    "\n",
    "def search(file,pattern= r'\\d{3}-\\d{3}-\\d{4}'):\n",
    "    f = open(file,'r')\n",
    "    text = f.read()\n",
    "    \n",
    "    if re.search(pattern,text):\n",
    "        return re.search(pattern,text)\n",
    "    else:\n",
    "        return ''"
   ]
  },
  {
   "cell_type": "markdown",
   "metadata": {},
   "source": [
    "# OS Walk through the files to get the link"
   ]
  },
  {
   "cell_type": "code",
   "execution_count": 4,
   "metadata": {},
   "outputs": [],
   "source": [
    "import os\n",
    "results = []\n",
    "for folder, sub_folders, files in os.walk(os.getcwd()+\"\\\\extracted_content\"):\n",
    "\n",
    "    for f in files:\n",
    "        full_path = folder+'\\\\'+f\n",
    "\n",
    "        results.append(search(full_path))\n",
    "\n",
    "\n",
    "for r in results:\n",
    "    if r != '':\n",
    "        print(r.group())"
   ]
  }
 ],
 "metadata": {
  "kernelspec": {
   "display_name": "Python 3",
   "language": "python",
   "name": "python3"
  },
  "language_info": {
   "codemirror_mode": {
    "name": "ipython",
    "version": 3
   },
   "file_extension": ".py",
   "mimetype": "text/x-python",
   "name": "python",
   "nbconvert_exporter": "python",
   "pygments_lexer": "ipython3",
   "version": "3.8.10"
  }
 },
 "nbformat": 4,
 "nbformat_minor": 2
}
