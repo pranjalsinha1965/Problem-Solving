{
 "cells": [
  {
   "cell_type": "markdown",
   "id": "d41fa4f0",
   "metadata": {},
   "source": [
    "Linked List"
   ]
  },
  {
   "cell_type": "code",
   "execution_count": 8,
   "id": "464ce4cb",
   "metadata": {},
   "outputs": [
    {
     "name": "stdout",
     "output_type": "stream",
     "text": [
      "1 -> 2 -> 3 -> 4 -> 5 -> None\n"
     ]
    }
   ],
   "source": [
    "class Node:\n",
    "    def __init__(self, data): \n",
    "        self.data = data \n",
    "        self.next = None\n",
    "\n",
    "class Solution: \n",
    "    def takeInput(self):\n",
    "        inputList = [int(ele) for ele in input().split()]\n",
    "        head = None\n",
    "        \n",
    "        for currData in inputList:\n",
    "            if currData == -1:\n",
    "                break\n",
    "                \n",
    "            newNode = Node(currData)\n",
    "            \n",
    "            if head is None:\n",
    "                head = newNode\n",
    "            else:\n",
    "                currNode = head\n",
    "                while currNode.next is not None:\n",
    "                    currNode = currNode.next\n",
    "                currNode.next = newNode\n",
    "                \n",
    "        return head\n",
    "    \n",
    "    def printLL(self, head):\n",
    "        while head is not None: \n",
    "            print(str(head.data) + \" -> \", end=\"\")\n",
    "            head = head.next  # Fixed: head.next instead of head.data\n",
    "        print(\"None\")\n",
    "\n",
    "# Usage\n",
    "sol = Solution()\n",
    "head = sol.takeInput()\n",
    "sol.printLL(head)"
   ]
  },
  {
   "cell_type": "markdown",
   "id": "49521690",
   "metadata": {},
   "source": [
    "## Linked List Time Complexity Analysis\n",
    "\n",
    "## Current Implementation (`takeInput()` method)\n",
    "\n",
    "### Time Complexity: **O(n²)**\n",
    "\n",
    "### Mathematical Analysis:\n",
    "For `n` elements in the linked list:\n",
    "\n",
    "**Operations per insertion:**\n",
    "- 1st element: 0 operations\n",
    "- 2nd element: 1 operation  \n",
    "- 3rd element: 2 operations\n",
    "- 4th element: 3 operations\n",
    "- ...\n",
    "- nth element: (n-1) operations\n",
    "\n",
    "**Total Operations:**"
   ]
  },
  {
   "cell_type": "code",
   "execution_count": 10,
   "id": "98306314",
   "metadata": {},
   "outputs": [
    {
     "name": "stdout",
     "output_type": "stream",
     "text": [
      "1 -> 2 -> 3 -> 4 -> 5 -> 6 -> 7 -> 8 -> 9 -> None\n"
     ]
    }
   ],
   "source": [
    "def takeInput(): \n",
    "    inputList = [int(ele) for ele in input().split()]\n",
    "    head = None\n",
    "    tail = None \n",
    "    for currData in inputList:\n",
    "        if currData == -1: \n",
    "            break \n",
    "        \n",
    "        newNode = Node(currData)\n",
    "        if head is None: \n",
    "            head = newNode \n",
    "            tail = newNode \n",
    "        else:\n",
    "            tail.next = newNode \n",
    "            tail = newNode \n",
    "\n",
    "    return head \n",
    "\n",
    "head = takeInput()\n",
    "sol.printLL(head) "
   ]
  },
  {
   "cell_type": "markdown",
   "id": "c62796db",
   "metadata": {},
   "source": [
    "Node.py"
   ]
  },
  {
   "cell_type": "code",
   "execution_count": null,
   "id": "782a5706",
   "metadata": {},
   "outputs": [],
   "source": [
    "class Node:\n",
    "    def __init__(self, data): \n",
    "        self.data = data \n",
    "        self.next = None"
   ]
  },
  {
   "cell_type": "markdown",
   "id": "705158e6",
   "metadata": {},
   "source": [
    "QueueUsingLL.py"
   ]
  },
  {
   "cell_type": "code",
   "execution_count": null,
   "id": "57e78c6c",
   "metadata": {},
   "outputs": [
    {
     "ename": "ModuleNotFoundError",
     "evalue": "No module named 'Node'",
     "output_type": "error",
     "traceback": [
      "\u001b[1;31m---------------------------------------------------------------------------\u001b[0m",
      "\u001b[1;31mModuleNotFoundError\u001b[0m                       Traceback (most recent call last)",
      "\u001b[1;32m~\\AppData\\Local\\Temp/ipykernel_35988/1840111418.py\u001b[0m in \u001b[0;36m<module>\u001b[1;34m\u001b[0m\n\u001b[1;32m----> 1\u001b[1;33m \u001b[1;32mfrom\u001b[0m \u001b[0mNode\u001b[0m \u001b[1;32mimport\u001b[0m \u001b[0mNode\u001b[0m\u001b[1;33m\u001b[0m\u001b[1;33m\u001b[0m\u001b[0m\n\u001b[0m\u001b[0;32m      2\u001b[0m \u001b[1;33m\u001b[0m\u001b[0m\n\u001b[0;32m      3\u001b[0m \u001b[1;32mclass\u001b[0m \u001b[0mQueueUsingLL\u001b[0m\u001b[1;33m:\u001b[0m\u001b[1;33m\u001b[0m\u001b[1;33m\u001b[0m\u001b[0m\n\u001b[0;32m      4\u001b[0m     \u001b[1;32mdef\u001b[0m \u001b[0m__init__\u001b[0m\u001b[1;33m(\u001b[0m\u001b[0mself\u001b[0m\u001b[1;33m)\u001b[0m\u001b[1;33m:\u001b[0m\u001b[1;33m\u001b[0m\u001b[1;33m\u001b[0m\u001b[0m\n\u001b[0;32m      5\u001b[0m         \u001b[0mself\u001b[0m\u001b[1;33m.\u001b[0m\u001b[0m__head\u001b[0m \u001b[1;33m=\u001b[0m \u001b[1;32mNone\u001b[0m\u001b[1;33m\u001b[0m\u001b[1;33m\u001b[0m\u001b[0m\n",
      "\u001b[1;31mModuleNotFoundError\u001b[0m: No module named 'Node'"
     ]
    }
   ],
   "source": [
    "from Node import Node\n",
    "\n",
    "class QueueUsingLL: \n",
    "    def __init__(self): \n",
    "        self.__head = None \n",
    "        self.__tail = None \n",
    "        self.__count = 0 \n",
    "\n",
    "    def enqueue(self, element):  # Fixed method name\n",
    "        newNode = Node(element)\n",
    "        if self.__head is None:\n",
    "            self.__head = newNode \n",
    "        else:\n",
    "            self.__tail.next = newNode \n",
    "\n",
    "        self.__tail = newNode \n",
    "        self.__count = self.__count + 1  # Fixed variable name\n",
    "\n",
    "    def dequeue(self): \n",
    "        if self.__head is None: \n",
    "            print(\"Hey! Queue is Empty\")\n",
    "            return \n",
    "        data = self.__head.data \n",
    "        self.__head = self.__head.next \n",
    "        \n",
    "        # If queue becomes empty, update tail to None\n",
    "        if self.__head is None:\n",
    "            self.__tail = None\n",
    "            \n",
    "        self.__count = self.__count - 1\n",
    "        return data\n",
    "\n",
    "    def isEmpty(self): \n",
    "        return self.size() == 0 \n",
    "\n",
    "    def size(self):\n",
    "        return self.__count \n",
    "\n",
    "    def front(self):\n",
    "        if self.__head is None: \n",
    "            print(\"Hey! Queue is Empty\")\n",
    "            return\n",
    "        return self.__head.data"
   ]
  },
  {
   "cell_type": "markdown",
   "id": "4f4a17d0",
   "metadata": {},
   "source": [
    "Main.py"
   ]
  },
  {
   "cell_type": "code",
   "execution_count": 14,
   "id": "ea41a763",
   "metadata": {},
   "outputs": [
    {
     "ename": "ModuleNotFoundError",
     "evalue": "No module named 'QueueUsingLL'",
     "output_type": "error",
     "traceback": [
      "\u001b[1;31m---------------------------------------------------------------------------\u001b[0m",
      "\u001b[1;31mModuleNotFoundError\u001b[0m                       Traceback (most recent call last)",
      "\u001b[1;32m~\\AppData\\Local\\Temp/ipykernel_35988/1134341713.py\u001b[0m in \u001b[0;36m<module>\u001b[1;34m\u001b[0m\n\u001b[1;32m----> 1\u001b[1;33m \u001b[1;32mfrom\u001b[0m \u001b[0mQueueUsingLL\u001b[0m \u001b[1;32mimport\u001b[0m \u001b[0mQueueUsingLL\u001b[0m  \u001b[1;31m# Fixed import\u001b[0m\u001b[1;33m\u001b[0m\u001b[1;33m\u001b[0m\u001b[0m\n\u001b[0m\u001b[0;32m      2\u001b[0m \u001b[1;33m\u001b[0m\u001b[0m\n\u001b[0;32m      3\u001b[0m \u001b[0mq\u001b[0m \u001b[1;33m=\u001b[0m \u001b[0mQueueUsingLL\u001b[0m\u001b[1;33m(\u001b[0m\u001b[1;33m)\u001b[0m\u001b[1;33m\u001b[0m\u001b[1;33m\u001b[0m\u001b[0m\n\u001b[0;32m      4\u001b[0m \u001b[0mq\u001b[0m\u001b[1;33m.\u001b[0m\u001b[0menqueue\u001b[0m\u001b[1;33m(\u001b[0m\u001b[1;36m1\u001b[0m\u001b[1;33m)\u001b[0m\u001b[1;33m\u001b[0m\u001b[1;33m\u001b[0m\u001b[0m\n\u001b[0;32m      5\u001b[0m \u001b[0mq\u001b[0m\u001b[1;33m.\u001b[0m\u001b[0menqueue\u001b[0m\u001b[1;33m(\u001b[0m\u001b[1;36m5\u001b[0m\u001b[1;33m)\u001b[0m\u001b[1;33m\u001b[0m\u001b[1;33m\u001b[0m\u001b[0m\n",
      "\u001b[1;31mModuleNotFoundError\u001b[0m: No module named 'QueueUsingLL'"
     ]
    }
   ],
   "source": [
    "from QueueUsingLL import QueueUsingLL  # Fixed import\n",
    "\n",
    "q = QueueUsingLL()\n",
    "q.enqueue(1)\n",
    "q.enqueue(5)\n",
    "q.enqueue(3)\n",
    "q.enqueue(4)\n",
    "\n",
    "print(\"Queue elements:\")\n",
    "while q.isEmpty() is False: \n",
    "    print(q.dequeue())\n",
    "\n",
    "print(\"Front of empty queue:\")\n",
    "q.front()  # This will show the empty queue message"
   ]
  },
  {
   "cell_type": "markdown",
   "id": "2f9c01b4",
   "metadata": {},
   "source": [
    "StackQueueInBuilt.py"
   ]
  },
  {
   "cell_type": "code",
   "execution_count": 21,
   "id": "1c641b2e",
   "metadata": {},
   "outputs": [
    {
     "name": "stdout",
     "output_type": "stream",
     "text": [
      "5\n",
      "3\n",
      "2\n",
      "1\n"
     ]
    }
   ],
   "source": [
    "import queue \n",
    "\n",
    "s = [1, 2, 3]\n",
    "s.append(4)\n",
    "s.append(5)\n",
    "print(s.pop())\n",
    "\n",
    "# print(s.pop())\n",
    "# print(s.pop())\n",
    "\n",
    "# inbuilt queue\n",
    "# q = queue.Queue()\n",
    "# q.put(1)\n",
    "# q.put(2)\n",
    "# q.put(3)\n",
    "# q.put(4)\n",
    "\n",
    "# while not q.empty():\n",
    "#     print(q.get())\n",
    "\n",
    "q = queue.LifoQueue()\n",
    "q.put(1)\n",
    "q.put(2)\n",
    "q.put(3)\n",
    "\n",
    "while not q.empty(): \n",
    "    print(q.get())"
   ]
  },
  {
   "cell_type": "markdown",
   "id": "c19d45f3",
   "metadata": {},
   "source": [
    "Implementing a queue using 2 stacks \n",
    "\n",
    "1. Enqueue \n",
    "2. Dequeue \n",
    "3. Front \n",
    "4. Size \n",
    "5. isEmpty()"
   ]
  },
  {
   "cell_type": "markdown",
   "id": "8a835b72",
   "metadata": {},
   "source": [
    "Option - 1: Efficient Enqueue"
   ]
  },
  {
   "cell_type": "code",
   "execution_count": 22,
   "id": "fc143deb",
   "metadata": {},
   "outputs": [
    {
     "name": "stdout",
     "output_type": "stream",
     "text": [
      "Queue elements:\n",
      "1\n",
      "2\n",
      "3\n",
      "4\n"
     ]
    }
   ],
   "source": [
    "class QueueUsingTwoStacks:  # Fixed class name\n",
    "\n",
    "    def __init__(self): \n",
    "        self.__s1 = []  # Main stack\n",
    "        self.__s2 = []  # Temporary stack\n",
    "\n",
    "    def enqueue(self, data): \n",
    "        # O(1) - Just push to s1\n",
    "        self.__s1.append(data)\n",
    "\n",
    "    def dequeue(self):\n",
    "        # O(1) amortized\n",
    "        if self.isEmpty():\n",
    "            return -1 \n",
    "        \n",
    "        # If s2 is empty, transfer all elements from s1 to s2\n",
    "        if len(self.__s2) == 0:\n",
    "            while len(self.__s1) != 0:\n",
    "                self.__s2.append(self.__s1.pop())\n",
    "        \n",
    "        return self.__s2.pop()\n",
    "\n",
    "    def front(self):\n",
    "        # O(1) amortized - Fixed: doesn't remove element\n",
    "        if self.isEmpty():\n",
    "            return -1 \n",
    "        \n",
    "        # If s2 is empty, transfer all elements from s1 to s2\n",
    "        if len(self.__s2) == 0:\n",
    "            while len(self.__s1) != 0:\n",
    "                self.__s2.append(self.__s1.pop())\n",
    "        \n",
    "        return self.__s2[-1]  # Just peek, don't pop\n",
    "    \n",
    "    def size(self):\n",
    "        return len(self.__s1) + len(self.__s2)\n",
    "\n",
    "    def isEmpty(self):\n",
    "        return self.size() == 0\n",
    "\n",
    "\n",
    "# Test the queue\n",
    "q = QueueUsingTwoStacks()\n",
    "q.enqueue(1)\n",
    "q.enqueue(2)\n",
    "q.enqueue(3)\n",
    "q.enqueue(4)\n",
    "\n",
    "print(\"Queue elements:\")\n",
    "while q.isEmpty() is False: \n",
    "    print(q.front())  # This should now show elements without removing them\n",
    "    q.dequeue()  # This actually removes elements"
   ]
  },
  {
   "cell_type": "markdown",
   "id": "6e0525d0",
   "metadata": {},
   "source": [
    "Option - 2: Original Optimization"
   ]
  },
  {
   "cell_type": "code",
   "execution_count": 23,
   "id": "cc16ca83",
   "metadata": {},
   "outputs": [
    {
     "name": "stdout",
     "output_type": "stream",
     "text": [
      "Queue elements:\n",
      "1\n",
      "2\n",
      "3\n",
      "4\n"
     ]
    }
   ],
   "source": [
    "class QueueUsingTwoStacks:\n",
    "    \n",
    "    def __init__(self): \n",
    "        self.__s1 = []\n",
    "        self.__s2 = []\n",
    "\n",
    "    def enqueue(self, data): \n",
    "        # O(n) - Your original approach\n",
    "        while len(self.__s1) != 0: \n",
    "            self.__s2.append(self.__s1.pop())\n",
    "        self.__s1.append(data)\n",
    "        while len(self.__s2) != 0: \n",
    "            self.__s1.append(self.__s2.pop())\n",
    "\n",
    "    def dequeue(self):\n",
    "        if self.isEmpty(): \n",
    "            return -1 \n",
    "        return self.__s1.pop()\n",
    "\n",
    "    def front(self):\n",
    "        if self.isEmpty():\n",
    "            return -1 \n",
    "        return self.__s1[-1]  # Fixed: just peek, don't pop\n",
    "    \n",
    "    def size(self):\n",
    "        return len(self.__s1)\n",
    "\n",
    "    def isEmpty(self):\n",
    "        return self.size() == 0\n",
    "\n",
    "\n",
    "# Test\n",
    "q = QueueUsingTwoStacks()\n",
    "q.enqueue(1)\n",
    "q.enqueue(2)\n",
    "q.enqueue(3)\n",
    "q.enqueue(4)\n",
    "\n",
    "print(\"Queue elements:\")\n",
    "while q.isEmpty() is False: \n",
    "    print(q.front())\n",
    "    q.dequeue()"
   ]
  }
 ],
 "metadata": {
  "kernelspec": {
   "display_name": "Python 3",
   "language": "python",
   "name": "python3"
  },
  "language_info": {
   "codemirror_mode": {
    "name": "ipython",
    "version": 3
   },
   "file_extension": ".py",
   "mimetype": "text/x-python",
   "name": "python",
   "nbconvert_exporter": "python",
   "pygments_lexer": "ipython3",
   "version": "3.8.10"
  }
 },
 "nbformat": 4,
 "nbformat_minor": 5
}
