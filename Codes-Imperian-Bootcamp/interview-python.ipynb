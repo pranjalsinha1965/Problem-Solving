{
 "cells": [
  {
   "cell_type": "markdown",
   "metadata": {},
   "source": [
    "Question 1: Write a Python program to check if a string is a palindrome."
   ]
  },
  {
   "cell_type": "markdown",
   "metadata": {},
   "source": [
    "#### 1st Approach"
   ]
  },
  {
   "cell_type": "code",
   "execution_count": 1,
   "metadata": {},
   "outputs": [
    {
     "name": "stdout",
     "output_type": "stream",
     "text": [
      "madam is a palindrome\n"
     ]
    }
   ],
   "source": [
    "# very important \n",
    "def is_palindrome(string):\n",
    "    reversed_string = string[::-1] # slicing with  a step value of -1\n",
    "    return string == reversed_string\n",
    "\n",
    "# Test the function\n",
    "word = \"madam\"\n",
    "if is_palindrome(word):\n",
    "    print(f\"{word} is a palindrome\") # f impending \n",
    "else:    \n",
    "    print(f\"{word} is not a palindrome\")    \n",
    "\n",
    "# slicing\n",
    "# [start-index: end-index: step-value]"
   ]
  },
  {
   "cell_type": "markdown",
   "metadata": {},
   "source": [
    "### 2nd Approach: Using 2 Pointers"
   ]
  },
  {
   "cell_type": "code",
   "execution_count": null,
   "metadata": {},
   "outputs": [
    {
     "name": "stdout",
     "output_type": "stream",
     "text": [
      "False\n"
     ]
    }
   ],
   "source": [
    "def isPalindrome(s: str) -> bool:\n",
    "    i, j = 0, len(s) - 1\n",
    "    while i < j:\n",
    "        if not s[i].isalnum():\n",
    "            i += 1\n",
    "        elif not s[j].isalnum():\n",
    "            j -= 1\n",
    "        elif s[i].lower() != s[j].lower():\n",
    "            return False\n",
    "        else:\n",
    "            i, j = i + 1, j - 1\n",
    "    return True\n",
    "\n",
    "sentence = \"My name is Pranjal Sinha\"\n",
    "result = isPalindrome(sentence)\n",
    "print(f\"{result}\")\n",
    "\n",
    "# approach : 2 pointer "
   ]
  },
  {
   "cell_type": "markdown",
   "metadata": {},
   "source": [
    "Question 2: Write a Python program to find the factorial of a number."
   ]
  },
  {
   "cell_type": "code",
   "execution_count": 3,
   "metadata": {},
   "outputs": [
    {
     "name": "stdout",
     "output_type": "stream",
     "text": [
      "The factorial of 5 is 120\n"
     ]
    }
   ],
   "source": [
    "def factorial(n):\n",
    "    if n == 0:\n",
    "        return 1\n",
    "    else: \n",
    "        return n * factorial(n-1)\n",
    "\n",
    "#Test the function \n",
    "number = 5\n",
    "result = factorial(number)\n",
    "print(f\"The factorial of {number} is {result}\")"
   ]
  },
  {
   "cell_type": "markdown",
   "metadata": {},
   "source": [
    "Question 3: Write a Python program to find the largest element in a list."
   ]
  },
  {
   "cell_type": "code",
   "execution_count": 4,
   "metadata": {},
   "outputs": [
    {
     "name": "stdout",
     "output_type": "stream",
     "text": [
      "The largest number is 20\n"
     ]
    }
   ],
   "source": [
    "def find_largest(number):\n",
    "    largest = number[0]\n",
    "    for num in number:\n",
    "        if num > largest:\n",
    "            largest = num\n",
    "    return largest \n",
    "\n",
    "# Test the function \n",
    "nums = [10, 5, 8, 20, 3]\n",
    "largest_num = find_largest(nums)\n",
    "print(f\"The largest number is {largest_num}\")"
   ]
  },
  {
   "cell_type": "markdown",
   "metadata": {},
   "source": [
    "Question 4: Write a Python program to reverse a string."
   ]
  },
  {
   "cell_type": "code",
   "execution_count": 1,
   "metadata": {},
   "outputs": [
    {
     "name": "stdout",
     "output_type": "stream",
     "text": [
      "lajnarP\n"
     ]
    }
   ],
   "source": [
    "# Reverse a string in-place using pointers \n",
    "def reverse_string(s): \n",
    "    l, r = 0, len(s) - 1 \n",
    "    s = list(s)\n",
    "    while l < r: \n",
    "        s[l], s[r] = s[r], s[l]\n",
    "        l += 1\n",
    "        r -= 1 \n",
    "    return \"\".join(s)\n",
    "\n",
    "string = \"Pranjal\"\n",
    "result = reverse_string(string)\n",
    "print(result)"
   ]
  },
  {
   "cell_type": "code",
   "execution_count": 5,
   "metadata": {},
   "outputs": [
    {
     "name": "stdout",
     "output_type": "stream",
     "text": [
      "The original string is: \n",
      "skeegrofskeeg\n"
     ]
    }
   ],
   "source": [
    "def reverse(s):\n",
    "    str = \"\"\n",
    "    for i in s:\n",
    "        str = i + str \n",
    "    return str \n",
    "s1 = \"geeksforgeeks\"  \n",
    "print(\"The original string is: \")\n",
    "print(reverse(s1))"
   ]
  },
  {
   "cell_type": "code",
   "execution_count": 6,
   "metadata": {},
   "outputs": [
    {
     "name": "stdout",
     "output_type": "stream",
     "text": [
      "The original string is: geeksforgeeks\n"
     ]
    }
   ],
   "source": [
    "def reverse(s):\n",
    "    if len(s) == 0: \n",
    "        return s \n",
    "    else: \n",
    "        return reverse(s[1:]) + s[0]\n",
    "s = \"geeksforgeeks\"\n",
    "print(\"The original string is: \", end=\"\")\n",
    "print(s)"
   ]
  },
  {
   "cell_type": "code",
   "execution_count": 7,
   "metadata": {},
   "outputs": [
    {
     "name": "stdout",
     "output_type": "stream",
     "text": [
      "The original string is:  skeegrofskeeg\n",
      "geeksforgeeks\n"
     ]
    }
   ],
   "source": [
    "def reverse(string):\n",
    "    string = \"\".join(reversed(string))\n",
    "    return string \n",
    "\n",
    "s = \"geeksforgeeks\"\n",
    "print(\"The original string is: \", reverse(s))\n",
    "print(s)"
   ]
  },
  {
   "cell_type": "code",
   "execution_count": 8,
   "metadata": {},
   "outputs": [
    {
     "name": "stdout",
     "output_type": "stream",
     "text": [
      "The original string is:  skeegrofskeeg\n",
      "geeksforgeeks\n"
     ]
    }
   ],
   "source": [
    "def reverse(string): \n",
    "    string = [string[i] for i in range(len(string)-1, -1, -1)]\n",
    "    return \"\".join(string)\n",
    "s = \"geeksforgeeks\" \n",
    "print(\"The original string is: \", reverse(s))\n",
    "print(s)"
   ]
  },
  {
   "cell_type": "code",
   "execution_count": 9,
   "metadata": {},
   "outputs": [
    {
     "name": "stdout",
     "output_type": "stream",
     "text": [
      "The original string is:  geeksforgeeks\n",
      "The reversed string is:  skeegrofskeeg\n"
     ]
    }
   ],
   "source": [
    "def reverse(string):\n",
    "    string = list(string)\n",
    "    string.reverse()\n",
    "    return \"\".join(string)\n",
    "s = \"geeksforgeeks\"\n",
    "print(\"The original string is: \", s)\n",
    "print(\"The reversed string is: \", reverse(s))"
   ]
  },
  {
   "cell_type": "code",
   "execution_count": 10,
   "metadata": {},
   "outputs": [
    {
     "name": "stdout",
     "output_type": "stream",
     "text": [
      "! dlroW ,olleH\n"
     ]
    }
   ],
   "source": [
    "def reverse_string(string):\n",
    "    return string[::-1]\n",
    "\n",
    "# Test the function\n",
    "text = \"Hello, World !\"\n",
    "reversed_text = reverse_string(text)\n",
    "print(reversed_text)\n"
   ]
  },
  {
   "cell_type": "code",
   "execution_count": 11,
   "metadata": {},
   "outputs": [
    {
     "name": "stdout",
     "output_type": "stream",
     "text": [
      "skeeGrofskeeG\n"
     ]
    }
   ],
   "source": [
    "from functools import reduce\n",
    "str = \"GeeksforGeeks\"\n",
    "reversed_str = reduce(lambda x, y: y + x, str)\n",
    "print(reversed_str)"
   ]
  },
  {
   "cell_type": "markdown",
   "metadata": {},
   "source": [
    "Alternat Method for Interviews"
   ]
  },
  {
   "cell_type": "code",
   "execution_count": 12,
   "metadata": {},
   "outputs": [
    {
     "name": "stdout",
     "output_type": "stream",
     "text": [
      "Reversed String: lajnarP\n"
     ]
    }
   ],
   "source": [
    "def reverse_string(string):\n",
    "    characters = list(string)\n",
    "    reversed_array = []\n",
    "    for i in range(len(characters)-1, -1, -1):\n",
    "        reversed_array.append(characters[i])\n",
    "    return ''.join(reversed_array)\n",
    "\n",
    "name = \"Pranjal\"\n",
    "result = reverse_string(name)\n",
    "print(f\"Reversed String: {result}\")\n"
   ]
  },
  {
   "cell_type": "markdown",
   "metadata": {},
   "source": [
    "Question 5: Write a Python program to count the frequency of each element in a list."
   ]
  },
  {
   "cell_type": "code",
   "execution_count": 13,
   "metadata": {},
   "outputs": [
    {
     "name": "stdout",
     "output_type": "stream",
     "text": [
      "{1: 2, 2: 3, 3: 2, 4: 2, 5: 1}\n"
     ]
    }
   ],
   "source": [
    "def count_frequency(numbers):\n",
    "    frequency = {}\n",
    "    for num in numbers:\n",
    "        if num in frequency:\n",
    "            frequency[num] += 1\n",
    "        else: \n",
    "            frequency[num] = 1\n",
    "    return frequency\n",
    "\n",
    "nums = [1, 2, 3, 2, 1, 3, 2, 4, 5, 4]\n",
    "frequency_count = count_frequency(nums)\n",
    "print(frequency_count)"
   ]
  },
  {
   "cell_type": "markdown",
   "metadata": {},
   "source": [
    "Question 6: Write a Python program to check if a number is prime."
   ]
  },
  {
   "cell_type": "code",
   "execution_count": 14,
   "metadata": {},
   "outputs": [
    {
     "name": "stdout",
     "output_type": "stream",
     "text": [
      "17 is a prime number\n"
     ]
    }
   ],
   "source": [
    "def is_prime(number):\n",
    "    if number < 2:\n",
    "        return False\n",
    "    for i in range(2, int(number**0.5) + 1):\n",
    "        if number % i == 0:\n",
    "            return False\n",
    "    return True \n",
    "\n",
    "# Test the function \n",
    "num = 17\n",
    "if is_prime(num):\n",
    "    print(f\"{num} is a prime number\")\n",
    "else:    \n",
    "    print(f\"{num} is not a prime number\")"
   ]
  },
  {
   "cell_type": "markdown",
   "metadata": {},
   "source": [
    "Question 7: Write a Python program to find the common elements between two lists."
   ]
  },
  {
   "cell_type": "code",
   "execution_count": 15,
   "metadata": {},
   "outputs": [
    {
     "name": "stdout",
     "output_type": "stream",
     "text": [
      "[4, 5]\n"
     ]
    }
   ],
   "source": [
    "def find_common_elements(list1, list2):\n",
    "    common_elements = []\n",
    "    for item in list1:\n",
    "        if item in list2:\n",
    "            common_elements.append(item) \n",
    "    return common_elements \n",
    "\n",
    "list_a = [1, 2, 3, 4, 5]\n",
    "list_b = [4, 5, 6, 7, 8]\n",
    "common = find_common_elements(list_a, list_b)\n",
    "print(common)"
   ]
  },
  {
   "cell_type": "markdown",
   "metadata": {},
   "source": [
    "Question 8: Write a Python program to sort a list of elements using the bubble sort algorithm."
   ]
  },
  {
   "cell_type": "code",
   "execution_count": 16,
   "metadata": {},
   "outputs": [
    {
     "name": "stdout",
     "output_type": "stream",
     "text": [
      "[1, 2, 5, 8, 9]\n"
     ]
    }
   ],
   "source": [
    "def bubble_sort(elements):\n",
    "    n = len(elements)\n",
    "    for i in range(n - 1):\n",
    "        for j in range(n - i - 1):\n",
    "            if elements[j] > elements[j + 1]:\n",
    "                elements[j], elements[j + 1] = elements[j + 1], elements[j]\n",
    "\n",
    "# Test the function\n",
    "nums = [5, 2, 8, 1, 9]\n",
    "bubble_sort(nums)\n",
    "print(nums)"
   ]
  },
  {
   "cell_type": "markdown",
   "metadata": {},
   "source": [
    "Question 9: Write a Python program to find the second largest number in a list."
   ]
  },
  {
   "cell_type": "code",
   "execution_count": 13,
   "metadata": {},
   "outputs": [
    {
     "name": "stdout",
     "output_type": "stream",
     "text": [
      "The second largest number is 10\n"
     ]
    }
   ],
   "source": [
    "def find_second_largest(numbers):\n",
    "    largest = float('-inf')\n",
    "    second_largest = float('-inf')\n",
    "    for num in numbers:\n",
    "        if num > largest:\n",
    "            second_largest = largest\n",
    "            largest = num\n",
    "        elif num > second_largest and num != largest:\n",
    "            second_largest = num\n",
    "    return second_largest\n",
    "\n",
    "# Test the function\n",
    "nums = [10, 5, 8, 20, 3]\n",
    "second_largest_num = find_second_largest(nums)\n",
    "print(f\"The second largest number is {second_largest_num}\")"
   ]
  },
  {
   "cell_type": "markdown",
   "metadata": {},
   "source": [
    "Question 10: Write a Python program to remove duplicates from a list."
   ]
  },
  {
   "cell_type": "code",
   "execution_count": 15,
   "metadata": {},
   "outputs": [
    {
     "name": "stdout",
     "output_type": "stream",
     "text": [
      "[1, 2, 3, 4, 5]\n"
     ]
    }
   ],
   "source": [
    "def remove_duplicates(numbers):\n",
    "    unique_numbers = []\n",
    "    for num in numbers:\n",
    "        if num not in unique_numbers:\n",
    "            unique_numbers.append(num)\n",
    "    return unique_numbers\n",
    "\n",
    "# Test the function\n",
    "nums = [1, 2, 3, 2, 1, 3, 2, 4, 5, 4]\n",
    "unique_nums = remove_duplicates(nums)\n",
    "print(f\"{unique_nums}\")"
   ]
  },
  {
   "cell_type": "markdown",
   "metadata": {},
   "source": [
    "## Blind75"
   ]
  },
  {
   "cell_type": "markdown",
   "metadata": {},
   "source": [
    "### Best Time to Buy and Sell"
   ]
  },
  {
   "cell_type": "code",
   "execution_count": null,
   "metadata": {},
   "outputs": [
    {
     "name": "stdout",
     "output_type": "stream",
     "text": [
      "Maximum Profit: 5\n"
     ]
    }
   ],
   "source": [
    "from typing import List\n",
    "# Corrected function without 'self'\n",
    "def maxProfit(prices: List[int]) -> int: \n",
    "    profit = 0\n",
    "    buy = prices[0]\n",
    "\n",
    "    for p in prices: \n",
    "        buy = min(buy, p)\n",
    "        profit = max(profit, p - buy)\n",
    "    return profit \n",
    "\n",
    "prices = [7, 1, 5, 3, 6, 4]  # Example input\n",
    "result = maxProfit(prices)\n",
    "print(f\"Maximum Profit: {result}\")"
   ]
  },
  {
   "cell_type": "markdown",
   "metadata": {},
   "source": [
    "### Binary Search"
   ]
  },
  {
   "cell_type": "code",
   "execution_count": 2,
   "metadata": {},
   "outputs": [
    {
     "name": "stdout",
     "output_type": "stream",
     "text": [
      "4\n"
     ]
    }
   ],
   "source": [
    "from typing import List\n",
    "\n",
    "def search(nums: List[int], target: int) -> int:  \n",
    "    l, r = 0, len(nums) - 1 \n",
    "    while l <= r:  \n",
    "        i = l + (r - l) // 2  # Calculate the middle index\n",
    "        n = nums[i]  # Get the middle element\n",
    "        if target > n:  \n",
    "            l = i + 1\n",
    "        elif target < n:  \n",
    "            r = i - 1\n",
    "        else:\n",
    "            return i \n",
    "    return -1  \n",
    "\n",
    "nums = [-1, 0, 3, 5, 9, 12]\n",
    "target = 9\n",
    "\n",
    "result = search(nums, target)\n",
    "print(result)  "
   ]
  },
  {
   "cell_type": "code",
   "execution_count": 3,
   "metadata": {},
   "outputs": [],
   "source": [
    "from collections import deque\n",
    "\n",
    "def canFinish(numCourses: int, prerequisites):\n",
    "    # Build adjacency list\n",
    "    indegree = [0] * numCourses\n",
    "    adj = [[] for _ in range(numCourses)]\n",
    "    \n",
    "    # Fill the adjacency list and calculate in-degrees\n",
    "    for src, dst in prerequisites:\n",
    "        indegree[dst] += 1\n",
    "        adj[src].append(dst)\n",
    "    \n",
    "    # Initialize queue with nodes that have no prerequisites (indegree == 0)\n",
    "    q = deque()\n",
    "    for n in range(numCourses):\n",
    "        if indegree[n] == 0:\n",
    "            q.append(n)\n",
    "    \n",
    "    # Process nodes in topological order\n",
    "    while q:\n",
    "        node = q.popleft()\n",
    "        for nei in adj[node]:\n",
    "            indegree[nei] -= 1\n",
    "            if indegree[nei] == 0:\n",
    "                q.append(nei)\n",
    "    \n",
    "    # If all nodes' indegree become zero, it means there are no cycles\n",
    "    return sum(indegree) == 0\n"
   ]
  },
  {
   "cell_type": "code",
   "execution_count": 22,
   "metadata": {},
   "outputs": [
    {
     "name": "stdout",
     "output_type": "stream",
     "text": [
      "4\n"
     ]
    }
   ],
   "source": [
    "#Question rotten oranges \n",
    "from collections import deque\n",
    "from typing import List\n",
    "\n",
    "def orangesRotting(self, grid: List[List[int]]) -> int:\n",
    "    q = deque()\n",
    "    fresh = 0\n",
    "    rows, cols = len(grid), len(grid[0])\n",
    "\n",
    "    for r in range(rows):\n",
    "        for c in range(cols):\n",
    "            if grid[r][c] == 1:\n",
    "                fresh += 1\n",
    "            if grid[r][c] == 2:\n",
    "                q.append((r, c))\n",
    "\n",
    "    # Directions for adjacent cells (up, down, left, right)\n",
    "    directions = [(0, 1), (0, -1), (1, 0), (-1, 0)]\n",
    "    time = 0\n",
    "\n",
    "    # BFS to spread the rot to adjacent fresh oranges\n",
    "    while fresh > 0 and q:\n",
    "        time += 1\n",
    "        for i in range(len(q)):\n",
    "            r, c = q.popleft()\n",
    "            # Check all 4 directions\n",
    "            for dr, dc in directions:\n",
    "                nr, nc = r + dr, c + dc\n",
    "                # If the adjacent orange is fresh, it becomes rotten\n",
    "                if 0 <= nr < rows and 0 <= nc < cols and grid[nr][nc] == 1:\n",
    "                    grid[nr][nc] = 2\n",
    "                    fresh -= 1\n",
    "                    q.append((nr, nc))\n",
    "\n",
    "    # If there are still fresh oranges left, return -1\n",
    "    return time if fresh == 0 else -1\n",
    "\n",
    "# Example usage:\n",
    "grid = [\n",
    "    [2, 1, 1],\n",
    "    [1, 1, 0],\n",
    "    [0, 1, 1]\n",
    "]\n",
    "\n",
    "# Create an instance or use as a static method\n",
    "result = orangesRotting(None, grid)\n",
    "print(result)  # Output: 4\n",
    "\n"
   ]
  },
  {
   "cell_type": "code",
   "execution_count": 4,
   "metadata": {},
   "outputs": [],
   "source": [
    "#Happy Number: Using Cycle Detection\n",
    "class Solution: \n",
    "    def isHappy(n: int) -> bool: \n",
    "        def sum_of_squares(n): \n",
    "            res = 0\n",
    "            while n: \n",
    "                res += (n % 10) ** 2\n",
    "                n = n // 10\n",
    "            return res \n",
    "        \n",
    "        slow, fast = n, sum_of_squares(n)\n",
    "        while slow != fast: \n",
    "            slow = sum_of_squares(slow)\n",
    "            fast = sum_of_squares(sum_of_squares(fast))\n",
    "        return True if slow == 1 else False "
   ]
  },
  {
   "cell_type": "code",
   "execution_count": null,
   "metadata": {},
   "outputs": [
    {
     "name": "stdout",
     "output_type": "stream",
     "text": [
      "True\n"
     ]
    }
   ],
   "source": [
    "#Eating fresh lemonade change\n",
    "from typing import List\n",
    "\n",
    "def lemonadeChange(self, bills: List[int]) -> bool:\n",
    "    five, ten = 0, 0\n",
    "    \n",
    "    for b in bills:\n",
    "        if b == 5:\n",
    "            five += 1\n",
    "        elif b == 10:\n",
    "            if five > 0:\n",
    "                five -= 1\n",
    "                ten += 1\n",
    "            else:\n",
    "                return False\n",
    "        elif b == 20:\n",
    "            if ten > 0 and five > 0:\n",
    "                ten -= 1\n",
    "                five -= 1\n",
    "            elif five >= 3:\n",
    "                five -= 3\n",
    "            else:\n",
    "                return False\n",
    "    \n",
    "    return True\n",
    "\n",
    "# Example Usage\n",
    "customers = [5, 5, 5, 10, 20]\n",
    "result = lemonadeChange(None, customers)\n",
    "print(result)"
   ]
  },
  {
   "cell_type": "code",
   "execution_count": 1,
   "metadata": {},
   "outputs": [
    {
     "name": "stdout",
     "output_type": "stream",
     "text": [
      "49\n"
     ]
    }
   ],
   "source": [
    "# Container with most water\n",
    "# Done\n",
    "\n",
    "from typing import List\n",
    "\n",
    "def maxArea(heights: List[int]) -> int:\n",
    "    l, r = 0, len(heights) - 1 \n",
    "    res = 0  # Initialize the result variable\n",
    "    while l < r:\n",
    "        res = max(res, min(heights[l], heights[r]) * (r - l))\n",
    "        if heights[l] < heights[r]:\n",
    "            l += 1\n",
    "        else:\n",
    "            r -= 1\n",
    "            \n",
    "    return res\n",
    "\n",
    "heights = [1,8,6,2,5,4,8,3,7]\n",
    "print(maxArea(heights))  "
   ]
  },
  {
   "cell_type": "code",
   "execution_count": 2,
   "metadata": {},
   "outputs": [
    {
     "name": "stdout",
     "output_type": "stream",
     "text": [
      "Given list of numbers is [2, 3, 4, 5]\n",
      "The target result is 8\n",
      "Thus, the answer is [2, 4]\n"
     ]
    }
   ],
   "source": [
    "from typing import List\n",
    "\n",
    "class Solution:\n",
    "    def twoSum(self, numbers: List[int], target: int) -> List[int]: \n",
    "        l, r = 0, len(numbers) - 1 \n",
    "        \n",
    "        while l < r:\n",
    "            curSum = numbers[l] + numbers[r]  # Calculate current sum\n",
    "            \n",
    "            if curSum > target:\n",
    "                r -= 1  \n",
    "            elif curSum < target:\n",
    "                l += 1  \n",
    "            else:\n",
    "                return [l + 1, r + 1]  \n",
    "        return [] \n",
    "    \n",
    "nums = [2, 3, 4, 5]\n",
    "result = 8\n",
    "\n",
    "my_solution = Solution()\n",
    "answer = my_solution.twoSum(nums, result)\n",
    "\n",
    "print(f\"Given list of numbers is {nums}\")\n",
    "print(f\"The target result is {result}\")\n",
    "print(f\"Thus, the answer is {answer}\")            "
   ]
  },
  {
   "cell_type": "code",
   "execution_count": 6,
   "metadata": {},
   "outputs": [],
   "source": [
    "from typing import Optional, List\n",
    "from collections import deque\n",
    "\n",
    "# Definition for a binary tree node.\n",
    "class TreeNode:\n",
    "    def __init__(self, val=0, left=None, right=None):\n",
    "        self.val = val\n",
    "        self.left = left\n",
    "        self.right = right\n",
    "\n",
    "class Solution:\n",
    "    def rightSideView(self, root: Optional[TreeNode]) -> List[int]:\n",
    "        res = []\n",
    "        if not root:\n",
    "            return res\n",
    "        \n",
    "        q = deque([root])  # Initialize the deque with the root node\n",
    "        \n",
    "        while q:\n",
    "            last = None\n",
    "            for i in range(len(q)):\n",
    "                node = q.popleft()\n",
    "                if node:\n",
    "                    last = node  # Track the last node at the current level\n",
    "                    if node.left:\n",
    "                        q.append(node.left)\n",
    "                    if node.right:\n",
    "                        q.append(node.right)\n",
    "            \n",
    "            if last:\n",
    "                res.append(last.val)  # Add the last node's value to the result list\n",
    "                \n",
    "        return res\n",
    "\n",
    "root = TreeNode(1)\n",
    "root.left = TreeNode(2)\n",
    "root.right = TreeNode(3)\n",
    "root.left.left = TreeNode(4)\n",
    "root.left.right = TreeNode(5)\n",
    "root.right.right = TreeNode(6)\n"
   ]
  },
  {
   "cell_type": "code",
   "execution_count": 3,
   "metadata": {},
   "outputs": [
    {
     "name": "stdout",
     "output_type": "stream",
     "text": [
      "[[2, 2, 3], [7]]\n"
     ]
    }
   ],
   "source": [
    "# Combination Sum - Backtracking\n",
    "from typing import List \n",
    "\n",
    "class Solution: \n",
    "    def combinationSum(self, candidates: List[int], target: int) -> List[List[int]]: \n",
    "        res = []\n",
    "        \n",
    "        def dfs(i, cur, total): \n",
    "            if total == target: \n",
    "                res.append(cur.copy())\n",
    "                return\n",
    "            if i >= len(candidates) or total > target: \n",
    "                return \n",
    "            cur.append(candidates[i])\n",
    "            dfs(i, cur, total + candidates[i])\n",
    "            cur.pop()\n",
    "            dfs(i + 1, cur, total)\n",
    "        \n",
    "        dfs(0, [], 0)\n",
    "        return res \n",
    "\n",
    "my_solution = Solution()\n",
    "candidates = [2, 3, 6, 7]\n",
    "target = 7\n",
    "print(my_solution.combinationSum(candidates, target))"
   ]
  },
  {
   "cell_type": "code",
   "execution_count": 4,
   "metadata": {},
   "outputs": [
    {
     "name": "stdout",
     "output_type": "stream",
     "text": [
      "8\n"
     ]
    }
   ],
   "source": [
    "# climbstairs solution\n",
    "# Done \n",
    "class Solution: \n",
    "    def climbStairs(self, n: int) -> int: \n",
    "        one, two = 1, 1\n",
    "        for i in range(n - 1): \n",
    "            temp = one \n",
    "            one = one + two \n",
    "            two = temp \n",
    "        return one  # Return 'one' instead of 'two' to get correct result\n",
    "    \n",
    "my_solution = Solution()\n",
    "n = 5\n",
    "print(my_solution.climbStairs(n))  # Output: 8"
   ]
  },
  {
   "cell_type": "code",
   "execution_count": 5,
   "metadata": {},
   "outputs": [
    {
     "name": "stdout",
     "output_type": "stream",
     "text": [
      "2\n"
     ]
    }
   ],
   "source": [
    "## Coin Change: Greedy ? [1, 3, 4, 5] Amount \n",
    "# for this use DFS Backtracking \n",
    "# [1, 3, 4, 5] Amount = 7\n",
    "\n",
    "from typing import List\n",
    "\n",
    "class Solution:\n",
    "    def coinChange(self, coins: List[int], amount: int) -> int:\n",
    "        # To store the minimum number of coins\n",
    "        self.result = float('inf')\n",
    "\n",
    "        def dfs(remaining_amount, count):\n",
    "            if remaining_amount == 0:\n",
    "                self.result = min(self.result, count)\n",
    "                return\n",
    "            if remaining_amount < 0:\n",
    "                return\n",
    "            for coin in coins:\n",
    "                dfs(remaining_amount - coin, count + 1)\n",
    "        dfs(amount, 0)\n",
    "        return self.result if self.result != float('inf') else -1\n",
    "\n",
    "# Example test case:\n",
    "coins = [1, 3, 4, 5]\n",
    "amount = 7\n",
    "my_solution = Solution()\n",
    "print(my_solution.coinChange(coins, amount))  # Output: 2 (3+4 or 4+3)\n"
   ]
  },
  {
   "cell_type": "code",
   "execution_count": 6,
   "metadata": {},
   "outputs": [
    {
     "name": "stdout",
     "output_type": "stream",
     "text": [
      "The length of the longest increasing subsequence is: 3\n"
     ]
    }
   ],
   "source": [
    "## Longest Increasing Subsequence \n",
    "## 1st step: Brute - Force - DFS \n",
    "## 2nd step: DFS - With Code \n",
    "## [1, 2, 4, 3]\n",
    "# Done \n",
    "from typing import List\n",
    "\n",
    "class Solution: \n",
    "    def lengthOfLIS(self, nums: List[int]) -> int: \n",
    "        LIS = [1] * len(nums)\n",
    "        \n",
    "        # Traverse the list from right to left\n",
    "        for i in range(len(nums) - 1, -1, -1): \n",
    "            for j in range(i + 1, len(nums)): \n",
    "                if nums[i] < nums[j]:  # If a smaller element is found at the right of nums[i]\n",
    "                    LIS[i] = max(LIS[i], 1 + LIS[j])  # Update LIS at i\n",
    "        return max(LIS)\n",
    "\n",
    "# Example usage\n",
    "nums = [1, 2, 4, 3]\n",
    "result = Solution().lengthOfLIS(nums)\n",
    "print(f\"The length of the longest increasing subsequence is: {result}\")  # Expected output: 3\n"
   ]
  },
  {
   "cell_type": "code",
   "execution_count": 7,
   "metadata": {},
   "outputs": [
    {
     "name": "stdout",
     "output_type": "stream",
     "text": [
      "3\n"
     ]
    }
   ],
   "source": [
    "class Solution:\n",
    "    def longestCommonSubsequence(self, text1: str, text2: str) -> int:\n",
    "        # Initialize the DP table with zeros\n",
    "        dp = [[0 for _ in range(len(text2) + 1)] for _ in range(len(text1) + 1)]\n",
    "        \n",
    "        # Fill the DP table from the bottom-right corner\n",
    "        for i in range(len(text1) - 1, -1, -1):\n",
    "            for j in range(len(text2) - 1, -1, -1):\n",
    "                if text1[i] == text2[j]:\n",
    "                    dp[i][j] = 1 + dp[i + 1][j + 1]\n",
    "                else:\n",
    "                    dp[i][j] = max(dp[i][j + 1], dp[i + 1][j])\n",
    "        \n",
    "        # The result is in the top-left cell of the DP table\n",
    "        return dp[0][0]\n",
    "\n",
    "# Example usage:\n",
    "solution = Solution()\n",
    "text1 = \"abcde\"\n",
    "text2 = \"ace\"\n",
    "result = solution.longestCommonSubsequence(text1, text2)\n",
    "print(result)  # Output: 3\n"
   ]
  },
  {
   "cell_type": "code",
   "execution_count": 8,
   "metadata": {},
   "outputs": [
    {
     "name": "stdout",
     "output_type": "stream",
     "text": [
      "True\n",
      "True\n",
      "False\n"
     ]
    }
   ],
   "source": [
    "from typing import List\n",
    "\n",
    "class Solution:\n",
    "    def wordBreak(self, s: str, wordDict: List[str]) -> bool:\n",
    "        dp = [False] * (len(s) + 1)\n",
    "        dp[len(s)] = True\n",
    "        for i in range(len(s) - 1, -1, -1):\n",
    "            for w in wordDict:\n",
    "                if (i + len(w)) <= len(s) and s[i:i + len(w)] == w:\n",
    "                    dp[i] = dp[i + len(w)]\n",
    "                if dp[i]:\n",
    "                    break  # Break if a valid word is found for dp[i]\n",
    "        return dp[0]\n",
    "\n",
    "# Test cases\n",
    "sol = Solution()\n",
    "# Test case 1\n",
    "s = \"leetcode\"\n",
    "wordDict = [\"leet\", \"code\"]\n",
    "print(sol.wordBreak(s, wordDict))  # Expected: True\n",
    "# Test case 2\n",
    "s = \"applepenapple\"\n",
    "wordDict = [\"apple\", \"pen\"]\n",
    "print(sol.wordBreak(s, wordDict))  # Expected: True\n",
    "# Test case 3\n",
    "s = \"catsandog\"\n",
    "wordDict = [\"cats\", \"dog\", \"sand\", \"and\", \"cat\"]\n",
    "print(sol.wordBreak(s, wordDict))  # Expected: False\n"
   ]
  },
  {
   "cell_type": "code",
   "execution_count": 9,
   "metadata": {},
   "outputs": [],
   "source": [
    "## Combination Sum - Backtracking - Leetcode 39 - Python  \n",
    "# Done \n",
    "from typing import List\n",
    "class Solution: \n",
    "    def combinationSum(self, candidates: List[int], target) -> int: \n",
    "        res = []\n",
    "        \n",
    "        def dfs(i, cur, total): \n",
    "            if total == target: \n",
    "                res.respond(cur.copy)\n",
    "                return\n",
    "            if i >= len(candidates) or total > target: \n",
    "                return \n",
    "            \n",
    "            cur.append(candidates[i])\n",
    "            dfs(i, cur, total + candidates[i])\n",
    "            cur.pop()\n",
    "            dfs(i + 1, cur, total)\n",
    "            \n",
    "        dfs(0, [], 0)\n",
    "        \n",
    "        return res "
   ]
  },
  {
   "cell_type": "code",
   "execution_count": null,
   "metadata": {},
   "outputs": [],
   "source": [
    "## House Robber - Leetcode 198 - Python Dynamic Programming\n",
    "# Done \n",
    "class Solution: \n",
    "    def rob(self, nums: List[int]) -> int: \n",
    "        rob1, rob2 = 0, 0\n",
    "        for n in nums: \n",
    "            temp = max(n + rob1, rob2)\n",
    "            rob1 = rob2 \n",
    "            rob2 = temp \n",
    "        return rob2 "
   ]
  },
  {
   "cell_type": "code",
   "execution_count": 2,
   "metadata": {},
   "outputs": [],
   "source": [
    "## House Robber II - Dynamic Programming - Leetcode 213\n",
    "# Done \n",
    "class Solution: \n",
    "    def rob(self, nums: List[int]) ->int: \n",
    "        return max(nums[0], self.helper(nums[1:]), self.helper(nums[:-1]))\n",
    "        \n",
    "    def helper(self, nums): \n",
    "        rob1, rob2 = 0, 0\n",
    "        for n in nums: \n",
    "            newRob = max(rob1 + n, rob2)\n",
    "            rob1 = rob2 \n",
    "            rob2 = newRob \n",
    "        \n",
    "        return rob2 "
   ]
  },
  {
   "cell_type": "code",
   "execution_count": null,
   "metadata": {},
   "outputs": [],
   "source": [
    "## Decode Ways - Dynamic Programming - Leetcode 91 - Python\n",
    "class Solution: \n",
    "    def numDecodings(self, s: str) -> int: \n",
    "        dp = { len(s) : 1 }\n",
    "        def dfs(i): \n",
    "            if i in dp: \n",
    "                return dp[i]\n",
    "            if s[i] == \"0\": \n",
    "                return 0\n",
    "                \n",
    "            \n",
    "            res = dfs(i + 1)\n",
    "            if (i + 1 < len(s) and (s[i] == \"1\" or s[i] == \"2\" and s[i + 1] in \"012346\")):\n",
    "                res += dfs(i + 2)\n",
    "            dp[i] = res\n",
    "            return res \n",
    "        \n",
    "        return dfs(0) "
   ]
  },
  {
   "cell_type": "code",
   "execution_count": null,
   "metadata": {},
   "outputs": [],
   "source": [
    "## Unique Paths - Dynamic Programming - Leetcode 62\n",
    "# Done \n",
    "class Solution: \n",
    "    def uniquePaths(self, m: int, n: int) -> int: \n",
    "        row = [1] * n\n",
    "        for i in range(m - 1):\n",
    "            newRow = [1] * n\n",
    "            for j in range(n - 2, -1, -1): \n",
    "                newRow[j] = newRow[j + 1] + row[j]\n",
    "            row = newRow\n",
    "        return row "
   ]
  },
  {
   "cell_type": "code",
   "execution_count": null,
   "metadata": {},
   "outputs": [],
   "source": [
    "## Jump Game - DP - Greedy - Leetcode 55\n",
    "# Done \n",
    "class Solution: \n",
    "    def canJump(self, nums: List[int]) ->bool: \n",
    "        goal = len(nums) - 1 \n",
    "        for i in range(len(nums) -1, -1, -1): \n",
    "            if i + nums[i] >= goal: \n",
    "                goal = i \n",
    "        \n",
    "        return True if goal == 0 else False "
   ]
  },
  {
   "cell_type": "markdown",
   "metadata": {},
   "source": [
    "## DSA - Based Algorithms"
   ]
  },
  {
   "cell_type": "markdown",
   "metadata": {},
   "source": [
    "# Todo list most asked questions\n",
    "1. Clone Graph - Depth First Search - Leetcode 133\n",
    "2. Merge Intervals - Leetcode 56\n",
    "3. Insert Interval : Leetcode 57 \n",
    "4. Reverse Linked List - Leetcode 206 \n",
    "5. Linked List Cycle - Leetcode 141 \n",
    "6. Rotate Image - Matrix - Leetcode 48\n",
    "7. Longest Substring Without Repeating Characters - Leetcode 3 - Python\n",
    "8. Valid Anagram - Leetcode 242 - Python\n",
    "9. Group Anagrams - Categorize Strings by Count - Leetcode 49\n",
    "10. Valid Parentheses - Stack - Leetcode 20 - Python \n",
    "11. Palindromic Substrings - Leetcode 647 - Python\n",
    "12. Same Tree - Leetcode 100 - Python"
   ]
  },
  {
   "cell_type": "code",
   "execution_count": 8,
   "metadata": {},
   "outputs": [],
   "source": [
    "## Clone Graph - Depth First Search - Leetcode 133\n",
    "class Node:\n",
    "    def __init__(self, val=0, neighbours=None):\n",
    "        self.val = val\n",
    "        self.neighbours = neighbours if neighbours is not None else []\n",
    "\n",
    "class Solution:\n",
    "    def cloneGraph(self, node: 'Node') -> 'Node':\n",
    "        if not node:\n",
    "            return None\n",
    "        oldToNew = {}\n",
    "        def dfs(node):\n",
    "            if node in oldToNew:\n",
    "                return oldToNew[node]\n",
    "            copy = Node(node.val)\n",
    "            oldToNew[node] = copy\n",
    "            for nei in node.neighbours:\n",
    "                copy.neighbours.append(dfs(nei))\n",
    "            return copy\n",
    "        return dfs(node)"
   ]
  },
  {
   "cell_type": "code",
   "execution_count": 9,
   "metadata": {},
   "outputs": [],
   "source": [
    "# Number of Islands - Leetcode - 200\n",
    "# Approach  - BFS/DFS to find the connected components\n",
    "from typing import List\n",
    "import collections\n",
    "\n",
    "class Solution:\n",
    "    def numIslands(self, grid: List[List[str]]) -> int:\n",
    "        if not grid:\n",
    "            return 0\n",
    "\n",
    "        rows, cols = len(grid), len(grid[0])\n",
    "        visit = set()\n",
    "        islands = 0\n",
    "\n",
    "        def bfs(r, c):\n",
    "            q = collections.deque()\n",
    "            visit.add((r, c))\n",
    "            q.append((r, c))\n",
    "\n",
    "            while q:\n",
    "                row, col = q.popleft()\n",
    "                directions = [[1, 0], [-1, 0], [0, 1], [0, -1]]\n",
    "                for dr, dc in directions:\n",
    "                    nr, nc = row + dr, col + dc\n",
    "                    if (\n",
    "                        nr in range(rows)\n",
    "                        and nc in range(cols)\n",
    "                        and grid[nr][nc] == \"1\"\n",
    "                        and (nr, nc) not in visit\n",
    "                    ):\n",
    "                        q.append((nr, nc))\n",
    "                        visit.add((nr, nc))\n",
    "\n",
    "        for r in range(rows):\n",
    "            for c in range(cols):\n",
    "                if grid[r][c] == \"1\" and (r, c) not in visit:\n",
    "                    bfs(r, c)\n",
    "                    islands += 1\n",
    "\n",
    "        return islands\n"
   ]
  },
  {
   "cell_type": "code",
   "execution_count": 14,
   "metadata": {},
   "outputs": [
    {
     "name": "stdout",
     "output_type": "stream",
     "text": [
      "wertf\n"
     ]
    }
   ],
   "source": [
    "from typing import List\n",
    "\n",
    "class Solution:\n",
    "    def alienOrder(self, words: List[str]) -> str:\n",
    "        # Step 1: Build adjacency list\n",
    "        adj = {c: set() for w in words for c in w}\n",
    "\n",
    "        for i in range(len(words) - 1):\n",
    "            w1, w2 = words[i], words[i + 1]\n",
    "            minLen = min(len(w1), len(w2))\n",
    "            # Check for invalid case like [\"abc\", \"ab\"]\n",
    "            if len(w1) > len(w2) and w1[:minLen] == w2[:minLen]:\n",
    "                return \"\"\n",
    "            for j in range(minLen):\n",
    "                if w1[j] != w2[j]:\n",
    "                    adj[w1[j]].add(w2[j])\n",
    "                    break\n",
    "\n",
    "        # Step 2: Topological sort using DFS\n",
    "        visit = {}  # True = visited and on path, False = visited and done\n",
    "        res = []\n",
    "\n",
    "        def dfs(c):\n",
    "            if c in visit:\n",
    "                return visit[c]  # If True, cycle found\n",
    "            visit[c] = True\n",
    "            for nei in adj[c]:\n",
    "                if dfs(nei):\n",
    "                    return True\n",
    "            visit[c] = False\n",
    "            res.append(c)\n",
    "            return False\n",
    "\n",
    "        for c in adj:\n",
    "            if dfs(c):\n",
    "                return \"\"\n",
    "\n",
    "        return \"\".join(res[::-1])\n",
    "\n",
    "sol = Solution()\n",
    "print(sol.alienOrder([\"wrt\",\"wrf\",\"er\",\"ett\",\"rftt\"]))  # Output: \"wertf\"\n"
   ]
  },
  {
   "cell_type": "code",
   "execution_count": null,
   "metadata": {},
   "outputs": [],
   "source": [
    "# Merge Intervals - Leetcode 56\n",
    "# Approach: Sort intervals and merge the overlapping ones\n",
    "# Done \n",
    "\n",
    "from typing import List\n",
    "\n",
    "class Solution:\n",
    "    def merge(self, intervals: List[List[int]]) -> List[List[int]]:\n",
    "        intervals.sort(key=lambda i: i[0])\n",
    "        output = [intervals[0]]\n",
    "\n",
    "        for start, end in intervals[1:]:\n",
    "            lastEnd = output[-1][1]\n",
    "            if start <= lastEnd:\n",
    "                output[-1][1] = max(lastEnd, end)\n",
    "            else:\n",
    "                output.append([start, end])\n",
    "\n",
    "        return output\n"
   ]
  },
  {
   "cell_type": "code",
   "execution_count": null,
   "metadata": {},
   "outputs": [],
   "source": [
    "# Insert Interval : Leetcode 57 \n",
    "# Approach: Iterate through intervals and merge through the overlaps \n",
    "from typing import List\n",
    "class Solution:\n",
    "    def insert(self, intervals: List[List[int]], newInterval: List[int]) -> List[List[int]]:\n",
    "        res = []\n",
    "        for i in range(len(intervals)):\n",
    "            if newInterval[1] < intervals[i][0]:\n",
    "                res.append(newInterval)\n",
    "                return res + intervals[i:]\n",
    "            elif newInterval[0] > intervals[i][1]:\n",
    "                res.append(intervals[i])\n",
    "            else:\n",
    "                newInterval = [\n",
    "                    min(newInterval[0], intervals[i][0]),\n",
    "                    max(newInterval[1], intervals[i][1]),\n",
    "                ]\n",
    "        res.append(newInterval)\n",
    "        return res"
   ]
  },
  {
   "cell_type": "code",
   "execution_count": 1,
   "metadata": {},
   "outputs": [],
   "source": [
    "# Reverse Linked List - Leetcode 206 \n",
    "# Approach: Recursively and iteratively code the reversal of the given linked list based on the edge cases\n",
    "# Done \n",
    "class ListNode:\n",
    "    def __init__(self, val=0, next=None):\n",
    "        self.val = val\n",
    "        self.next = next\n",
    "\n",
    "class Solution:\n",
    "    def reverseList(self, head: ListNode) -> ListNode:\n",
    "        if not head or not head.next:\n",
    "            return head\n",
    "        newHead = self.reverseList(head.next)\n",
    "        head.next.next = head\n",
    "        head.next = None\n",
    "        return newHead"
   ]
  },
  {
   "cell_type": "code",
   "execution_count": null,
   "metadata": {},
   "outputs": [],
   "source": [
    "# Linked List Cycle - Leetcode 141 \n",
    "# Approach: Floyd`s Tortoise and Hare algorithm to detect the cycle in a linked list\n",
    "# Done \n",
    "class ListNode:\n",
    "    def __init__(self, val=0, next=None):\n",
    "        self.val = val\n",
    "        self.next = next\n",
    "\n",
    "class Solution:\n",
    "    def hasCycle(self, head: ListNode) -> bool:\n",
    "        slow, fast = head, head\n",
    "        while fast and fast.next:\n",
    "            slow = slow.next\n",
    "            fast = fast.next.next\n",
    "            if slow == fast:\n",
    "                return True\n",
    "        return False"
   ]
  },
  {
   "cell_type": "code",
   "execution_count": null,
   "metadata": {},
   "outputs": [],
   "source": [
    "# Definition for singly linked list\n",
    "class ListNode: \n",
    "    def __init__(self, val = 0, next = None): \n",
    "        self.val = val \n",
    "        self.next = next \n",
    "\n",
    "class Solution: \n",
    "    def removeNthFromEnd(self, head: ListNode, n: int) -> ListNode: \n",
    "        dummy = ListNode(0, head)\n",
    "        left = dummy \n",
    "        right = head \n",
    "        \n",
    "        while n > 0 and right: \n",
    "            right = right.next \n",
    "            n -= 1 \n",
    "        \n",
    "        while right: \n",
    "            left = left.next \n",
    "            right = right.next \n",
    "            \n",
    "        left.next = left.next.next\n",
    "        return dummy.next "
   ]
  },
  {
   "cell_type": "code",
   "execution_count": null,
   "metadata": {},
   "outputs": [],
   "source": [
    "# Linkedin Interview Question - Reorder List - Leetcode 143 - Python\n",
    "class ListNode:\n",
    "    def __init__(self, x):\n",
    "        self.val = x\n",
    "        self.next = next \n",
    "         \n",
    "class Solution: \n",
    "    def reorderList(self, head: ListNode) -> None: \n",
    "        slow, fast = head, head.next \n",
    "        while fast and fast.next: \n",
    "            slow = slow.next \n",
    "            fast = fast.next.next \n",
    "            \n",
    "        second = slow.next\n",
    "        prev = slow.next = None \n",
    "        while second: \n",
    "            tmp = second.next \n",
    "            second.next = prev \n",
    "            prev = second \n",
    "            second = tmp \n",
    "        \n",
    "        first, second = head, prev \n",
    "        while second: \n",
    "            tmp1, tmp2 = first.next, second.next \n",
    "            first.next = second\n",
    "            second.next \n",
    "            tmp1 \n",
    "            first, second = tmp1,tmp2 \n",
    "            "
   ]
  },
  {
   "cell_type": "code",
   "execution_count": null,
   "metadata": {},
   "outputs": [],
   "source": [
    "\n",
    "# Set Matrix Zeroes - In-place - Leetcode 73\n",
    "class Solution: \n",
    "    def setZeroes(self, matrix: List[List[int]]) -> None: \n",
    "        ROWS, COLS = len(matrix), len(matrix[0])\n",
    "        rowZero = False \n",
    "        for r in range(ROWS): \n",
    "            for c in range(COLS):\n",
    "                if matrix[r][c] == 0: \n",
    "                    matrix[0][c] = 0\n",
    "                    if r > 0: \n",
    "                        matrix[r][0] = 0\n",
    "                    else: \n",
    "                        rowZero = True \n",
    "                        \n",
    "        for r in range(1, ROWS): \n",
    "            for c in range(1, COLS): \n",
    "                if matrix[0][r] == 0 or matrix[r][0] == 0:\n",
    "                    matrix[r][c]\n",
    "        \n",
    "        if matrix[0][0] == 0: \n",
    "            for r in range(ROWS):\n",
    "                matrix[r][0] = 0\n",
    "        \n",
    "        if rowZero: \n",
    "            for c in range(COLS): \n",
    "                matrix[0][c] = 0"
   ]
  },
  {
   "cell_type": "code",
   "execution_count": null,
   "metadata": {},
   "outputs": [],
   "source": [
    "# Spiral Matrix - Microsoft Interview Question - Leetcode 54\n",
    "class Solution: \n",
    "    def spiralOrder(self, matrix: List[List[int]]) -> List[int]: \n",
    "        res = []\n",
    "        left, right = 0, len(matrix[0])\n",
    "        top, bottom = 0, len(matrix)\n",
    "        \n",
    "        while left < right and top < bottom: \n",
    "            # get every i in the top row\n",
    "            for i in range(left, 4, right):\n",
    "                res.append(matrix[top][i])\n",
    "            top += 1\n",
    "            \n",
    "            # get every i in the right col \n",
    "            for i in range(top, bottom): \n",
    "                res.append(matrix[i][right - 1])\n",
    "            right -= 1 \n",
    "            if not (left < right and top < bottom): \n",
    "                break\n",
    "            \n",
    "            # get every in in the bottom row \n",
    "            for i in range(right - 1, left - 1, -1): \n",
    "                res.append(matrix[bottom - 1][i])\n",
    "            bottom -= 1 \n",
    "            \n",
    "            #get every i in the left col \n",
    "            for i in range(bottom - 1, top - 1, -1):\n",
    "                res.append(matrix[i][left])\n",
    "            left += 1\n",
    "        return res \n",
    "                "
   ]
  },
  {
   "cell_type": "code",
   "execution_count": null,
   "metadata": {},
   "outputs": [],
   "source": [
    "# Rotate Image - Matrix - Leetcode 48\n",
    "# two types of brute force optimizations with time complexities\n",
    "# (i) O(n^2)\n",
    "# (ii) O(1) (having the best edge case)\n",
    "\n",
    "class Solution: \n",
    "    def rotateImage(self, matrix: List[List[int]]) -> None:\n",
    "        l, r = 0, len(matrix) - 1\n",
    "        while l < r: \n",
    "            for i in range(r - l):\n",
    "                top, bottom = l, r\n",
    "                # save the topleft \n",
    "                topLeft = matrix[top][l + i]\n",
    "                # move bottom left into top left \n",
    "                matrix[top][l + i] = matrix[bottom - i][l]\n",
    "                # move bottom right into bottom left \n",
    "                matrix[bottom - i][l] = matrix[bottom][r - i]\n",
    "                \n",
    "                # move top right into bottom right \n",
    "                matrix[bottom][r - i] = matrix[top + i][r]\n",
    "                \n",
    "                # move top left into top right \n",
    "                matrix[top + i][r] = topLeft\n",
    "                \n",
    "            r -= 1 "
   ]
  },
  {
   "cell_type": "code",
   "execution_count": null,
   "metadata": {},
   "outputs": [],
   "source": [
    "# Word Search - Backtracking - Leetcode 79 - Python\n",
    "# Optimized solution uses backtracking for brute force approach     \n",
    "from typing import List\n",
    "class Solution: \n",
    "    def exist(self, board: List[List[int]], word: str) -> bool: \n",
    "        ROWS, COLS = len(board), len(board[0])\n",
    "        path = set()\n",
    "        def dfs(r, c, i): \n",
    "            if(i == len(word)): \n",
    "                return True \n",
    "            if(r < 0 or c < 0 or r >= ROWS or c >= COLS or word[i] != board[r][c] or (r, c) in path): \n",
    "                return False \n",
    "            \n",
    "            path.add((r, c))\n",
    "            res = (dfs(r+1, c, i+1) or\n",
    "            dfs(r - 1, c, i + 1) or\n",
    "            dfs(r, c + 1, i + 1) or\n",
    "            dfs(r, c - 1, i + 1)) \n",
    "            path.remove((r, c))\n",
    "            return res \n",
    "        \n",
    "        for r in range(ROWS): \n",
    "            for c in range(COLS): \n",
    "                if dfs(r, c, 0): return True \n",
    "        return False \n",
    "        \n",
    "# Time Complexity of the edge case is O(n * m * 4*n)\n"
   ]
  },
  {
   "cell_type": "code",
   "execution_count": null,
   "metadata": {},
   "outputs": [],
   "source": [
    "# Longest Substring Without Repeating Characters - Leetcode 3 - Python\n",
    "# Done \n",
    "class Solution: \n",
    "    def lengthOfSubstring(self, s: str) -> int: \n",
    "        charSet = set()\n",
    "        l = 0\n",
    "        res = 0\n",
    "        \n",
    "        for r in range(len(s)):\n",
    "            while s[r] in charSet:\n",
    "                charSet.remove(s[l])\n",
    "                l += 1\n",
    "            charSet.add(s[r])\n",
    "            res = max(res, r - l + 1)\n",
    "        return res "
   ]
  },
  {
   "cell_type": "code",
   "execution_count": null,
   "metadata": {},
   "outputs": [],
   "source": [
    "# Longest Repeating Character Replacement - Leetcode 424 - Python \n",
    "class Solution: \n",
    "    def characterReplacement(self, s: str, k: int) -> int:\n",
    "        count = {}\n",
    "        res = 0\n",
    "        l = 0\n",
    "        maxf = 0\n",
    "        for r in range(len(s)):\n",
    "            count[s[r]] = 1 + count.get(s[r], 0)\n",
    "            maxf = max(maxf, count[s[r]])\n",
    "            while (r - l + 1) - maxf > k:\n",
    "                count[s[l]] -= 1 \n",
    "            l += 1\n",
    "        res = max(res, r - l + 1)\n",
    "        return res "
   ]
  },
  {
   "cell_type": "code",
   "execution_count": null,
   "metadata": {},
   "outputs": [],
   "source": [
    "# Minimum Window Substring - Airbnb Interview Question - Leetcode 76\n",
    "class Solution: \n",
    "    def minWindow(self, s: str, t: str) -> str: \n",
    "        if t == \"\": return \"\"\n",
    "        countT, window = {}, {}\n",
    "        \n",
    "        for c in t: \n",
    "            countT[c] = 1 + countT.get(c, 0)\n",
    "            \n",
    "        have, need = 0 , len(countT)\n",
    "        res, resLen = [-1, -1], float(\"infinity\")\n",
    "        l = 0\n",
    "        for r in range(len(s)): \n",
    "            c = s[r]\n",
    "            window[c] = 1 + window.get(c, 0)\n",
    "            \n",
    "            if c in countT and window[c] == countT[c]: \n",
    "                have += 1\n",
    "            \n",
    "            while have == need: \n",
    "                if(r - l + 1) < resLen: \n",
    "                    res = [l, r]\n",
    "                    resLen = (r - l  +1)\n",
    "                    \n",
    "                window[s[l]] -= 1 \n",
    "                if s[l] in countT and window[s[l]] < countT[s[l]]: \n",
    "                    have -= l\n",
    "                l += 1\n",
    "            l, r = res\n",
    "            return s[l:r+1] if resLen != float(\"infinity\") else \"\""
   ]
  },
  {
   "cell_type": "code",
   "execution_count": null,
   "metadata": {},
   "outputs": [],
   "source": [
    "# Valid Anagram - Leetcode 242 - Python\n",
    "class Solutions: \n",
    "    def isAnagram(self, s: str, t: str) -> bool: \n",
    "        return sorted(s) == sorted(t)\n",
    "        \n",
    "        return Counter(s) == Counter(t)\n",
    "        \n",
    "        if len(s) != len(t): \n",
    "            return False \n",
    "        countS, countT = {}, {}\n",
    "        \n",
    "        for i in range(len(s)): \n",
    "            countS[s[i]] = 1 + countS.get(s[i], 0)\n",
    "            countT[t[i]] = 1 + countT.get(t[i], 0)\n",
    "        for c in countS: \n",
    "            if countS[c] != countT.get(c, 0):\n",
    "                return False\n",
    "            \n",
    "        return True "
   ]
  },
  {
   "cell_type": "code",
   "execution_count": null,
   "metadata": {},
   "outputs": [],
   "source": [
    "# Group Anagrams - Categorize Strings by Count - Leetcode 49\n",
    "from typing import defaultdict\n",
    "class Solution: \n",
    "    def groupAnagrams(self, strs: List[str]) -> List[List[str]]: \n",
    "        res = defaultdict(List) # mapping charCount to List of Anagrams \n",
    "        for s in strs: \n",
    "            count = [0] * 26 \n",
    "            \n",
    "        for c in s: \n",
    "            count[ord(c) - ord(\"a\")] += 1\n",
    "        \n",
    "        res[tuple(count)].append(s)\n",
    "        return res.values()"
   ]
  },
  {
   "cell_type": "code",
   "execution_count": null,
   "metadata": {},
   "outputs": [],
   "source": [
    "# Valid Parentheses - Stack - Leetcode 20 - Python \n",
    "# Done \n",
    "class Solution: \n",
    "    def isValid(self, s: str) -> bool: \n",
    "        stack = []\n",
    "        closeToOpen = { \")\" : \"(\", \"}\" : \"{\", \"[\" : \"]\"}\n",
    "        \n",
    "        for c in s: \n",
    "            if c in closeToOpen: \n",
    "                if stack and stack[-1] == closeToOpen[c]:\n",
    "                    stack.pop()\n",
    "                else: \n",
    "                    return False \n",
    "            else: \n",
    "                stack.append(c)\n",
    "                \n",
    "        return True if not stack else False "
   ]
  },
  {
   "cell_type": "code",
   "execution_count": null,
   "metadata": {},
   "outputs": [],
   "source": [
    "# Longest Palindromic Substring - Python - Leetcode 5\n",
    "class Solution :\n",
    "    def longestPalindrome(self, s: str) ->  str: \n",
    "        res = \"\"\n",
    "        resLen = 0\n",
    "        for i in range(len(s)): \n",
    "            # odd length \n",
    "            l, r = i , j\n",
    "            while l<=0 and r<len(s) and s[l] == s[r]: \n",
    "                if (r - l + 1) > resLen: \n",
    "                    res = s[l:r+1]\n",
    "                    resLen = r - l + 1\n",
    "                l -= 1 \n",
    "                r += 1 \n",
    "            l, r = i, i + 1\n",
    "            while l >=0 and r < len(s) and s[l] == s[r]: \n",
    "                if (r - l + 1) > resLen: \n",
    "                    res = s[l:r+1]\n",
    "                    resLen = r - l + 1\n",
    "                l -= 1 \n",
    "                r += 1 \n",
    "        return res "
   ]
  },
  {
   "cell_type": "code",
   "execution_count": null,
   "metadata": {},
   "outputs": [],
   "source": [
    "# Palindromic Substrings - Leetcode 647 - Python\n",
    "# Done \n",
    "class Solution:\n",
    "    def countSubstrings(self, s: str) -> int: \n",
    "        for i in range(len(s)): \n",
    "            res += self.countPali(s, i, i)\n",
    "            res += self.countPali(s, i, i + 1)\n",
    "        return res \n",
    "        \n",
    "    def countPali(self, s, l, r): \n",
    "        res = 0\n",
    "        while l >= 0 and r < len(s) and s[l] == s[r]: \n",
    "            res += l\n",
    "            l -= 1 \n",
    "            r += 1\n",
    "        return res "
   ]
  },
  {
   "cell_type": "code",
   "execution_count": null,
   "metadata": {},
   "outputs": [
    {
     "name": "stdout",
     "output_type": "stream",
     "text": [
      "All test cases pass.\n"
     ]
    }
   ],
   "source": [
    "# Encode and Decode Strings - Leetcode 271 - Python\n",
    "class Solution: \n",
    "    def encode(self, strs): \n",
    "        res = \"\"\n",
    "        for s in strs: \n",
    "            res += str(len(s)) + \"#\" + s\n",
    "        return res \n",
    "            \n",
    "    def decode(self, str):\n",
    "        res, i = [], 0 \n",
    "        \n",
    "        while i < len(str): \n",
    "            j = i\n",
    "            while str[j] != \"#\": \n",
    "                j += 1 \n",
    "            length = int(str[i:j])\n",
    "            res.append(str[j + 1 : j + 1 + length])\n",
    "            i = j + 1 + length \n",
    "        return res \n",
    "def test_encode_decode():\n",
    "    sol = Solution()\n",
    "\n",
    "    # Test case 1: Empty list\n",
    "    strs = []\n",
    "    assert sol.decode(sol.encode(strs)) == strs\n",
    "\n",
    "    # Test case 2: List with empty string\n",
    "    strs = [\"\"]\n",
    "    assert sol.decode(sol.encode(strs)) == strs\n",
    "\n",
    "    # Test case 3: Multiple strings\n",
    "    strs = [\"hello\", \"world\"]\n",
    "    assert sol.decode(sol.encode(strs)) == strs\n",
    "\n",
    "    # Test case 4: String with special characters\n",
    "    strs = [\"hi#there\", \"foo#bar\", \"#\"]\n",
    "    assert sol.decode(sol.encode(strs)) == strs\n",
    "\n",
    "    # Test case 5: Single large string\n",
    "    strs = [\"a\" * 1000]\n",
    "    assert sol.decode(sol.encode(strs)) == strs\n",
    "\n",
    "    # Test case 6: Strings with numbers\n",
    "    strs = [\"123\", \"456\", \"7890\"]\n",
    "    assert sol.decode(sol.encode(strs)) == strs\n",
    "\n",
    "    # Test case 7: Mixed empty and non-empty strings\n",
    "    strs = [\"abc\", \"\", \"def\"]\n",
    "    assert sol.decode(sol.encode(strs)) == strs\n",
    "\n",
    "    print(\"All test cases pass.\")\n",
    "\n",
    "test_encode_decode()\n"
   ]
  },
  {
   "cell_type": "code",
   "execution_count": null,
   "metadata": {},
   "outputs": [],
   "source": [
    "class TreeNode: \n",
    "    def __init__(self, val=0, left=None, right=None): \n",
    "        self.val = val \n",
    "        self.left = left \n",
    "        self.right = right \n",
    "        \n",
    "class Solution: \n",
    "    def maxPeth(self, root: TreeNode) -> int:\n",
    "        stack = [[root, 1]]\n",
    "        res = 0\n",
    "        \n",
    "        while stack: \n",
    "            node, depth = stack.pop()\n",
    "            \n",
    "            if node: \n",
    "                res = max(res, depth)\n",
    "                stack.append([node.left, depth + 1])\n",
    "                stack.append([node.right, depth + 1])\n",
    "        return res \n",
    "\n",
    "def test_maxDepth():\n",
    "    sol = Solution()\n",
    "\n",
    "    # Test case 1: Empty tree\n",
    "    assert sol.maxDepth(None) == 0\n",
    "\n",
    "    # Test case 2: Single node\n",
    "    root = TreeNode(1)\n",
    "    assert sol.maxDepth(root) == 1\n",
    "\n",
    "    # Test case 3: Left-skewed tree\n",
    "    root = TreeNode(1, TreeNode(2, TreeNode(3)))\n",
    "    assert sol.maxDepth(root) == 3\n",
    "\n",
    "    # Test case 4: Right-skewed tree\n",
    "    root = TreeNode(1, None, TreeNode(2, None, TreeNode(3)))\n",
    "    assert sol.maxDepth(root) == 3\n",
    "\n",
    "    # Test case 5: Full binary tree\n",
    "    root = TreeNode(1, TreeNode(2, TreeNode(4), TreeNode(5)), TreeNode(3, TreeNode(6), TreeNode(7)))\n",
    "    assert sol.maxDepth(root) == 3\n",
    "\n",
    "    # Test case 6: Uneven depth\n",
    "    root = TreeNode(1, TreeNode(2), TreeNode(3, TreeNode(4), TreeNode(5, None, TreeNode(6))))\n",
    "    assert sol.maxDepth(root) == 4\n",
    "\n",
    "    print(\"All test cases pass\")\n",
    "\n",
    "test_maxDepth()\n"
   ]
  },
  {
   "cell_type": "code",
   "execution_count": null,
   "metadata": {},
   "outputs": [
    {
     "name": "stdout",
     "output_type": "stream",
     "text": [
      "Tree1 and Tree2 are the same: True\n",
      "Tree1 and Tree3 are the same: False\n"
     ]
    }
   ],
   "source": [
    "# Same Tree - Leetcode 100 - Python\n",
    "class TreeNode: \n",
    "    def __init__(self, val = 0, left = None, right = None): \n",
    "        self.val = val \n",
    "        self.left = left \n",
    "        self.right = right \n",
    "class Solution: \n",
    "    def isSameTree(self, p: TreeNode, q: TreeNode) -> bool: \n",
    "        if not p and not q: \n",
    "            return True \n",
    "        if not p or not q or p.val != q.val: \n",
    "            return False \n",
    "            \n",
    "        return (self.isSameTree(p.left, q.left) and \n",
    "        self.isSameTree(p.right, q.right)) \n",
    "\n",
    "# Edge Cases\n",
    "tree1 = TreeNode(1)\n",
    "tree1.left = TreeNode(2)\n",
    "tree1.right = TreeNode(3)\n",
    "\n",
    "tree2 = TreeNode(1)\n",
    "tree2.left = TreeNode(2)\n",
    "tree2.right = TreeNode(3)\n",
    "\n",
    "tree3 = TreeNode(1)\n",
    "tree3.left = TreeNode(2)\n",
    "solution = Solution()\n",
    "\n",
    "# Run test cases\n",
    "print(\"Tree1 and Tree2 are the same:\", solution.isSameTree(tree1, tree2))  # Output: True\n",
    "print(\"Tree1 and Tree3 are the same:\", solution.isSameTree(tree1, tree3))  # Output: False\n",
    "\n"
   ]
  },
  {
   "cell_type": "markdown",
   "metadata": {},
   "source": [
    "## Basic Level Coding Sheet"
   ]
  },
  {
   "cell_type": "code",
   "execution_count": 1,
   "metadata": {},
   "outputs": [
    {
     "name": "stdout",
     "output_type": "stream",
     "text": [
      "15\n"
     ]
    }
   ],
   "source": [
    "# Write a program to calculate the sum of all elements in an integer array\n",
    "def sum_array(arr): \n",
    "    sum = 0\n",
    "    for num in arr: \n",
    "        sum += num\n",
    "    return sum\n",
    "\n",
    "number = [1, 2, 3, 4, 5]\n",
    "result = sum_array(number)\n",
    "print(result) "
   ]
  },
  {
   "cell_type": "code",
   "execution_count": 3,
   "metadata": {},
   "outputs": [
    {
     "name": "stdout",
     "output_type": "stream",
     "text": [
      "Smallest number is:  5\n",
      "Largest number is:  1\n"
     ]
    }
   ],
   "source": [
    "# Find the largest and smallest element in an array of integer\n",
    "def smallest_largest(number): \n",
    "    largest = number[0]\n",
    "    for num in number: \n",
    "        if num > largest: \n",
    "            largest = num \n",
    "    return largest \n",
    "\n",
    "def largest_smallest(number): \n",
    "    smallest = number[0]\n",
    "    for num in number: \n",
    "        if num < smallest: \n",
    "            smallest = num \n",
    "    return smallest \n",
    "\n",
    "number = [1, 2, 3, 2, 1, 4, 5, 4]\n",
    "smallest_number = smallest_largest(number)\n",
    "largest_number = largest_smallest(number)\n",
    "\n",
    "print(\"Smallest number is: \", smallest_number)\n",
    "print(\"Largest number is: \", largest_number)"
   ]
  },
  {
   "cell_type": "code",
   "execution_count": 4,
   "metadata": {},
   "outputs": [
    {
     "name": "stdout",
     "output_type": "stream",
     "text": [
      "0.5\n"
     ]
    }
   ],
   "source": [
    "# Calculate the average of elements in an integer array\n",
    "\n",
    "def average_sum(number):\n",
    "    sum = 0\n",
    "    for num in number: \n",
    "        sum += num\n",
    "    average = num / len(number)\n",
    "    return average \n",
    "\n",
    "number = [1, 2, 3, 2, 1, 4, 5, 4]\n",
    "result = average_sum(number)\n",
    "print(f\"{result}\")\n"
   ]
  },
  {
   "cell_type": "code",
   "execution_count": 7,
   "metadata": {},
   "outputs": [
    {
     "name": "stdout",
     "output_type": "stream",
     "text": [
      "[20, 9, 3, 8, 2, 5]\n"
     ]
    }
   ],
   "source": [
    "# Write a program to reverse the elements of an array\n",
    "def reverse(number):\n",
    "    return number[::-1]\n",
    "\n",
    "numbers = [5, 2, 8, 3, 9, 20]\n",
    "result = reverse(numbers)\n",
    "print(f\"{result}\")\n"
   ]
  },
  {
   "cell_type": "code",
   "execution_count": 9,
   "metadata": {},
   "outputs": [
    {
     "name": "stdout",
     "output_type": "stream",
     "text": [
      "[1, 2, 3, 2, 1, 4, 5, 4]\n"
     ]
    }
   ],
   "source": [
    "# Write a program to copy the contents of one array into another\n",
    "def copy_array(number): \n",
    "    copies_array = number.copy()\n",
    "    return copies_array \n",
    "\n",
    "number = [1, 2, 3, 2, 1, 4, 5, 4]\n",
    "result = copy_array(number)\n",
    "print(result)"
   ]
  },
  {
   "cell_type": "code",
   "execution_count": 10,
   "metadata": {},
   "outputs": [
    {
     "name": "stdout",
     "output_type": "stream",
     "text": [
      "[1, 2, 3, 4, 5]\n"
     ]
    }
   ],
   "source": [
    "# Remove duplicates from an array and return a new array without duplicates.\n",
    "def remove_duplicates(number): \n",
    "    return list(set(number))\n",
    "\n",
    "number = [1, 2, 3, 2, 1, 4, 5, 4]\n",
    "result = remove_duplicates(number)\n",
    "print(result)"
   ]
  },
  {
   "cell_type": "code",
   "execution_count": 11,
   "metadata": {},
   "outputs": [
    {
     "name": "stdout",
     "output_type": "stream",
     "text": [
      "{1: 2, 2: 2, 3: 1, 4: 2, 5: 1}\n"
     ]
    }
   ],
   "source": [
    "# alculate the frequency of each element in an array\n",
    "def count_frequency(number): \n",
    "    frequency = {}\n",
    "    for num in number:\n",
    "        if num in frequency: \n",
    "            frequency[num] += 1\n",
    "        else: \n",
    "            frequency[num] = 1\n",
    "    return frequency \n",
    "\n",
    "numbers = [1, 2, 3, 2, 1, 4, 5, 4]\n",
    "result = count_frequency(numbers)\n",
    "print(f\"{result}\")"
   ]
  },
  {
   "cell_type": "code",
   "execution_count": 12,
   "metadata": {},
   "outputs": [
    {
     "name": "stdout",
     "output_type": "stream",
     "text": [
      "([2, 2, 4, 4], [1, 3, 1, 5])\n"
     ]
    }
   ],
   "source": [
    "# Separate even and odd numbers into two separate arrays from a given array\n",
    "\n",
    "def separate_odd_even(number): \n",
    "    even = []\n",
    "    odd = []\n",
    "    for num in number: \n",
    "        if num % 2 == 0:\n",
    "            even.append(num)\n",
    "        else: \n",
    "            odd.append(num)\n",
    "    return even, odd \n",
    "\n",
    "number = [1, 2, 3, 2, 1, 4, 5, 4]\n",
    "result = separate_odd_even(number)\n",
    "print(f\"{result}\") "
   ]
  },
  {
   "cell_type": "code",
   "execution_count": 13,
   "metadata": {},
   "outputs": [
    {
     "name": "stdout",
     "output_type": "stream",
     "text": [
      "-1\n"
     ]
    }
   ],
   "source": [
    "# Implement a function to search for an element in an array and return its index if found \n",
    "\n",
    "def search(search, target): \n",
    "    for i in range(len(search)): \n",
    "        if search[i] == target: \n",
    "            return i \n",
    "        return -1 \n",
    "    \n",
    "number = [1, 2, 3, 2, 1, 4, 5, 4]\n",
    "result = search(number, 4)\n",
    "print(result)"
   ]
  },
  {
   "cell_type": "code",
   "execution_count": 14,
   "metadata": {},
   "outputs": [
    {
     "name": "stdout",
     "output_type": "stream",
     "text": [
      "11\n"
     ]
    }
   ],
   "source": [
    "# Write a program to find the length of a string (excluding the null character). \n",
    "def string_length(string): \n",
    "    count = 0\n",
    "    for char in string: \n",
    "        count += 1\n",
    "    return count \n",
    "\n",
    "given_string = \"Hello World\"\n",
    "result = string_length(given_string)\n",
    "print(result)"
   ]
  },
  {
   "cell_type": "code",
   "execution_count": 15,
   "metadata": {},
   "outputs": [
    {
     "name": "stdout",
     "output_type": "stream",
     "text": [
      "PranjalSinha\n"
     ]
    }
   ],
   "source": [
    "# Write a program to concatenate two strings. \n",
    "def concatenate_string(string1, string2):\n",
    "    return string1 + string2\n",
    "\n",
    "firstName = \"Pranjal\"\n",
    "secondName = \"Sinha\"\n",
    "\n",
    "result = concatenate_string(firstName, secondName)\n",
    "print(result)"
   ]
  },
  {
   "cell_type": "code",
   "execution_count": 17,
   "metadata": {},
   "outputs": [
    {
     "name": "stdout",
     "output_type": "stream",
     "text": [
      "False\n"
     ]
    }
   ],
   "source": [
    "# Compare two strings and determine if they are equal \n",
    "def compare_strings(string1, string2): \n",
    "    return string1 == string2 \n",
    "\n",
    "firstName = \"Pranjal\"\n",
    "secondName = \"Sinha\"\n",
    "\n",
    "result = compare_strings(firstName, secondName)\n",
    "print(result)"
   ]
  },
  {
   "cell_type": "code",
   "execution_count": 18,
   "metadata": {},
   "outputs": [
    {
     "name": "stdout",
     "output_type": "stream",
     "text": [
      "Pranjal is the original string\n",
      "lajnarP is the reversed string\n"
     ]
    }
   ],
   "source": [
    "# Reverse a string (e.g., \"hello\" becomes \"olleh\").\n",
    "def reverse_string(s):\n",
    "    return s[::-1]\n",
    "\n",
    "string = \"Pranjal\"\n",
    "result = reverse_string(string)\n",
    "print(f\"{string} is the original string\")\n",
    "print(f\"{result} is the reversed string\")"
   ]
  },
  {
   "cell_type": "code",
   "execution_count": 19,
   "metadata": {},
   "outputs": [
    {
     "name": "stdout",
     "output_type": "stream",
     "text": [
      "(2, 5)\n"
     ]
    }
   ],
   "source": [
    "# Count the number of vowels and consonants in a string\n",
    "def count_vowels_consonants(s): \n",
    "    vowels = 0\n",
    "    consonants = 0\n",
    "    for char in s: \n",
    "        if char in \"aeiouAEIOU\":\n",
    "            vowels += 1\n",
    "        else: \n",
    "            consonants += 1\n",
    "    return vowels, consonants \n",
    "\n",
    "string = \"Pranjal\"\n",
    "count_vowels_consonants(string)\n",
    "print(count_vowels_consonants(string))"
   ]
  },
  {
   "cell_type": "code",
   "execution_count": 21,
   "metadata": {},
   "outputs": [
    {
     "name": "stdout",
     "output_type": "stream",
     "text": [
      "Hello, World has 2 words\n"
     ]
    }
   ],
   "source": [
    "# Count the number of words in a sentence (separated by spaces). \n",
    "def count_words(sentence): \n",
    "    return len(sentence.split())\n",
    "\n",
    "sentence = \"Hello, World\"\n",
    "print(f\"{sentence} has {count_words(sentence)} words\")"
   ]
  },
  {
   "cell_type": "code",
   "execution_count": 22,
   "metadata": {},
   "outputs": [
    {
     "name": "stdout",
     "output_type": "stream",
     "text": [
      "14\n"
     ]
    }
   ],
   "source": [
    "# Parse a string containing numbers and mathematical operators to evaluate the expression (e.g., \"2 + 3 * 4\").\n",
    "def evaluate_expression(s): \n",
    "    return eval(s)\n",
    "\n",
    "expression = \"2 + 3 * 4\"\n",
    "result = evaluate_expression(expression)\n",
    "print(result)"
   ]
  },
  {
   "cell_type": "code",
   "execution_count": 23,
   "metadata": {},
   "outputs": [
    {
     "name": "stdout",
     "output_type": "stream",
     "text": [
      "1\n",
      "2\n",
      "3\n",
      "4\n",
      "5\n",
      "None\n"
     ]
    }
   ],
   "source": [
    "# Print the elements of an integer array using pointers\n",
    "def print_elements(number):\n",
    "    for num in numbers:\n",
    "        print(num)\n",
    "\n",
    "numbers = [1, 2, 3, 4, 5]\n",
    "result = print_elements(numbers)\n",
    "print(result)"
   ]
  },
  {
   "cell_type": "code",
   "execution_count": 26,
   "metadata": {},
   "outputs": [
    {
     "name": "stdout",
     "output_type": "stream",
     "text": [
      "(2, 1)\n"
     ]
    }
   ],
   "source": [
    "# Implement a function that swaps the values of two integers using pointers.\n",
    "def swap_value(a, b): \n",
    "    l, r = a, b\n",
    "    return r, l\n",
    "\n",
    "swap_pair_one = swap_value(1, 2)\n",
    "result = swap_pair_one\n",
    "print(f\"{result}\")"
   ]
  },
  {
   "cell_type": "code",
   "execution_count": 27,
   "metadata": {},
   "outputs": [
    {
     "name": "stdout",
     "output_type": "stream",
     "text": [
      "10\n"
     ]
    }
   ],
   "source": [
    "# Use malloc to allocate memory for an integer, assign a value to it, and then free the memory.\n",
    "import ctypes \n",
    "def allocate_memory(value): \n",
    "    ptr = ctypes.c_int(value)\n",
    "    return ptr.value\n",
    "\n",
    "result = allocate_memory(10)\n",
    "print(result)"
   ]
  },
  {
   "cell_type": "code",
   "execution_count": 28,
   "metadata": {},
   "outputs": [
    {
     "name": "stdout",
     "output_type": "stream",
     "text": [
      "c_long(10)\n"
     ]
    }
   ],
   "source": [
    "# Write a function that accepts a pointer to an integer and modifies the value it points to \n",
    "def modify_value(ptr, value): \n",
    "    ptr.value = value \n",
    "    return ptr.value \n",
    "\n",
    "ptr = ctypes.c_int(10)\n",
    "print(ptr)"
   ]
  },
  {
   "cell_type": "code",
   "execution_count": 29,
   "metadata": {},
   "outputs": [
    {
     "name": "stdout",
     "output_type": "stream",
     "text": [
      "5\n"
     ]
    }
   ],
   "source": [
    "# Write a function that finds the maximum element in an integer array using pointers. \n",
    "def find_maximum(number): \n",
    "    max = number[0]\n",
    "    for num in number: \n",
    "        if num > max: \n",
    "            max = num \n",
    "    return max \n",
    "\n",
    "number = [1, 2, 3, 2, 1, 4, 5, 4]\n",
    "result = find_maximum(number)\n",
    "print(f\"{result}\")"
   ]
  },
  {
   "cell_type": "code",
   "execution_count": 30,
   "metadata": {},
   "outputs": [
    {
     "name": "stdout",
     "output_type": "stream",
     "text": [
      "lajnarP\n"
     ]
    }
   ],
   "source": [
    "# Reverse a string in-place using pointers \n",
    "def reverse_string(s): \n",
    "    l, r = 0, len(s) - 1 \n",
    "    s = list(s)\n",
    "    while l < r: \n",
    "        s[l], s[r] = s[r], s[l]\n",
    "        l += 1\n",
    "        r -= 1 \n",
    "    return \"\".join(s)\n",
    "\n",
    "string = \"Pranjal\"\n",
    "result = reverse_string(string)\n",
    "print(result)"
   ]
  },
  {
   "cell_type": "code",
   "execution_count": 31,
   "metadata": {},
   "outputs": [
    {
     "name": "stdout",
     "output_type": "stream",
     "text": [
      "Pranjal\n"
     ]
    }
   ],
   "source": [
    "# Implement a function to copy one string to another using pointers. \n",
    "def copies_ptr(s):\n",
    "    return s\n",
    "\n",
    "string = \"Pranjal\"\n",
    "result = copies_ptr(string)\n",
    "print(f\"{result}\")"
   ]
  },
  {
   "cell_type": "code",
   "execution_count": 2,
   "metadata": {},
   "outputs": [
    {
     "name": "stdout",
     "output_type": "stream",
     "text": [
      "7\n"
     ]
    }
   ],
   "source": [
    "# Calculate the length of a string using a pointer.\n",
    "def string_length(s): \n",
    "    count = 0\n",
    "    for char in s: \n",
    "        count += 1\n",
    "    return count \n",
    "\n",
    "string = \"Pranjal\"\n",
    "resut = string_length(string)\n",
    "print(resut)"
   ]
  },
  {
   "cell_type": "code",
   "execution_count": 33,
   "metadata": {},
   "outputs": [
    {
     "name": "stdout",
     "output_type": "stream",
     "text": [
      "[49, 49, 49, 49, 49, 49, 49, 49, 49, 49, 49, 49, 49, 49, 49, 49, 49, 49, 49, 49, 49, 49, 49, 49, 49, 49, 49, 49, 49, 49, 49, 49, 49, 49, 49, 49, 49, 49, 49, 49, 49, 49, 49, 49, 49, 49, 49, 49, 49]\n"
     ]
    }
   ],
   "source": [
    "# Create a dynamic array of integers using pointers and allow the user to enter values. \n",
    "def dynamic_array(n):\n",
    "    return [n] * n \n",
    "\n",
    "number = 49\n",
    "result = dynamic_array(number)\n",
    "print(result)"
   ]
  },
  {
   "cell_type": "code",
   "execution_count": 35,
   "metadata": {},
   "outputs": [
    {
     "name": "stdout",
     "output_type": "stream",
     "text": [
      "[0, 1, 2, 3, 4, 5, 6, 7, 8, 9]\n"
     ]
    }
   ],
   "source": [
    "import ctypes\n",
    "\n",
    "def allocate_memory(n):\n",
    "    # Allocate memory for an integer array of size n\n",
    "    return (ctypes.c_int * n)()\n",
    "\n",
    "def modify_value(ptr, n):\n",
    "    # Modify the allocated array\n",
    "    for i in range(n):\n",
    "        ptr[i] = i  # Set each element to its index\n",
    "    return ptr\n",
    "\n",
    "number = 10\n",
    "result = modify_value(allocate_memory(number), number)\n",
    "\n",
    "# Print the elements of the array\n",
    "print([result[i] for i in range(number)])"
   ]
  },
  {
   "cell_type": "code",
   "execution_count": 36,
   "metadata": {},
   "outputs": [
    {
     "name": "stdout",
     "output_type": "stream",
     "text": [
      "120\n"
     ]
    }
   ],
   "source": [
    "# Write a recursive function to calculate the factorial of a positive integer. \n",
    "def factorial(n):\n",
    "    if n == 0:\n",
    "        return 1\n",
    "    else: \n",
    "        return n * factorial(n - 1)\n",
    "\n",
    "number = 5\n",
    "result = factorial(number)\n",
    "print(result)"
   ]
  },
  {
   "cell_type": "code",
   "execution_count": 37,
   "metadata": {},
   "outputs": [
    {
     "name": "stdout",
     "output_type": "stream",
     "text": [
      "55\n"
     ]
    }
   ],
   "source": [
    "# Implement a recursive function to generate the nth Fibonacci number. \n",
    "def fibonacci(n): \n",
    "    if n <= 1: \n",
    "        return n\n",
    "    else: \n",
    "        return fibonacci(n - 1) + fibonacci(n - 2)\n",
    "    \n",
    "number = 10 \n",
    "result = fibonacci(number)\n",
    "print(result)"
   ]
  },
  {
   "cell_type": "code",
   "execution_count": 38,
   "metadata": {},
   "outputs": [
    {
     "name": "stdout",
     "output_type": "stream",
     "text": [
      "55\n"
     ]
    }
   ],
   "source": [
    "# Calculate the sum of the first n natural numbers using recursion. \n",
    "def sum_natural(n):\n",
    "    if n <= 1: \n",
    "        return n\n",
    "    else: \n",
    "        return n + sum_natural(n - 1)\n",
    "\n",
    "number = 10 \n",
    "result = sum_natural(number)\n",
    "print(result)"
   ]
  },
  {
   "cell_type": "code",
   "execution_count": 40,
   "metadata": {},
   "outputs": [
    {
     "name": "stdout",
     "output_type": "stream",
     "text": [
      "8\n"
     ]
    }
   ],
   "source": [
    "# Write a recursive function to compute the result of raising a number to a given power. \n",
    "def power(base, exponent): \n",
    "    if exponent == 0:\n",
    "        return 1\n",
    "    else: \n",
    "        return base * power(base, exponent - 1)\n",
    "    \n",
    "number = 2\n",
    "exponent= 3\n",
    "result = power(number, exponent)\n",
    "print(result)"
   ]
  },
  {
   "cell_type": "code",
   "execution_count": 42,
   "metadata": {},
   "outputs": [
    {
     "name": "stdout",
     "output_type": "stream",
     "text": [
      "1\n",
      "2\n",
      "3\n",
      "4\n",
      "5\n",
      "None\n"
     ]
    }
   ],
   "source": [
    "# Write a recursive function to print all numbers between two given integers \n",
    "\n",
    "def print_numbers(start, end): \n",
    "    if start > end: \n",
    "        return \n",
    "    else: \n",
    "        print(start)\n",
    "        print_numbers(start + 1, end)\n",
    "\n",
    "start = 1\n",
    "end = 5\n",
    "print(print_numbers(start, end))"
   ]
  },
  {
   "cell_type": "code",
   "execution_count": 43,
   "metadata": {},
   "outputs": [
    {
     "name": "stdout",
     "output_type": "stream",
     "text": [
      "lajnarP\n"
     ]
    }
   ],
   "source": [
    "# Reverse a string using recursion. \n",
    "def reverse_string(s):\n",
    "    if len(s) == 0:\n",
    "        return s\n",
    "    else: \n",
    "        return reverse_string(s[1:]) + s[0]\n",
    "    \n",
    "string = \"Pranjal\"\n",
    "result = reverse_string(string)\n",
    "print(result)"
   ]
  },
  {
   "cell_type": "code",
   "execution_count": 47,
   "metadata": {},
   "outputs": [
    {
     "name": "stdout",
     "output_type": "stream",
     "text": [
      "5\n",
      "4\n",
      "3\n",
      "2\n",
      "1\n"
     ]
    }
   ],
   "source": [
    "def reverse_array(arr): \n",
    "    if not arr:\n",
    "        return\n",
    "    else:\n",
    "        print(arr[-1])  # Print the last element\n",
    "        reverse_array(arr[:-1])  # Recur with the rest of the array\n",
    "\n",
    "numbers = [1, 2, 3, 4, 5]\n",
    "reverse_array(numbers)  # Directly call the function; no need to store the result"
   ]
  },
  {
   "cell_type": "code",
   "execution_count": 49,
   "metadata": {},
   "outputs": [
    {
     "name": "stdout",
     "output_type": "stream",
     "text": [
      "120\n"
     ]
    }
   ],
   "source": [
    "# Calculate the factorial of large numbers using recursion and an array. \n",
    "def factorial(n): \n",
    "    if n == 0:\n",
    "        return 1\n",
    "    else: \n",
    "        return n * factorial(n - 1)\n",
    "    \n",
    "number = 5\n",
    "result = factorial(number)\n",
    "print(result)"
   ]
  },
  {
   "cell_type": "code",
   "execution_count": 50,
   "metadata": {},
   "outputs": [
    {
     "name": "stdout",
     "output_type": "stream",
     "text": [
      "15\n"
     ]
    }
   ],
   "source": [
    "# Calculate the sum of elements in an integer array using recursion. \n",
    "def sum_array(arr): \n",
    "    if not arr: \n",
    "        return 0\n",
    "    else: \n",
    "        return arr[0] + sum_array(arr[1:])\n",
    "    \n",
    "numbers = [1, 2, 3, 4, 5]\n",
    "result = sum_array(numbers)\n",
    "print(result)"
   ]
  },
  {
   "cell_type": "code",
   "execution_count": 51,
   "metadata": {},
   "outputs": [
    {
     "name": "stdout",
     "output_type": "stream",
     "text": [
      "5\n",
      "4\n",
      "3\n",
      "2\n",
      "1\n",
      "None\n"
     ]
    }
   ],
   "source": [
    "# Write a recursive function to print the elements of an array in reverse order. \n",
    "def reverse_array(arr): \n",
    "    if not arr: \n",
    "        return \n",
    "    else: \n",
    "        print(arr[-1])\n",
    "    return reverse_array(arr[:-1])\n",
    "\n",
    "numbers = [1, 2, 3, 4, 5]\n",
    "result = reverse_array(numbers)\n",
    "print(result)"
   ]
  },
  {
   "cell_type": "code",
   "execution_count": 1,
   "metadata": {},
   "outputs": [
    {
     "name": "stdout",
     "output_type": "stream",
     "text": [
      "['abc', 'acb', 'bac', 'bca', 'cab', 'cba']\n"
     ]
    }
   ],
   "source": [
    "# Print all permutations of a string using recursion.\n",
    "def permutations(s): \n",
    "    if len(s) == 0:\n",
    "        return [\"\"]\n",
    "    else: \n",
    "        perms = []\n",
    "        for i in range(len(s)): \n",
    "            for perm in permutations(s[:i] + s[i + 1:]):\n",
    "                perms.append(s[i] + perm)\n",
    "    return perms \n",
    "\n",
    "string = \"abc\"\n",
    "result = permutations(string)\n",
    "print(result)"
   ]
  }
 ],
 "metadata": {
  "kernelspec": {
   "display_name": "Python 3",
   "language": "python",
   "name": "python3"
  },
  "language_info": {
   "codemirror_mode": {
    "name": "ipython",
    "version": 3
   },
   "file_extension": ".py",
   "mimetype": "text/x-python",
   "name": "python",
   "nbconvert_exporter": "python",
   "pygments_lexer": "ipython3",
   "version": "3.8.10"
  }
 },
 "nbformat": 4,
 "nbformat_minor": 2
}
