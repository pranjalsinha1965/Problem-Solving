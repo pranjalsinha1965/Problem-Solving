{
 "cells": [
  {
   "cell_type": "markdown",
   "metadata": {},
   "source": [
    "Question 1: Write a Python program to check if a string is a palindrome."
   ]
  },
  {
   "cell_type": "markdown",
   "metadata": {},
   "source": [
    "#### 1st Approach"
   ]
  },
  {
   "cell_type": "code",
   "execution_count": 28,
   "metadata": {},
   "outputs": [
    {
     "name": "stdout",
     "output_type": "stream",
     "text": [
      "madam is a palindrome\n"
     ]
    }
   ],
   "source": [
    "def is_palindrome(string):\n",
    "    reversed_string = string[::-1]\n",
    "    return string == reversed_string\n",
    "\n",
    "# Test the function\n",
    "word = \"madam\"\n",
    "if is_palindrome(word):\n",
    "    print(f\"{word} is a palindrome\")\n",
    "else: \n",
    "    print(f\"{word} is not a palindrome\")    "
   ]
  },
  {
   "cell_type": "markdown",
   "metadata": {},
   "source": [
    "### 2nd Approach: Using 2 Pointers"
   ]
  },
  {
   "cell_type": "code",
   "execution_count": 29,
   "metadata": {},
   "outputs": [
    {
     "name": "stdout",
     "output_type": "stream",
     "text": [
      "False\n"
     ]
    }
   ],
   "source": [
    "def isPalindrome(s: str) -> bool:\n",
    "    i, j = 0, len(s) - 1\n",
    "    while i < j:\n",
    "        if not s[i].isalnum():\n",
    "            i += 1\n",
    "        elif not s[j].isalnum():\n",
    "            j -= 1\n",
    "        elif s[i].lower() != s[j].lower():\n",
    "            return False\n",
    "        else:\n",
    "            i, j = i + 1, j - 1\n",
    "    return True\n",
    "\n",
    "sentence = \"My name is Pranjal Sinha\"\n",
    "result = isPalindrome(sentence)\n",
    "print(f\"{result}\")"
   ]
  },
  {
   "cell_type": "markdown",
   "metadata": {},
   "source": [
    "Question 2: Write a Python program to find the factorial of a number."
   ]
  },
  {
   "cell_type": "code",
   "execution_count": 30,
   "metadata": {},
   "outputs": [
    {
     "name": "stdout",
     "output_type": "stream",
     "text": [
      "The factorial of 5 is 120\n"
     ]
    }
   ],
   "source": [
    "def factorial(n):\n",
    "    if n == 0:\n",
    "        return 1\n",
    "    else: \n",
    "        return n * factorial(n-1)\n",
    "\n",
    "#Test the function \n",
    "number = 5\n",
    "result = factorial(number)\n",
    "print(f\"The factorial of {number} is {result}\")"
   ]
  },
  {
   "cell_type": "markdown",
   "metadata": {},
   "source": [
    "Question 3: Write a Python program to find the largest element in a list."
   ]
  },
  {
   "cell_type": "code",
   "execution_count": 31,
   "metadata": {},
   "outputs": [
    {
     "name": "stdout",
     "output_type": "stream",
     "text": [
      "The largest number is 20\n"
     ]
    }
   ],
   "source": [
    "def find_largest(number):\n",
    "    largest = number[0]\n",
    "    for num in number:\n",
    "        if num > largest:\n",
    "            largest = num\n",
    "    return largest \n",
    "\n",
    "# Test the function \n",
    "nums = [10, 5, 8, 20, 3]\n",
    "largest_num = find_largest(nums)\n",
    "print(f\"The largest number is {largest_num}\")"
   ]
  },
  {
   "cell_type": "markdown",
   "metadata": {},
   "source": [
    "Question 4: Write a Python program to reverse a string."
   ]
  },
  {
   "cell_type": "code",
   "execution_count": 32,
   "metadata": {},
   "outputs": [
    {
     "name": "stdout",
     "output_type": "stream",
     "text": [
      "The original string is: geeksforgeeks\n"
     ]
    }
   ],
   "source": [
    "def reverse(s):\n",
    "    str = \"\"\n",
    "    for i in s:\n",
    "        str = i + str \n",
    "    return str \n",
    "s = \"geeksforgeeks\"\n",
    "print(\"The original string is: \", end=\"\")\n",
    "print(s)"
   ]
  },
  {
   "cell_type": "code",
   "execution_count": 33,
   "metadata": {},
   "outputs": [
    {
     "name": "stdout",
     "output_type": "stream",
     "text": [
      "The original string is: geeksforgeeks\n"
     ]
    }
   ],
   "source": [
    "def reverse(s):\n",
    "    if len(s) == 0:\n",
    "        return s \n",
    "    else: \n",
    "        return reverse(s[1:]) + s[0]\n",
    "s = \"geeksforgeeks\"\n",
    "print(\"The original string is: \", end=\"\")\n",
    "print(s)"
   ]
  },
  {
   "cell_type": "code",
   "execution_count": 48,
   "metadata": {},
   "outputs": [
    {
     "name": "stdout",
     "output_type": "stream",
     "text": [
      "The original string is:  skeegrofskeeg\n",
      "geeksforgeeks\n"
     ]
    }
   ],
   "source": [
    "def reverse(string):\n",
    "    string = \"\".join(reversed(string))\n",
    "    return string \n",
    "\n",
    "s = \"geeksforgeeks\"\n",
    "print(\"The original string is: \", reverse(s))\n",
    "print(s)"
   ]
  },
  {
   "cell_type": "code",
   "execution_count": 49,
   "metadata": {},
   "outputs": [
    {
     "name": "stdout",
     "output_type": "stream",
     "text": [
      "The original string is:  skeegrofskeeg\n",
      "geeksforgeeks\n"
     ]
    }
   ],
   "source": [
    "def reverse(string): \n",
    "    string = [string[i] for i in range(len(string)-1, -1, -1)]\n",
    "    return \"\".join(string)\n",
    "s = \"geeksforgeeks\" \n",
    "print(\"The original string is: \", reverse(s))\n",
    "print(s)"
   ]
  },
  {
   "cell_type": "code",
   "execution_count": 50,
   "metadata": {},
   "outputs": [
    {
     "name": "stdout",
     "output_type": "stream",
     "text": [
      "The original string is:  skeegrofskeeg\n",
      "geeksforgeeks\n"
     ]
    }
   ],
   "source": [
    "def reverse(string):\n",
    "    string = list(string)\n",
    "    string.reverse()\n",
    "    return \"\".join(string)\n",
    "s = \"geeksforgeeks\"\n",
    "print(\"The original string is: \", reverse(s))\n",
    "print(s)"
   ]
  },
  {
   "cell_type": "code",
   "execution_count": 51,
   "metadata": {},
   "outputs": [
    {
     "name": "stdout",
     "output_type": "stream",
     "text": [
      "! dlroW ,olleH\n"
     ]
    }
   ],
   "source": [
    "def reverse_string(string):\n",
    "    return string[::-1]\n",
    "\n",
    "# Test the function\n",
    "text = \"Hello, World !\"\n",
    "reversed_text = reverse_string(text)\n",
    "print(reversed_text)\n"
   ]
  },
  {
   "cell_type": "code",
   "execution_count": 52,
   "metadata": {},
   "outputs": [
    {
     "name": "stdout",
     "output_type": "stream",
     "text": [
      "skeeGrofskeeG\n"
     ]
    }
   ],
   "source": [
    "from functools import reduce\n",
    "str = \"GeeksforGeeks\"\n",
    "reversed_str = reduce(lambda x, y: y + x, str)\n",
    "print(reversed_str)\n"
   ]
  },
  {
   "cell_type": "markdown",
   "metadata": {},
   "source": [
    "Alternat Method for Interviews"
   ]
  },
  {
   "cell_type": "code",
   "execution_count": 53,
   "metadata": {},
   "outputs": [
    {
     "name": "stdout",
     "output_type": "stream",
     "text": [
      "Reversed String: lajnarP\n"
     ]
    }
   ],
   "source": [
    "def reverse_string(string):\n",
    "    characters = list(string)\n",
    "    reversed_array = []\n",
    "    for i in range(len(characters)-1, -1, -1):\n",
    "        reversed_array.append(characters[i])\n",
    "    return ''.join(reversed_array)\n",
    "\n",
    "name = \"Pranjal\"\n",
    "result = reverse_string(name)\n",
    "print(f\"Reversed String: {result}\")\n"
   ]
  },
  {
   "cell_type": "markdown",
   "metadata": {},
   "source": [
    "Question 5: Write a Python program to count the frequency of each element in a list."
   ]
  },
  {
   "cell_type": "code",
   "execution_count": 54,
   "metadata": {},
   "outputs": [
    {
     "name": "stdout",
     "output_type": "stream",
     "text": [
      "{1: 2, 2: 3, 3: 2, 4: 2, 5: 1}\n"
     ]
    }
   ],
   "source": [
    "def count_frequency(numbers):\n",
    "    frequency = {}\n",
    "    for num in numbers:\n",
    "        if num in frequency:\n",
    "            frequency[num] += 1\n",
    "        else: \n",
    "            frequency[num] = 1\n",
    "    return frequency\n",
    "\n",
    "nums = [1, 2, 3, 2, 1, 3, 2, 4, 5, 4]\n",
    "frequency_count = count_frequency(nums)\n",
    "print(frequency_count)"
   ]
  },
  {
   "cell_type": "markdown",
   "metadata": {},
   "source": [
    "Question 6: Write a Python program to check if a number is prime."
   ]
  },
  {
   "cell_type": "code",
   "execution_count": 41,
   "metadata": {},
   "outputs": [
    {
     "name": "stdout",
     "output_type": "stream",
     "text": [
      "17 is a prime number\n"
     ]
    }
   ],
   "source": [
    "def is_prime(number):\n",
    "    if number < 2:\n",
    "        return False\n",
    "    for i in range(2, int(number**0.5) + 1):\n",
    "        if number % i == 0:\n",
    "            return False\n",
    "    return True \n",
    "\n",
    "# Test the function \n",
    "num = 17\n",
    "if is_prime(num):\n",
    "    print(f\"{num} is a prime number\")\n",
    "else: \n",
    "    print(f\"{num} is not a prime number\")"
   ]
  },
  {
   "cell_type": "markdown",
   "metadata": {},
   "source": [
    "Question 7: Write a Python program to find the common elements between two lists."
   ]
  },
  {
   "cell_type": "code",
   "execution_count": 42,
   "metadata": {},
   "outputs": [
    {
     "name": "stdout",
     "output_type": "stream",
     "text": [
      "[4, 5]\n"
     ]
    }
   ],
   "source": [
    "def find_common_elements(list1, list2):\n",
    "    common_elements = []\n",
    "    for item in list1:\n",
    "        if item in list2:\n",
    "            common_elements.append(item) \n",
    "    return common_elements \n",
    "\n",
    "list_a = [1, 2, 3, 4, 5]\n",
    "list_b = [4, 5, 6, 7, 8]\n",
    "common = find_common_elements(list_a, list_b)\n",
    "print(common)"
   ]
  },
  {
   "cell_type": "markdown",
   "metadata": {},
   "source": [
    "Question 8: Write a Python program to sort a list of elements using the bubble sort algorithm."
   ]
  },
  {
   "cell_type": "code",
   "execution_count": 55,
   "metadata": {},
   "outputs": [
    {
     "name": "stdout",
     "output_type": "stream",
     "text": [
      "[1, 2, 5, 8, 9]\n"
     ]
    }
   ],
   "source": [
    "def bubble_sort(elements):\n",
    "    n = len(elements)\n",
    "    for i in range(n - 1):\n",
    "        for j in range(n - i - 1):\n",
    "            if elements[j] > elements[j + 1]:\n",
    "                elements[j], elements[j + 1] = elements[j + 1], elements[j]\n",
    "\n",
    "# Test the function\n",
    "nums = [5, 2, 8, 1, 9]\n",
    "bubble_sort(nums)\n",
    "print(nums)"
   ]
  },
  {
   "cell_type": "markdown",
   "metadata": {},
   "source": [
    "Question 9: Write a Python program to find the second largest number in a list."
   ]
  },
  {
   "cell_type": "code",
   "execution_count": 44,
   "metadata": {},
   "outputs": [
    {
     "name": "stdout",
     "output_type": "stream",
     "text": [
      "The second largest number is 10\n"
     ]
    }
   ],
   "source": [
    "def find_second_largest(numbers):\n",
    "    largest = float('-inf')\n",
    "    second_largest = float('-inf')\n",
    "    for num in numbers:\n",
    "        if num > largest:\n",
    "            second_largest = largest\n",
    "            largest = num\n",
    "        elif num > second_largest and num != largest:\n",
    "            second_largest = num\n",
    "    return second_largest\n",
    "\n",
    "# Test the function\n",
    "nums = [10, 5, 8, 20, 3]\n",
    "second_largest_num = find_second_largest(nums)\n",
    "print(f\"The second largest number is {second_largest_num}\")"
   ]
  },
  {
   "cell_type": "markdown",
   "metadata": {},
   "source": [
    "Question 10: Write a Python program to remove duplicates from a list."
   ]
  },
  {
   "cell_type": "code",
   "execution_count": 56,
   "metadata": {},
   "outputs": [
    {
     "name": "stdout",
     "output_type": "stream",
     "text": [
      "[1, 2, 3, 4, 5]\n"
     ]
    }
   ],
   "source": [
    "def remove_duplicates(numbers):\n",
    "    unique_numbers = []\n",
    "    for num in numbers:\n",
    "        if num not in unique_numbers:\n",
    "            unique_numbers.append(num)\n",
    "    return unique_numbers\n",
    "\n",
    "# Test the function\n",
    "nums = [1, 2, 3, 2, 1, 3, 2, 4, 5, 4]\n",
    "unique_nums = remove_duplicates(nums)\n",
    "print(f\"{unique_nums}\")"
   ]
  },
  {
   "cell_type": "markdown",
   "metadata": {},
   "source": [
    "### Best Time to Buy and Sell"
   ]
  },
  {
   "cell_type": "code",
   "execution_count": 46,
   "metadata": {},
   "outputs": [],
   "source": [
    "from typing import List \n",
    "def maxProfit(self, prices: List[int]) -> int: \n",
    "    profit = 0\n",
    "    buy = prices[0]\n",
    "\n",
    "    for p in prices: \n",
    "        buy = min(buy, p)\n",
    "        profit = max(profit, p - buy)\n",
    "    return profit "
   ]
  },
  {
   "cell_type": "markdown",
   "metadata": {},
   "source": [
    "### Binary Search"
   ]
  },
  {
   "cell_type": "code",
   "execution_count": 47,
   "metadata": {},
   "outputs": [
    {
     "ename": "TypeError",
     "evalue": "'type' object is not subscriptable",
     "output_type": "error",
     "traceback": [
      "\u001b[1;31m---------------------------------------------------------------------------\u001b[0m",
      "\u001b[1;31mTypeError\u001b[0m                                 Traceback (most recent call last)",
      "\u001b[1;32m~\\AppData\\Local\\Temp/ipykernel_24428/2917104999.py\u001b[0m in \u001b[0;36m<module>\u001b[1;34m\u001b[0m\n\u001b[1;32m----> 1\u001b[1;33m \u001b[1;32mdef\u001b[0m \u001b[0msearch\u001b[0m\u001b[1;33m(\u001b[0m\u001b[0mself\u001b[0m\u001b[1;33m,\u001b[0m \u001b[0mnums\u001b[0m\u001b[1;33m:\u001b[0m \u001b[0mlist\u001b[0m\u001b[1;33m[\u001b[0m\u001b[0mint\u001b[0m\u001b[1;33m]\u001b[0m\u001b[1;33m,\u001b[0m \u001b[0mtarget\u001b[0m\u001b[1;33m:\u001b[0m \u001b[0mint\u001b[0m\u001b[1;33m)\u001b[0m \u001b[1;33m->\u001b[0m \u001b[0mint\u001b[0m\u001b[1;33m:\u001b[0m\u001b[1;33m\u001b[0m\u001b[1;33m\u001b[0m\u001b[0m\n\u001b[0m\u001b[0;32m      2\u001b[0m     \u001b[0ml\u001b[0m\u001b[1;33m,\u001b[0m \u001b[0mr\u001b[0m \u001b[1;33m=\u001b[0m \u001b[1;36m0\u001b[0m\u001b[1;33m,\u001b[0m \u001b[0mlen\u001b[0m\u001b[1;33m(\u001b[0m\u001b[0mnums\u001b[0m\u001b[1;33m)\u001b[0m \u001b[1;33m-\u001b[0m \u001b[1;36m1\u001b[0m\u001b[1;33m\u001b[0m\u001b[1;33m\u001b[0m\u001b[0m\n\u001b[0;32m      3\u001b[0m     \u001b[1;32mwhile\u001b[0m \u001b[0ml\u001b[0m \u001b[1;33m<=\u001b[0m \u001b[0mr\u001b[0m\u001b[1;33m:\u001b[0m\u001b[1;33m\u001b[0m\u001b[1;33m\u001b[0m\u001b[0m\n\u001b[0;32m      4\u001b[0m         \u001b[0mi\u001b[0m \u001b[1;33m=\u001b[0m \u001b[0ml\u001b[0m \u001b[1;33m+\u001b[0m \u001b[1;33m(\u001b[0m\u001b[0mr\u001b[0m \u001b[1;33m-\u001b[0m \u001b[0ml\u001b[0m\u001b[1;33m)\u001b[0m \u001b[1;33m//\u001b[0m \u001b[1;36m2\u001b[0m  \u001b[1;31m# Calculate middle index\u001b[0m\u001b[1;33m\u001b[0m\u001b[1;33m\u001b[0m\u001b[0m\n\u001b[0;32m      5\u001b[0m         \u001b[0mn\u001b[0m \u001b[1;33m=\u001b[0m \u001b[0mnums\u001b[0m\u001b[1;33m[\u001b[0m\u001b[0mi\u001b[0m\u001b[1;33m]\u001b[0m\u001b[1;33m\u001b[0m\u001b[1;33m\u001b[0m\u001b[0m\n",
      "\u001b[1;31mTypeError\u001b[0m: 'type' object is not subscriptable"
     ]
    }
   ],
   "source": [
    "def search(self, nums: list[int], target: int) -> int: \n",
    "    l, r = 0, len(nums) - 1 \n",
    "    while l <= r: \n",
    "        i = l + (r - l) // 2  # Calculate middle index\n",
    "        n = nums[i] \n",
    "        if target > n: \n",
    "            l = i + 1  # Target is in the right half\n",
    "        elif target < n: \n",
    "            r = i - 1  # Target is in the left half\n",
    "        else: \n",
    "            return i  # Target found, return its index\n",
    "    return -1  # Target not found"
   ]
  }
 ],
 "metadata": {
  "kernelspec": {
   "display_name": "Python 3",
   "language": "python",
   "name": "python3"
  },
  "language_info": {
   "codemirror_mode": {
    "name": "ipython",
    "version": 3
   },
   "file_extension": ".py",
   "mimetype": "text/x-python",
   "name": "python",
   "nbconvert_exporter": "python",
   "pygments_lexer": "ipython3",
   "version": "3.8.10"
  }
 },
 "nbformat": 4,
 "nbformat_minor": 2
}
