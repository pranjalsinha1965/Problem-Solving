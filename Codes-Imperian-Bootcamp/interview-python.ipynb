{
 "cells": [
  {
   "cell_type": "markdown",
   "metadata": {},
   "source": [
    "Question 1: Write a Python program to check if a string is a palindrome."
   ]
  },
  {
   "cell_type": "markdown",
   "metadata": {},
   "source": [
    "#### 1st Approach"
   ]
  },
  {
   "cell_type": "code",
   "execution_count": 3,
   "metadata": {},
   "outputs": [
    {
     "name": "stdout",
     "output_type": "stream",
     "text": [
      "madam is a palindrome\n"
     ]
    }
   ],
   "source": [
    "# very important \n",
    "def is_palindrome(string):\n",
    "    reversed_string = string[::-1]\n",
    "    return string == reversed_string\n",
    "\n",
    "# Test the function\n",
    "word = \"madam\"\n",
    "if is_palindrome(word):\n",
    "    print(f\"{word} is a palindrome\")\n",
    "else: \n",
    "    print(f\"{word} is not a palindrome\")    "
   ]
  },
  {
   "cell_type": "markdown",
   "metadata": {},
   "source": [
    "### 2nd Approach: Using 2 Pointers"
   ]
  },
  {
   "cell_type": "code",
   "execution_count": 2,
   "metadata": {},
   "outputs": [
    {
     "name": "stdout",
     "output_type": "stream",
     "text": [
      "False\n"
     ]
    }
   ],
   "source": [
    "def isPalindrome(s: str) -> bool:\n",
    "    i, j = 0, len(s) - 1\n",
    "    while i < j:\n",
    "        if not s[i].isalnum():\n",
    "            i += 1\n",
    "        elif not s[j].isalnum():\n",
    "            j -= 1\n",
    "        elif s[i].lower() != s[j].lower():\n",
    "            return False\n",
    "        else:\n",
    "            i, j = i + 1, j - 1\n",
    "    return True\n",
    "\n",
    "sentence = \"My name is Pranjal Sinha\"\n",
    "result = isPalindrome(sentence)\n",
    "print(f\"{result}\")"
   ]
  },
  {
   "cell_type": "markdown",
   "metadata": {},
   "source": [
    "Question 2: Write a Python program to find the factorial of a number."
   ]
  },
  {
   "cell_type": "code",
   "execution_count": 3,
   "metadata": {},
   "outputs": [
    {
     "name": "stdout",
     "output_type": "stream",
     "text": [
      "The factorial of 5 is 120\n"
     ]
    }
   ],
   "source": [
    "def factorial(n):\n",
    "    if n == 0:\n",
    "        return 1\n",
    "    else: \n",
    "        return n * factorial(n-1)\n",
    "\n",
    "#Test the function \n",
    "number = 5\n",
    "result = factorial(number)\n",
    "print(f\"The factorial of {number} is {result}\")"
   ]
  },
  {
   "cell_type": "markdown",
   "metadata": {},
   "source": [
    "Question 3: Write a Python program to find the largest element in a list."
   ]
  },
  {
   "cell_type": "code",
   "execution_count": 4,
   "metadata": {},
   "outputs": [
    {
     "name": "stdout",
     "output_type": "stream",
     "text": [
      "The largest number is 20\n"
     ]
    }
   ],
   "source": [
    "def find_largest(number):\n",
    "    largest = number[0]\n",
    "    for num in number:\n",
    "        if num > largest:\n",
    "            largest = num\n",
    "    return largest \n",
    "\n",
    "# Test the function \n",
    "nums = [10, 5, 8, 20, 3]\n",
    "largest_num = find_largest(nums)\n",
    "print(f\"The largest number is {largest_num}\")"
   ]
  },
  {
   "cell_type": "markdown",
   "metadata": {},
   "source": [
    "Question 4: Write a Python program to reverse a string."
   ]
  },
  {
   "cell_type": "code",
   "execution_count": null,
   "metadata": {},
   "outputs": [
    {
     "name": "stdout",
     "output_type": "stream",
     "text": [
      "The original string is: \n",
      "[1, 4, 5, 7, 9]\n",
      "[9, 7, 5, 4, 1]\n",
      "['s', 'k', 'e', 'e', 'g', 'r', 'o', 'f', 's', 'k', 'e', 'e', 'g']\n"
     ]
    }
   ],
   "source": [
    "def reverse(s):\n",
    "    str = \"\"\n",
    "    str = []\n",
    "    for i in s:\n",
    "        if type(str) == str: \n",
    "            str = i + str \n",
    "        else:\n",
    "            str = [i] + str\n",
    "    return str \n",
    "s1 = \"geeksforgeeks\"\n",
    "s = [1,4,5,7,9]\n",
    "print(\"The original string is: \")\n",
    "print(s)\n",
    "print(reverse(s))\n",
    "print(reverse(s1))"
   ]
  },
  {
   "cell_type": "code",
   "execution_count": 6,
   "metadata": {},
   "outputs": [
    {
     "name": "stdout",
     "output_type": "stream",
     "text": [
      "The original string is: geeksforgeeks\n"
     ]
    }
   ],
   "source": [
    "def reverse(s):\n",
    "    if len(s) == 0:\n",
    "        return s \n",
    "    else: \n",
    "        return reverse(s[1:]) + s[0]\n",
    "s = \"geeksforgeeks\"\n",
    "print(\"The original string is: \", end=\"\")\n",
    "print(s)"
   ]
  },
  {
   "cell_type": "code",
   "execution_count": 7,
   "metadata": {},
   "outputs": [
    {
     "name": "stdout",
     "output_type": "stream",
     "text": [
      "The original string is:  skeegrofskeeg\n",
      "geeksforgeeks\n"
     ]
    }
   ],
   "source": [
    "def reverse(string):\n",
    "    string = \"\".join(reversed(string))\n",
    "    return string \n",
    "\n",
    "s = \"geeksforgeeks\"\n",
    "print(\"The original string is: \", reverse(s))\n",
    "print(s)"
   ]
  },
  {
   "cell_type": "code",
   "execution_count": 8,
   "metadata": {},
   "outputs": [
    {
     "name": "stdout",
     "output_type": "stream",
     "text": [
      "The original string is:  skeegrofskeeg\n",
      "geeksforgeeks\n"
     ]
    }
   ],
   "source": [
    "def reverse(string): \n",
    "    string = [string[i] for i in range(len(string)-1, -1, -1)]\n",
    "    return \"\".join(string)\n",
    "s = \"geeksforgeeks\" \n",
    "print(\"The original string is: \", reverse(s))\n",
    "print(s)"
   ]
  },
  {
   "cell_type": "code",
   "execution_count": 9,
   "metadata": {},
   "outputs": [
    {
     "name": "stdout",
     "output_type": "stream",
     "text": [
      "The original string is:  geeksforgeeks\n",
      "The reversed string is:  skeegrofskeeg\n"
     ]
    }
   ],
   "source": [
    "def reverse(string):\n",
    "    string = list(string)\n",
    "    string.reverse()\n",
    "    return \"\".join(string)\n",
    "s = \"geeksforgeeks\"\n",
    "print(\"The original string is: \", s)\n",
    "print(\"The reversed string is: \", reverse(s))"
   ]
  },
  {
   "cell_type": "code",
   "execution_count": 10,
   "metadata": {},
   "outputs": [
    {
     "name": "stdout",
     "output_type": "stream",
     "text": [
      "! dlroW ,olleH\n"
     ]
    }
   ],
   "source": [
    "def reverse_string(string):\n",
    "    return string[::-1]\n",
    "\n",
    "# Test the function\n",
    "text = \"Hello, World !\"\n",
    "reversed_text = reverse_string(text)\n",
    "print(reversed_text)\n"
   ]
  },
  {
   "cell_type": "code",
   "execution_count": 11,
   "metadata": {},
   "outputs": [
    {
     "name": "stdout",
     "output_type": "stream",
     "text": [
      "skeeGrofskeeG\n"
     ]
    }
   ],
   "source": [
    "from functools import reduce\n",
    "str = \"GeeksforGeeks\"\n",
    "reversed_str = reduce(lambda x, y: y + x, str)\n",
    "print(reversed_str)"
   ]
  },
  {
   "cell_type": "markdown",
   "metadata": {},
   "source": [
    "Alternat Method for Interviews"
   ]
  },
  {
   "cell_type": "code",
   "execution_count": 12,
   "metadata": {},
   "outputs": [
    {
     "name": "stdout",
     "output_type": "stream",
     "text": [
      "Reversed String: lajnarP\n"
     ]
    }
   ],
   "source": [
    "def reverse_string(string):\n",
    "    characters = list(string)\n",
    "    reversed_array = []\n",
    "    for i in range(len(characters)-1, -1, -1):\n",
    "        reversed_array.append(characters[i])\n",
    "    return ''.join(reversed_array)\n",
    "\n",
    "name = \"Pranjal\"\n",
    "result = reverse_string(name)\n",
    "print(f\"Reversed String: {result}\")\n"
   ]
  },
  {
   "cell_type": "markdown",
   "metadata": {},
   "source": [
    "Question 5: Write a Python program to count the frequency of each element in a list."
   ]
  },
  {
   "cell_type": "code",
   "execution_count": 13,
   "metadata": {},
   "outputs": [
    {
     "name": "stdout",
     "output_type": "stream",
     "text": [
      "{1: 2, 2: 3, 3: 2, 4: 2, 5: 1}\n"
     ]
    }
   ],
   "source": [
    "def count_frequency(numbers):\n",
    "    frequency = {}\n",
    "    for num in numbers:\n",
    "        if num in frequency:\n",
    "            frequency[num] += 1\n",
    "        else: \n",
    "            frequency[num] = 1\n",
    "    return frequency\n",
    "\n",
    "nums = [1, 2, 3, 2, 1, 3, 2, 4, 5, 4]\n",
    "frequency_count = count_frequency(nums)\n",
    "print(frequency_count)"
   ]
  },
  {
   "cell_type": "markdown",
   "metadata": {},
   "source": [
    "Question 6: Write a Python program to check if a number is prime."
   ]
  },
  {
   "cell_type": "code",
   "execution_count": 14,
   "metadata": {},
   "outputs": [
    {
     "name": "stdout",
     "output_type": "stream",
     "text": [
      "17 is a prime number\n"
     ]
    }
   ],
   "source": [
    "def is_prime(number):\n",
    "    if number < 2:\n",
    "        return False\n",
    "    for i in range(2, int(number**0.5) + 1):\n",
    "        if number % i == 0:\n",
    "            return False\n",
    "    return True \n",
    "\n",
    "# Test the function \n",
    "num = 17\n",
    "if is_prime(num):\n",
    "    print(f\"{num} is a prime number\")\n",
    "else:    \n",
    "    print(f\"{num} is not a prime number\")"
   ]
  },
  {
   "cell_type": "markdown",
   "metadata": {},
   "source": [
    "Question 7: Write a Python program to find the common elements between two lists."
   ]
  },
  {
   "cell_type": "code",
   "execution_count": 15,
   "metadata": {},
   "outputs": [
    {
     "name": "stdout",
     "output_type": "stream",
     "text": [
      "[4, 5]\n"
     ]
    }
   ],
   "source": [
    "def find_common_elements(list1, list2):\n",
    "    common_elements = []\n",
    "    for item in list1:\n",
    "        if item in list2:\n",
    "            common_elements.append(item) \n",
    "    return common_elements \n",
    "\n",
    "list_a = [1, 2, 3, 4, 5]\n",
    "list_b = [4, 5, 6, 7, 8]\n",
    "common = find_common_elements(list_a, list_b)\n",
    "print(common)"
   ]
  },
  {
   "cell_type": "markdown",
   "metadata": {},
   "source": [
    "Question 8: Write a Python program to sort a list of elements using the bubble sort algorithm."
   ]
  },
  {
   "cell_type": "code",
   "execution_count": 16,
   "metadata": {},
   "outputs": [
    {
     "name": "stdout",
     "output_type": "stream",
     "text": [
      "[1, 2, 5, 8, 9]\n"
     ]
    }
   ],
   "source": [
    "def bubble_sort(elements):\n",
    "    n = len(elements)\n",
    "    for i in range(n - 1):\n",
    "        for j in range(n - i - 1):\n",
    "            if elements[j] > elements[j + 1]:\n",
    "                elements[j], elements[j + 1] = elements[j + 1], elements[j]\n",
    "\n",
    "# Test the function\n",
    "nums = [5, 2, 8, 1, 9]\n",
    "bubble_sort(nums)\n",
    "print(nums)"
   ]
  },
  {
   "cell_type": "markdown",
   "metadata": {},
   "source": [
    "Question 9: Write a Python program to find the second largest number in a list."
   ]
  },
  {
   "cell_type": "code",
   "execution_count": 17,
   "metadata": {},
   "outputs": [
    {
     "name": "stdout",
     "output_type": "stream",
     "text": [
      "The second largest number is 10\n"
     ]
    }
   ],
   "source": [
    "def find_second_largest(numbers):\n",
    "    largest = float('-inf')\n",
    "    second_largest = float('-inf')\n",
    "    for num in numbers:\n",
    "        if num > largest:\n",
    "            second_largest = largest\n",
    "            largest = num\n",
    "        elif num > second_largest and num != largest:\n",
    "            second_largest = num\n",
    "    return second_largest\n",
    "\n",
    "# Test the function\n",
    "nums = [10, 5, 8, 20, 3]\n",
    "second_largest_num = find_second_largest(nums)\n",
    "print(f\"The second largest number is {second_largest_num}\")"
   ]
  },
  {
   "cell_type": "markdown",
   "metadata": {},
   "source": [
    "Question 10: Write a Python program to remove duplicates from a list."
   ]
  },
  {
   "cell_type": "code",
   "execution_count": 18,
   "metadata": {},
   "outputs": [
    {
     "name": "stdout",
     "output_type": "stream",
     "text": [
      "[1, 2, 3, 4, 5]\n"
     ]
    }
   ],
   "source": [
    "def remove_duplicates(numbers):\n",
    "    unique_numbers = []\n",
    "    for num in numbers:\n",
    "        if num not in unique_numbers:\n",
    "            unique_numbers.append(num)\n",
    "    return unique_numbers\n",
    "\n",
    "# Test the function\n",
    "nums = [1, 2, 3, 2, 1, 3, 2, 4, 5, 4]\n",
    "unique_nums = remove_duplicates(nums)\n",
    "print(f\"{unique_nums}\")"
   ]
  },
  {
   "cell_type": "markdown",
   "metadata": {},
   "source": [
    "### Best Time to Buy and Sell"
   ]
  },
  {
   "cell_type": "code",
   "execution_count": 19,
   "metadata": {},
   "outputs": [],
   "source": [
    "from typing import List \n",
    "def maxProfit(self, prices: List[int]) -> int: \n",
    "    profit = 0\n",
    "    buy = prices[0]\n",
    "   \n",
    "    for p in prices: \n",
    "        buy = min(buy, p)\n",
    "        profit = max(profit, p - buy)\n",
    "    return profit "
   ]
  },
  {
   "cell_type": "markdown",
   "metadata": {},
   "source": [
    "### Binary Search"
   ]
  },
  {
   "cell_type": "code",
   "execution_count": 20,
   "metadata": {},
   "outputs": [
    {
     "name": "stdout",
     "output_type": "stream",
     "text": [
      "4\n"
     ]
    }
   ],
   "source": [
    "from typing import List\n",
    "\n",
    "def search(self, nums: List[int], target: int) -> int:  \n",
    "    l, r = 0, len(nums) - 1  \n",
    "    \n",
    "    while l <= r:  \n",
    "        i = l + (r - l) // 2  # Calculate the middle index\n",
    "        n = nums[i]  # Get the middle element\n",
    "\n",
    "        if target > n:  \n",
    "            l = i + 1\n",
    "        elif target < n:  \n",
    "            r = i - 1\n",
    "        else:\n",
    "            return i  \n",
    "\n",
    "    return -1  \n",
    "\n",
    "nums = [-1, 0, 3, 5, 9, 12]\n",
    "target = 9\n",
    "\n",
    "result = search(None, nums, target)\n",
    "print(result)  "
   ]
  },
  {
   "cell_type": "code",
   "execution_count": 21,
   "metadata": {},
   "outputs": [],
   "source": [
    "from collections import deque\n",
    "\n",
    "def canFinish(self, numCourses: int, prerequisites):\n",
    "    # Build adjacency list\n",
    "    indegree = [0] * numCourses\n",
    "    adj = [[] for _ in range(numCourses)]\n",
    "    \n",
    "    # Fill the adjacency list and calculate in-degrees\n",
    "    for src, dst in prerequisites:\n",
    "        indegree[dst] += 1\n",
    "        adj[src].append(dst)\n",
    "    \n",
    "    # Initialize queue with nodes that have no prerequisites (indegree == 0)\n",
    "    q = deque()\n",
    "    for n in range(numCourses):\n",
    "        if indegree[n] == 0:\n",
    "            q.append(n)\n",
    "    \n",
    "    # Process nodes in topological order\n",
    "    while q:\n",
    "        node = q.popleft()\n",
    "        for nei in adj[node]:\n",
    "            indegree[nei] -= 1\n",
    "            if indegree[nei] == 0:\n",
    "                q.append(nei)\n",
    "    \n",
    "    # If all nodes' indegree become zero, it means there are no cycles\n",
    "    return sum(indegree) == 0\n"
   ]
  },
  {
   "cell_type": "code",
   "execution_count": 22,
   "metadata": {},
   "outputs": [
    {
     "name": "stdout",
     "output_type": "stream",
     "text": [
      "4\n"
     ]
    }
   ],
   "source": [
    "#Question rotten oranges \n",
    "from collections import deque\n",
    "from typing import List\n",
    "\n",
    "def orangesRotting(self, grid: List[List[int]]) -> int:\n",
    "    q = deque()\n",
    "    fresh = 0\n",
    "    rows, cols = len(grid), len(grid[0])\n",
    "\n",
    "    for r in range(rows):\n",
    "        for c in range(cols):\n",
    "            if grid[r][c] == 1:\n",
    "                fresh += 1\n",
    "            if grid[r][c] == 2:\n",
    "                q.append((r, c))\n",
    "\n",
    "    # Directions for adjacent cells (up, down, left, right)\n",
    "    directions = [(0, 1), (0, -1), (1, 0), (-1, 0)]\n",
    "    time = 0\n",
    "\n",
    "    # BFS to spread the rot to adjacent fresh oranges\n",
    "    while fresh > 0 and q:\n",
    "        time += 1\n",
    "        for i in range(len(q)):\n",
    "            r, c = q.popleft()\n",
    "            # Check all 4 directions\n",
    "            for dr, dc in directions:\n",
    "                nr, nc = r + dr, c + dc\n",
    "                # If the adjacent orange is fresh, it becomes rotten\n",
    "                if 0 <= nr < rows and 0 <= nc < cols and grid[nr][nc] == 1:\n",
    "                    grid[nr][nc] = 2\n",
    "                    fresh -= 1\n",
    "                    q.append((nr, nc))\n",
    "\n",
    "    # If there are still fresh oranges left, return -1\n",
    "    return time if fresh == 0 else -1\n",
    "\n",
    "# Example usage:\n",
    "grid = [\n",
    "    [2, 1, 1],\n",
    "    [1, 1, 0],\n",
    "    [0, 1, 1]\n",
    "]\n",
    "\n",
    "# Create an instance or use as a static method\n",
    "result = orangesRotting(None, grid)\n",
    "print(result)  # Output: 4\n",
    "\n"
   ]
  },
  {
   "cell_type": "code",
   "execution_count": 23,
   "metadata": {},
   "outputs": [],
   "source": [
    "#Happy Number: Using Cycle Detection\n",
    "class Solution: \n",
    "    def isHappy(self, n: int) -> bool: \n",
    "\n",
    "        def sum_of_squares(n): \n",
    "            res = 0\n",
    "            while n: \n",
    "                res += (n % 10) ** 2\n",
    "                n = n // 10\n",
    "            return res \n",
    "        \n",
    "        slow, fast = n, sum_of_squares(n)\n",
    "        while slow != fast: \n",
    "            slow = sum_of_squares(slow)\n",
    "            fast = sum_of_squares(sum_of_squares(fast))\n",
    "        \n",
    "        return True if slow == 1 else False "
   ]
  },
  {
   "cell_type": "code",
   "execution_count": 24,
   "metadata": {},
   "outputs": [
    {
     "name": "stdout",
     "output_type": "stream",
     "text": [
      "True\n"
     ]
    }
   ],
   "source": [
    "#Eating fresh lemonade change\n",
    "from typing import List\n",
    "\n",
    "def lemonadeChange(self, bills: List[int]) -> bool:\n",
    "    five, ten = 0, 0\n",
    "    \n",
    "    for b in bills:\n",
    "        if b == 5:\n",
    "            five += 1\n",
    "        elif b == 10:\n",
    "            if five > 0:\n",
    "                five -= 1\n",
    "                ten += 1\n",
    "            else:\n",
    "                return False\n",
    "        elif b == 20:\n",
    "            if ten > 0 and five > 0:\n",
    "                ten -= 1\n",
    "                five -= 1\n",
    "            elif five >= 3:\n",
    "                five -= 3\n",
    "            else:\n",
    "                return False\n",
    "    \n",
    "    return True\n",
    "\n",
    "# Example Usage\n",
    "customers = [5, 5, 5, 10, 20]\n",
    "result = lemonadeChange(None, customers)\n",
    "print(result)"
   ]
  },
  {
   "cell_type": "code",
   "execution_count": null,
   "metadata": {},
   "outputs": [],
   "source": [
    "#Container with most water\n",
    "from typing import List\n",
    "def maxArea(self, heights: List[int]) -> int:\n",
    "    l, r = 0, len(heights) - 1 \n",
    "    res = 0  # Initialize the result variable\n",
    "    while l < r:\n",
    "        res = max(res, min(heights[l], heights[r]) * (r - l))\n",
    "        if heights[l] < heights[r]:\n",
    "            l += 1\n",
    "        else:\n",
    "            r -= 1\n",
    "    return res"
   ]
  },
  {
   "cell_type": "code",
   "execution_count": 26,
   "metadata": {},
   "outputs": [
    {
     "name": "stdout",
     "output_type": "stream",
     "text": [
      "Given list of numbers is [2, 3, 4, 5]\n",
      "The target result is 8\n",
      "Thus, the answer is [2, 4]\n"
     ]
    }
   ],
   "source": [
    "from typing import List\n",
    "\n",
    "class Solution:\n",
    "    def twoSum(self, numbers: List[int], target: int) -> List[int]:  # Return type should be List[int]\n",
    "        l, r = 0, len(numbers) - 1 \n",
    "        \n",
    "        while l < r:\n",
    "            curSum = numbers[l] + numbers[r]  # Calculate current sum\n",
    "            \n",
    "            if curSum > target:\n",
    "                r -= 1  \n",
    "            elif curSum < target:\n",
    "                l += 1  \n",
    "            else:\n",
    "                return [l + 1, r + 1]  # Return indices 1-based\n",
    "        return [] \n",
    "    \n",
    "nums = [2, 3, 4, 5]\n",
    "result = 8\n",
    "\n",
    "my_solution = Solution()\n",
    "answer = my_solution.twoSum(nums, result)\n",
    "\n",
    "print(f\"Given list of numbers is {nums}\")\n",
    "print(f\"The target result is {result}\")\n",
    "print(f\"Thus, the answer is {answer}\")            "
   ]
  },
  {
   "cell_type": "code",
   "execution_count": 27,
   "metadata": {},
   "outputs": [],
   "source": [
    "# binary tree node from view\n",
    "from typing import Optional, List\n",
    "from collections import deque\n",
    "\n",
    "# Definition for a binary tree node.\n",
    "class TreeNode:\n",
    "    def __init__(self, val=0, left=None, right=None):\n",
    "        self.val = val\n",
    "        self.left = left\n",
    "        self.right = right\n",
    "\n",
    "class Solution:\n",
    "    def rightSideView(self, root: Optional[TreeNode]) -> List[int]:\n",
    "        res = []\n",
    "        if not root:\n",
    "            return res  \n",
    "        \n",
    "        q = deque([root])  # Initialize the deque with the root node\n",
    "\n",
    "        while q:\n",
    "            last = None\n",
    "            for i in range(len(q)):\n",
    "                node = q.popleft()\n",
    "                if node:\n",
    "                    q.append(node.left)  # Append left child\n",
    "                    q.append(node.right)  # Append right child\n",
    "                    last = node  # Track the last node at the current level\n",
    "\n",
    "            if last:\n",
    "                res.append(last.val)  # Add the last node's value to the result list\n",
    "        \n",
    "        return res\n"
   ]
  },
  {
   "cell_type": "code",
   "execution_count": 28,
   "metadata": {},
   "outputs": [],
   "source": [
    "# Combination Sum - Backtracking\n",
    "from typing import List\n",
    "\n",
    "class Solution:\n",
    "    def combinationSum(self, candidates: List[int], target: int) -> List[List[int]]:\n",
    "        res = []\n",
    "\n",
    "        def dfs(i, cur, total):\n",
    "            # If the current sum equals target, add the current combination\n",
    "            if total == target:\n",
    "                res.append(cur.copy())\n",
    "                return\n",
    "            \n",
    "            # If index out of bounds or total exceeds target, backtrack\n",
    "            if i >= len(candidates) or total > target:\n",
    "                return\n",
    "            \n",
    "            # Include the current candidate and continue exploring\n",
    "            cur.append(candidates[i])\n",
    "            dfs(i, cur, total + candidates[i])\n",
    "            \n",
    "            # Backtrack and try the next candidate\n",
    "            cur.pop()\n",
    "            dfs(i + 1, cur, total)\n",
    "\n",
    "        # Start DFS from the 0th index with an empty combination and 0 total\n",
    "        dfs(0, [], 0)\n",
    "        \n",
    "        return res    "
   ]
  }
 ],
 "metadata": {
  "kernelspec": {
   "display_name": "Python 3",
   "language": "python",
   "name": "python3"
  },
  "language_info": {
   "codemirror_mode": {
    "name": "ipython",
    "version": 3
   },
   "file_extension": ".py",
   "mimetype": "text/x-python",
   "name": "python",
   "nbconvert_exporter": "python",
   "pygments_lexer": "ipython3",
   "version": "3.8.10"
  }
 },
 "nbformat": 4,
 "nbformat_minor": 2
}
