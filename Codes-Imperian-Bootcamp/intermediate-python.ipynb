{
 "cells": [
  {
   "cell_type": "code",
   "execution_count": 2,
   "metadata": {},
   "outputs": [
    {
     "name": "stdout",
     "output_type": "stream",
     "text": [
      "Requirement already satisfied: requests in c:\\users\\kiit\\appdata\\local\\packages\\pythonsoftwarefoundation.python.3.8_qbz5n2kfra8p0\\localcache\\local-packages\\python38\\site-packages (2.28.2)\n",
      "Requirement already satisfied: charset-normalizer<4,>=2 in c:\\users\\kiit\\appdata\\local\\packages\\pythonsoftwarefoundation.python.3.8_qbz5n2kfra8p0\\localcache\\local-packages\\python38\\site-packages (from requests) (2.0.10)\n",
      "Requirement already satisfied: idna<4,>=2.5 in c:\\users\\kiit\\appdata\\local\\packages\\pythonsoftwarefoundation.python.3.8_qbz5n2kfra8p0\\localcache\\local-packages\\python38\\site-packages (from requests) (2.8)\n",
      "Requirement already satisfied: urllib3<1.27,>=1.21.1 in c:\\users\\kiit\\appdata\\local\\packages\\pythonsoftwarefoundation.python.3.8_qbz5n2kfra8p0\\localcache\\local-packages\\python38\\site-packages (from requests) (1.25.11)\n",
      "Requirement already satisfied: certifi>=2017.4.17 in c:\\users\\kiit\\appdata\\local\\packages\\pythonsoftwarefoundation.python.3.8_qbz5n2kfra8p0\\localcache\\local-packages\\python38\\site-packages (from requests) (2021.5.30)\n",
      "Note: you may need to restart the kernel to use updated packages.\n"
     ]
    },
    {
     "name": "stderr",
     "output_type": "stream",
     "text": [
      "WARNING: Ignoring invalid distribution -ip (c:\\users\\kiit\\appdata\\local\\packages\\pythonsoftwarefoundation.python.3.8_qbz5n2kfra8p0\\localcache\\local-packages\\python38\\site-packages)\n",
      "WARNING: Error parsing dependencies of gym: Expected matching RIGHT_PARENTHESIS for LEFT_PARENTHESIS, after version specifier\n",
      "    opencv-python (>=3.) ; extra == 'all'\n",
      "                  ~~~~^\n",
      "WARNING: Ignoring invalid distribution -ip (c:\\users\\kiit\\appdata\\local\\packages\\pythonsoftwarefoundation.python.3.8_qbz5n2kfra8p0\\localcache\\local-packages\\python38\\site-packages)\n",
      "WARNING: Ignoring invalid distribution -ip (c:\\users\\kiit\\appdata\\local\\packages\\pythonsoftwarefoundation.python.3.8_qbz5n2kfra8p0\\localcache\\local-packages\\python38\\site-packages)\n",
      "\n",
      "[notice] A new release of pip is available: 24.3.1 -> 25.0.1\n",
      "[notice] To update, run: C:\\Users\\KIIT\\AppData\\Local\\Microsoft\\WindowsApps\\PythonSoftwareFoundation.Python.3.8_qbz5n2kfra8p0\\python.exe -m pip install --upgrade pip\n"
     ]
    }
   ],
   "source": [
    "pip install requests"
   ]
  },
  {
   "cell_type": "code",
   "execution_count": 22,
   "metadata": {},
   "outputs": [],
   "source": [
    "import requests as rqt\n",
    "\n",
    "# Use a different API (Futurama Characters API as a sample)\n",
    "resp = rqt.get(\"https://api.sampleapis.com/futurama/characters\")\n",
    "\n",
    "# Parse JSON response\n",
    "data = resp.json()\n",
    "\n",
    "# Loop through and print character names that have 'Professor' in them\n",
    "for i in data:\n",
    "    if \"Professor\" in i['name']:  \n",
    "        print(i['name'])\n"
   ]
  },
  {
   "cell_type": "code",
   "execution_count": 10,
   "metadata": {},
   "outputs": [
    {
     "name": "stdout",
     "output_type": "stream",
     "text": [
      "application/json\n"
     ]
    }
   ],
   "source": [
    "import requests \n",
    "response = requests.get(\"http://api.open-notify.org/iss-pass.\")\n",
    "header = response.headers\n",
    "print('application/json')"
   ]
  },
  {
   "cell_type": "code",
   "execution_count": 11,
   "metadata": {},
   "outputs": [
    {
     "name": "stdout",
     "output_type": "stream",
     "text": [
      "afghan\n",
      "basset\n",
      "blood\n",
      "english\n",
      "ibizan\n",
      "plott\n",
      "walker\n"
     ]
    }
   ],
   "source": [
    "import requests as rqt\n",
    "response = rqt.get(\"http://dog.ceo/api/breeds/list/all\")\n",
    "py_data = response.json()\n",
    "for i in py_data['message']['hound']: \n",
    "    print(i)"
   ]
  },
  {
   "cell_type": "code",
   "execution_count": 13,
   "metadata": {},
   "outputs": [
    {
     "name": "stdout",
     "output_type": "stream",
     "text": [
      "4\n"
     ]
    }
   ],
   "source": [
    "import requests as rqt\n",
    "respone = rqt.get(\"http://dog.ceo/api/breeds/list/all\")\n",
    "py_data = response.json()\n",
    "print(len(py_data['message']['poodle']))"
   ]
  },
  {
   "cell_type": "code",
   "execution_count": 20,
   "metadata": {},
   "outputs": [],
   "source": [
    "import requests\n",
    "\n",
    "response = requests.get(\"https://api.sampleapis.com/codingresources/codingResources\")\n",
    "courses = response.json()\n",
    "\n",
    "for course in courses:\n",
    "    if course.get(\"free\"):  # Check if course is free\n",
    "        print(course['title'].strip())\n"
   ]
  },
  {
   "cell_type": "code",
   "execution_count": 21,
   "metadata": {},
   "outputs": [
    {
     "name": "stdout",
     "output_type": "stream",
     "text": [
      "Geonosis\n",
      "Utapau\n",
      "Mustafar\n",
      "Kashyyyk\n",
      "Polis Massa\n",
      "Mygeeto\n",
      "Felucia\n",
      "Cato Neimoidia\n",
      "Saleucami\n",
      "Stewjon\n"
     ]
    }
   ],
   "source": [
    "import requests as rqt\n",
    "\n",
    "# Correct API URL\n",
    "respon = rqt.get('https://swapi.dev/api/planets/', params={\"page\": 2})\n",
    "\n",
    "# Parse JSON\n",
    "data = respon.json()\n",
    "\n",
    "# Correct key is 'results', not 'result'\n",
    "for planet in data['results']:\n",
    "    print(planet['name'])  # Print planet names\n"
   ]
  }
 ],
 "metadata": {
  "kernelspec": {
   "display_name": "Python 3",
   "language": "python",
   "name": "python3"
  },
  "language_info": {
   "codemirror_mode": {
    "name": "ipython",
    "version": 3
   },
   "file_extension": ".py",
   "mimetype": "text/x-python",
   "name": "python",
   "nbconvert_exporter": "python",
   "pygments_lexer": "ipython3",
   "version": "3.8.10"
  }
 },
 "nbformat": 4,
 "nbformat_minor": 2
}
