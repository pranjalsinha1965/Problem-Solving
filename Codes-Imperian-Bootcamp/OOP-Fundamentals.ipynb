{
 "cells": [
  {
   "cell_type": "code",
   "execution_count": 1,
   "metadata": {},
   "outputs": [
    {
     "name": "stdout",
     "output_type": "stream",
     "text": [
      "<class 'int'>\n",
      "<class 'list'>\n",
      "<class 'tuple'>\n",
      "<class 'dict'>\n"
     ]
    }
   ],
   "source": [
    "lst = [1, 2, 3]\n",
    "lst.count(2)\n",
    "print(type(1))\n",
    "print(type([]))\n",
    "print(type(()))\n",
    "print(type({}))"
   ]
  },
  {
   "cell_type": "code",
   "execution_count": 2,
   "metadata": {},
   "outputs": [
    {
     "name": "stdout",
     "output_type": "stream",
     "text": [
      "<class '__main__.Sample'>\n"
     ]
    }
   ],
   "source": [
    "class Sample:\n",
    "    pass\n",
    "x = Sample()\n",
    "print(type(x))"
   ]
  },
  {
   "cell_type": "code",
   "execution_count": null,
   "metadata": {},
   "outputs": [
    {
     "data": {
      "text/plain": [
       "'Huskie'"
      ]
     },
     "execution_count": 3,
     "metadata": {},
     "output_type": "execute_result"
    }
   ],
   "source": [
    "class Dog:\n",
    "    def __init__(self, breed):\n",
    "        self.breed = breed\n",
    "\n",
    "sam = Dog(breed='Lab')\n",
    "frank = Dog(breed='Huskie')  \n",
    "sam.breed\n",
    "frank.breed"
   ]
  },
  {
   "cell_type": "code",
   "execution_count": 4,
   "metadata": {},
   "outputs": [],
   "source": [
    "class Dog:\n",
    "    species = 'mammal'\n",
    "    def __init__(self, breed, name):\n",
    "        self.breed = breed\n",
    "        self.name = name"
   ]
  },
  {
   "cell_type": "code",
   "execution_count": 5,
   "metadata": {},
   "outputs": [
    {
     "data": {
      "text/plain": [
       "'mammal'"
      ]
     },
     "execution_count": 5,
     "metadata": {},
     "output_type": "execute_result"
    }
   ],
   "source": [
    "sam = Dog('Lab', 'Sam')\n",
    "sam.name\n",
    "sam.species"
   ]
  },
  {
   "cell_type": "code",
   "execution_count": 1,
   "metadata": {},
   "outputs": [
    {
     "name": "stdout",
     "output_type": "stream",
     "text": [
      "Radius is:  1\n",
      "Area is:  3.14\n",
      "Circumference is: 6.28\n"
     ]
    }
   ],
   "source": [
    "class Circle:\n",
    "    pi = 3.14\n",
    "\n",
    "    def __init__(self, radius=1):\n",
    "        self.radius = radius\n",
    "        self.area = radius * radius * Circle.pi\n",
    "    \n",
    "    def setRadius(self, new_radius):\n",
    "        self.radius = new_radius\n",
    "        self.area = new_radius * new_radius * self.pi\n",
    "    \n",
    "    def getCircumference(self):\n",
    "        return self.radius * self.pi * 2\n",
    "    \n",
    "c = Circle()\n",
    "print('Radius is: ', c.radius)\n",
    "print('Area is: ', c.area)\n",
    "print('Circumference is:', c.getCircumference())"
   ]
  },
  {
   "cell_type": "code",
   "execution_count": 2,
   "metadata": {},
   "outputs": [],
   "source": [
    "class Animal:\n",
    "    def __init__(self):\n",
    "        print(\"Animal created\")\n",
    "\n",
    "    def whoAmI(self):\n",
    "        print(\"Animal\")\n",
    "\n",
    "    def eat(self):\n",
    "        print(\"Eating\")\n",
    "\n",
    "class Dog(Animal):\n",
    "    def __init__(self):\n",
    "        Animal.__init__(self)\n",
    "        print(\"Dog created\")\n",
    "\n",
    "    def whoAmI(self):\n",
    "        print(\"Dog\")\n",
    "\n",
    "    def bark(self):\n",
    "        print(\"Woof!\")"
   ]
  },
  {
   "cell_type": "code",
   "execution_count": 8,
   "metadata": {},
   "outputs": [
    {
     "name": "stdout",
     "output_type": "stream",
     "text": [
      "Animal created\n",
      "Dog created\n",
      "Dog\n",
      "Eating\n",
      "Woof!\n"
     ]
    }
   ],
   "source": [
    "# Create an instance of Dog\n",
    "dog = Dog()\n",
    "\n",
    "# Call the whoAmI method\n",
    "dog.whoAmI()  # Output: Dog\n",
    "\n",
    "# Call the eat method\n",
    "dog.eat()  # Output: Eating\n",
    "\n",
    "# Call the bark method\n",
    "dog.bark()  # Output: Woof!"
   ]
  },
  {
   "cell_type": "code",
   "execution_count": 9,
   "metadata": {},
   "outputs": [
    {
     "name": "stdout",
     "output_type": "stream",
     "text": [
      "Niko says Woof ! \n",
      "Felix says Meow !\n",
      "Niko says Woof ! \n",
      "Felix says Meow !\n",
      "Niko says Woof ! \n",
      "Felix says Meow !\n"
     ]
    }
   ],
   "source": [
    "class Dog:\n",
    "    def __init__(self, name):\n",
    "        self.name = name\n",
    "    \n",
    "    def speak(self):\n",
    "        return self.name + ' says Woof ! '\n",
    "\n",
    "class Cat:\n",
    "    def __init__(self, name):\n",
    "        self.name = name\n",
    "    \n",
    "    def speak(self):\n",
    "        return self.name + ' says Meow ! '\n",
    "    \n",
    "niko = Dog('Niko')\n",
    "felix = Cat('Felix')\n",
    "\n",
    "print(niko.speak())\n",
    "print(felix.speak())\n",
    "\n",
    "for pet in [niko, felix]:\n",
    "    print(pet.speak())\n",
    "\n",
    "def pet_speak(pet):\n",
    "    print(pet.speak())\n",
    "\n",
    "pet_speak(niko)\n",
    "pet_speak(felix)"
   ]
  },
  {
   "cell_type": "code",
   "execution_count": 1,
   "metadata": {},
   "outputs": [
    {
     "name": "stdout",
     "output_type": "stream",
     "text": [
      "A book is created\n",
      "Title: Python Rocks!, author: Jose Portilla, pages: 159\n",
      "159\n",
      "A book is destroyed\n"
     ]
    }
   ],
   "source": [
    "class Book:\n",
    "    def __init__(self, title, author, pages):\n",
    "        print(\"A book is created\")\n",
    "        self.title = title\n",
    "        self.author = author\n",
    "        self.pages = pages\n",
    "\n",
    "    def __str__(self):\n",
    "        return \"Title: %s, author: %s, pages: %s\" %(self.title, self.author, self.pages)\n",
    "\n",
    "    def __len__(self):\n",
    "        return self.pages\n",
    "\n",
    "    def __del__(self):\n",
    "        print(\"A book is destroyed\")\n",
    "\n",
    "book = Book(\"Python Rocks!\", \"Jose Portilla\", 159)\n",
    "\n",
    "#Special Methods\n",
    "print(book)\n",
    "print(len(book))\n",
    "del book"
   ]
  },
  {
   "cell_type": "code",
   "execution_count": 11,
   "metadata": {},
   "outputs": [],
   "source": [
    "class Line:\n",
    "    \n",
    "    def __init__(self, coor1, coor2):\n",
    "        pass\n",
    "\n",
    "    def distance(self):\n",
    "        pass\n",
    "\n",
    "    def slope(self):\n",
    "        pass\n",
    "\n",
    "coordinate1 = (3, 2)\n",
    "coordinate2 = (8, 10)\n",
    "\n",
    "li = Line(coordinate1, coordinate2)\n",
    "\n",
    "li.slope()\n",
    "li.distance()"
   ]
  },
  {
   "cell_type": "code",
   "execution_count": 12,
   "metadata": {},
   "outputs": [
    {
     "name": "stdout",
     "output_type": "stream",
     "text": [
      "Volume: 56.548667764616276\n",
      "Surface Area: 94.24777960769379\n"
     ]
    }
   ],
   "source": [
    "import math\n",
    "\n",
    "class Cylinder:\n",
    "    def __init__(self, height=1, radius=2):\n",
    "        self.height = height\n",
    "        self.radius = radius\n",
    "\n",
    "    def volume(self):\n",
    "        return math.pi * self.radius ** 2 * self.height\n",
    "\n",
    "    def surface_area(self):\n",
    "        return 2 * math.pi * self.radius * self.height + 2 * math.pi * self.radius ** 2\n",
    "\n",
    "c = Cylinder(2, 3)\n",
    "print(\"Volume:\", c.volume())\n",
    "print(\"Surface Area:\", c.surface_area())"
   ]
  },
  {
   "cell_type": "code",
   "execution_count": 13,
   "metadata": {},
   "outputs": [
    {
     "name": "stdout",
     "output_type": "stream",
     "text": [
      "Jose\n",
      "100\n",
      "Withdrawn 75 from the balance\n",
      "25\n",
      "Funds Unavailable!\n",
      "25\n",
      "Funds Unavailable!\n",
      "25\n"
     ]
    }
   ],
   "source": [
    "class Account:\n",
    "    def __init__(self, owner, balance=0):\n",
    "        self.owner = owner\n",
    "        self.balance = balance\n",
    "\n",
    "    def deposit(self, amount):\n",
    "        self.balance += amount\n",
    "        print(f\"Added {amount} to the balance\")\n",
    "\n",
    "    def withdraw(self, amount):\n",
    "        if amount > self.balance:\n",
    "            print(\"Funds Unavailable!\")\n",
    "        else:\n",
    "            self.balance -= amount\n",
    "            print(f\"Withdrawn {amount} from the balance\")\n",
    "\n",
    "    def __str__(self):\n",
    "        return f\"Account owner: {self.owner}\\nAccount balance: {self.balance}\"\n",
    "\n",
    "# Create an instance of Account\n",
    "acct1 = Account('Jose', 100)\n",
    "\n",
    "# Access owner and balance attributes\n",
    "print(acct1.owner)       # Output: Jose\n",
    "print(acct1.balance)     # Output: 100\n",
    "\n",
    "# Perform withdrawals\n",
    "acct1.withdraw(75)       # Output: Withdrawn 75 from the balance\n",
    "print(acct1.balance)     # Output: 25\n",
    "\n",
    "acct1.withdraw(500)      # Output: Funds Unavailable!\n",
    "print(acct1.balance)     # Output: 25\n",
    "\n",
    "acct1.withdraw(50)       # Output: Funds Unavailable!\n",
    "print(acct1.balance)     # Output: 25"
   ]
  },
  {
   "cell_type": "code",
   "execution_count": 11,
   "metadata": {},
   "outputs": [
    {
     "name": "stdout",
     "output_type": "stream",
     "text": [
      "Looks like you did not enter an integer!\n",
      "Finally, I executed!\n",
      "Looks like you did not enter an integer!\n",
      "Finally, I executed!\n",
      "Yep that`s an integer !\n",
      "Finally, I executed!\n"
     ]
    }
   ],
   "source": [
    "def askint():\n",
    "    while True:\n",
    "        try:\n",
    "            val = int(input(\"Please enter an integer: \"))\n",
    "        except:\n",
    "            print(\"Looks like you did not enter an integer!\")\n",
    "            continue\n",
    "        else: \n",
    "            print(\"Yep that`s an integer !\")\n",
    "            break\n",
    "        finally:\n",
    "            print(\"Finally, I executed!\")\n",
    "        print(val)\n",
    "askint()"
   ]
  },
  {
   "cell_type": "code",
   "execution_count": null,
   "metadata": {},
   "outputs": [],
   "source": [
    "import math\n",
    "math.ceil(2.4)\n",
    "print(dir(math))\n",
    "help(math.ceil)"
   ]
  },
  {
   "cell_type": "markdown",
   "metadata": {},
   "source": [
    "Go and lookout in jupyter notebook about modules and packages.\n",
    "\n",
    "(https://github.com/Pierian-Data/Complete-Python-3-Bootcamp/blob/master/06-Modules%20and%20Packages/.ipynb_checkpoints/Useful_Info_Notebook-checkpoint.ipynb)"
   ]
  },
  {
   "cell_type": "code",
   "execution_count": 1,
   "metadata": {},
   "outputs": [
    {
     "name": "stdout",
     "output_type": "stream",
     "text": [
      "An error occurred !\n"
     ]
    }
   ],
   "source": [
    "try:\n",
    "    for i in ['a', 'b', 'c']:\n",
    "        print(i**2)\n",
    "except:\n",
    "    print(\"An error occurred !\")"
   ]
  },
  {
   "cell_type": "code",
   "execution_count": null,
   "metadata": {},
   "outputs": [],
   "source": [
    "x = 5\n",
    "y = 0\n",
    "try:\n",
    "    z = x/y\n",
    "except ZeroDivisionError:\n",
    "    print(\"Can`t divide by Zero !\")\n",
    "finally:\n",
    "    print(\"All Done!\")"
   ]
  },
  {
   "cell_type": "markdown",
   "metadata": {},
   "source": [
    "**Unit Testing**\n",
    "\n",
    "Recall that with some IPython magic we can write the contents of a cell to a file using %%writefile.\n",
    "Something we haven't seen yet; you can run terminal commands from a jupyter cell using !"
   ]
  },
  {
   "cell_type": "code",
   "execution_count": null,
   "metadata": {},
   "outputs": [],
   "source": [
    "! pip install pylint"
   ]
  },
  {
   "cell_type": "code",
   "execution_count": 3,
   "metadata": {},
   "outputs": [
    {
     "name": "stdout",
     "output_type": "stream",
     "text": [
      "Writing simple.py\n"
     ]
    }
   ],
   "source": [
    "%%writefile simple.py \n",
    "a = 1\n",
    "b = 2\n",
    "print(a)\n",
    "print(b)"
   ]
  },
  {
   "cell_type": "code",
   "execution_count": 4,
   "metadata": {},
   "outputs": [
    {
     "name": "stderr",
     "output_type": "stream",
     "text": [
      "Traceback (most recent call last):\n",
      "  File \"C:\\Program Files\\WindowsApps\\PythonSoftwareFoundation.Python.3.8_3.8.2800.0_x64__qbz5n2kfra8p0\\lib\\runpy.py\", line 194, in _run_module_as_main\n",
      "    return _run_code(code, main_globals, None,\n",
      "  File \"C:\\Program Files\\WindowsApps\\PythonSoftwareFoundation.Python.3.8_3.8.2800.0_x64__qbz5n2kfra8p0\\lib\\runpy.py\", line 87, in _run_code\n",
      "    exec(code, run_globals)\n",
      "  File \"c:\\Users\\KIIT\\AppData\\Local\\Packages\\PythonSoftwareFoundation.Python.3.8_qbz5n2kfra8p0\\LocalCache\\local-packages\\Python38\\Scripts\\pylint.exe\\__main__.py\", line 7, in <module>\n",
      "  File \"C:\\Users\\KIIT\\AppData\\Local\\Packages\\PythonSoftwareFoundation.Python.3.8_qbz5n2kfra8p0\\LocalCache\\local-packages\\Python38\\site-packages\\pylint\\__init__.py\", line 21, in run_pylint\n",
      "    from pylint.lint import Run as PylintRun\n",
      "  File \"C:\\Users\\KIIT\\AppData\\Local\\Packages\\PythonSoftwareFoundation.Python.3.8_qbz5n2kfra8p0\\LocalCache\\local-packages\\Python38\\site-packages\\pylint\\lint\\__init__.py\", line 76, in <module>\n",
      "    from pylint.lint.parallel import check_parallel\n",
      "  File \"C:\\Users\\KIIT\\AppData\\Local\\Packages\\PythonSoftwareFoundation.Python.3.8_qbz5n2kfra8p0\\LocalCache\\local-packages\\Python38\\site-packages\\pylint\\lint\\parallel.py\", line 7, in <module>\n",
      "    from pylint import reporters\n",
      "  File \"C:\\Users\\KIIT\\AppData\\Local\\Packages\\PythonSoftwareFoundation.Python.3.8_qbz5n2kfra8p0\\LocalCache\\local-packages\\Python38\\site-packages\\pylint\\reporters\\__init__.py\", line 26, in <module>\n",
      "    from pylint import utils\n",
      "  File \"C:\\Users\\KIIT\\AppData\\Local\\Packages\\PythonSoftwareFoundation.Python.3.8_qbz5n2kfra8p0\\LocalCache\\local-packages\\Python38\\site-packages\\pylint\\utils\\__init__.py\", line 46, in <module>\n",
      "    from pylint.utils.ast_walker import ASTWalker\n",
      "  File \"C:\\Users\\KIIT\\AppData\\Local\\Packages\\PythonSoftwareFoundation.Python.3.8_qbz5n2kfra8p0\\LocalCache\\local-packages\\Python38\\site-packages\\pylint\\utils\\ast_walker.py\", line 6, in <module>\n",
      "    from astroid import nodes\n",
      "  File \"C:\\Users\\KIIT\\AppData\\Local\\Packages\\PythonSoftwareFoundation.Python.3.8_qbz5n2kfra8p0\\LocalCache\\local-packages\\Python38\\site-packages\\astroid\\__init__.py\", line 53, in <module>\n",
      "    from astroid import inference, raw_building\n",
      "  File \"C:\\Users\\KIIT\\AppData\\Local\\Packages\\PythonSoftwareFoundation.Python.3.8_qbz5n2kfra8p0\\LocalCache\\local-packages\\Python38\\site-packages\\astroid\\inference.py\", line 35, in <module>\n",
      "    from astroid import bases\n",
      "  File \"C:\\Users\\KIIT\\AppData\\Local\\Packages\\PythonSoftwareFoundation.Python.3.8_qbz5n2kfra8p0\\LocalCache\\local-packages\\Python38\\site-packages\\astroid\\bases.py\", line 540, in <module>\n",
      "    class Generator(BaseInstance):\n",
      "  File \"C:\\Users\\KIIT\\AppData\\Local\\Packages\\PythonSoftwareFoundation.Python.3.8_qbz5n2kfra8p0\\LocalCache\\local-packages\\Python38\\site-packages\\astroid\\bases.py\", line 546, in Generator\n",
      "    special_attributes = util.lazy_descriptor(objectmodel.GeneratorModel)\n",
      "  File \"C:\\Users\\KIIT\\AppData\\Local\\Packages\\PythonSoftwareFoundation.Python.3.8_qbz5n2kfra8p0\\LocalCache\\local-packages\\Python38\\site-packages\\astroid\\util.py\", line 29, in <lambda>\n",
      "    lambda: importlib.import_module(\".\" + module_name, \"astroid\")\n",
      "  File \"C:\\Program Files\\WindowsApps\\PythonSoftwareFoundation.Python.3.8_3.8.2800.0_x64__qbz5n2kfra8p0\\lib\\importlib\\__init__.py\", line 127, in import_module\n",
      "    return _bootstrap._gcd_import(name[level:], package, level)\n",
      "  File \"C:\\Users\\KIIT\\AppData\\Local\\Packages\\PythonSoftwareFoundation.Python.3.8_qbz5n2kfra8p0\\LocalCache\\local-packages\\Python38\\site-packages\\astroid\\interpreter\\objectmodel.py\", line 41, in <module>\n",
      "    from astroid import node_classes, util\n",
      "  File \"C:\\Users\\KIIT\\AppData\\Local\\Packages\\PythonSoftwareFoundation.Python.3.8_qbz5n2kfra8p0\\LocalCache\\local-packages\\Python38\\site-packages\\astroid\\node_classes.py\", line 59, in <module>\n",
      "    from astroid.manager import AstroidManager\n",
      "  File \"C:\\Users\\KIIT\\AppData\\Local\\Packages\\PythonSoftwareFoundation.Python.3.8_qbz5n2kfra8p0\\LocalCache\\local-packages\\Python38\\site-packages\\astroid\\manager.py\", line 35, in <module>\n",
      "    from astroid.interpreter._import import spec\n",
      "  File \"C:\\Users\\KIIT\\AppData\\Local\\Packages\\PythonSoftwareFoundation.Python.3.8_qbz5n2kfra8p0\\LocalCache\\local-packages\\Python38\\site-packages\\astroid\\interpreter\\_import\\spec.py\", line 27, in <module>\n",
      "    from . import util\n",
      "  File \"C:\\Users\\KIIT\\AppData\\Local\\Packages\\PythonSoftwareFoundation.Python.3.8_qbz5n2kfra8p0\\LocalCache\\local-packages\\Python38\\site-packages\\astroid\\interpreter\\_import\\util.py\", line 6, in <module>\n",
      "    import pkg_resources\n",
      "  File \"C:\\Users\\KIIT\\AppData\\Local\\Packages\\PythonSoftwareFoundation.Python.3.8_qbz5n2kfra8p0\\LocalCache\\local-packages\\Python38\\site-packages\\pkg_resources\\__init__.py\", line 96, in <module>\n",
      "    from jaraco.text import (\n",
      "  File \"C:\\Users\\KIIT\\AppData\\Local\\Packages\\PythonSoftwareFoundation.Python.3.8_qbz5n2kfra8p0\\LocalCache\\local-packages\\Python38\\site-packages\\setuptools\\_vendor\\jaraco\\text\\__init__.py\", line 139, in <module>\n",
      "    @_unicode_trap.passes\n",
      "AttributeError: 'ExceptionTrap' object has no attribute 'passes'\n"
     ]
    }
   ],
   "source": [
    "! pylint simple1.py"
   ]
  },
  {
   "cell_type": "code",
   "execution_count": 5,
   "metadata": {},
   "outputs": [
    {
     "name": "stdout",
     "output_type": "stream",
     "text": [
      "Writing simple1.py\n"
     ]
    }
   ],
   "source": [
    "%%writefile simple1.py \n",
    "\"\"\"\n",
    "A very simple script\n",
    "\"\"\"\n",
    "def myfunc():\n",
    "    first=1\n",
    "    second = 2\n",
    "    print(first)\n",
    "    print(second)\n",
    "\n",
    "myfunc()"
   ]
  },
  {
   "cell_type": "code",
   "execution_count": 6,
   "metadata": {},
   "outputs": [
    {
     "name": "stderr",
     "output_type": "stream",
     "text": [
      "Traceback (most recent call last):\n",
      "  File \"C:\\Program Files\\WindowsApps\\PythonSoftwareFoundation.Python.3.8_3.8.2800.0_x64__qbz5n2kfra8p0\\lib\\runpy.py\", line 194, in _run_module_as_main\n",
      "    return _run_code(code, main_globals, None,\n",
      "  File \"C:\\Program Files\\WindowsApps\\PythonSoftwareFoundation.Python.3.8_3.8.2800.0_x64__qbz5n2kfra8p0\\lib\\runpy.py\", line 87, in _run_code\n",
      "    exec(code, run_globals)\n",
      "  File \"c:\\Users\\KIIT\\AppData\\Local\\Packages\\PythonSoftwareFoundation.Python.3.8_qbz5n2kfra8p0\\LocalCache\\local-packages\\Python38\\Scripts\\pylint.exe\\__main__.py\", line 7, in <module>\n",
      "  File \"C:\\Users\\KIIT\\AppData\\Local\\Packages\\PythonSoftwareFoundation.Python.3.8_qbz5n2kfra8p0\\LocalCache\\local-packages\\Python38\\site-packages\\pylint\\__init__.py\", line 21, in run_pylint\n",
      "    from pylint.lint import Run as PylintRun\n",
      "  File \"C:\\Users\\KIIT\\AppData\\Local\\Packages\\PythonSoftwareFoundation.Python.3.8_qbz5n2kfra8p0\\LocalCache\\local-packages\\Python38\\site-packages\\pylint\\lint\\__init__.py\", line 76, in <module>\n",
      "    from pylint.lint.parallel import check_parallel\n",
      "  File \"C:\\Users\\KIIT\\AppData\\Local\\Packages\\PythonSoftwareFoundation.Python.3.8_qbz5n2kfra8p0\\LocalCache\\local-packages\\Python38\\site-packages\\pylint\\lint\\parallel.py\", line 7, in <module>\n",
      "    from pylint import reporters\n",
      "  File \"C:\\Users\\KIIT\\AppData\\Local\\Packages\\PythonSoftwareFoundation.Python.3.8_qbz5n2kfra8p0\\LocalCache\\local-packages\\Python38\\site-packages\\pylint\\reporters\\__init__.py\", line 26, in <module>\n",
      "    from pylint import utils\n",
      "  File \"C:\\Users\\KIIT\\AppData\\Local\\Packages\\PythonSoftwareFoundation.Python.3.8_qbz5n2kfra8p0\\LocalCache\\local-packages\\Python38\\site-packages\\pylint\\utils\\__init__.py\", line 46, in <module>\n",
      "    from pylint.utils.ast_walker import ASTWalker\n",
      "  File \"C:\\Users\\KIIT\\AppData\\Local\\Packages\\PythonSoftwareFoundation.Python.3.8_qbz5n2kfra8p0\\LocalCache\\local-packages\\Python38\\site-packages\\pylint\\utils\\ast_walker.py\", line 6, in <module>\n",
      "    from astroid import nodes\n",
      "  File \"C:\\Users\\KIIT\\AppData\\Local\\Packages\\PythonSoftwareFoundation.Python.3.8_qbz5n2kfra8p0\\LocalCache\\local-packages\\Python38\\site-packages\\astroid\\__init__.py\", line 53, in <module>\n",
      "    from astroid import inference, raw_building\n",
      "  File \"C:\\Users\\KIIT\\AppData\\Local\\Packages\\PythonSoftwareFoundation.Python.3.8_qbz5n2kfra8p0\\LocalCache\\local-packages\\Python38\\site-packages\\astroid\\inference.py\", line 35, in <module>\n",
      "    from astroid import bases\n",
      "  File \"C:\\Users\\KIIT\\AppData\\Local\\Packages\\PythonSoftwareFoundation.Python.3.8_qbz5n2kfra8p0\\LocalCache\\local-packages\\Python38\\site-packages\\astroid\\bases.py\", line 540, in <module>\n",
      "    class Generator(BaseInstance):\n",
      "  File \"C:\\Users\\KIIT\\AppData\\Local\\Packages\\PythonSoftwareFoundation.Python.3.8_qbz5n2kfra8p0\\LocalCache\\local-packages\\Python38\\site-packages\\astroid\\bases.py\", line 546, in Generator\n",
      "    special_attributes = util.lazy_descriptor(objectmodel.GeneratorModel)\n",
      "  File \"C:\\Users\\KIIT\\AppData\\Local\\Packages\\PythonSoftwareFoundation.Python.3.8_qbz5n2kfra8p0\\LocalCache\\local-packages\\Python38\\site-packages\\astroid\\util.py\", line 29, in <lambda>\n",
      "    lambda: importlib.import_module(\".\" + module_name, \"astroid\")\n",
      "  File \"C:\\Program Files\\WindowsApps\\PythonSoftwareFoundation.Python.3.8_3.8.2800.0_x64__qbz5n2kfra8p0\\lib\\importlib\\__init__.py\", line 127, in import_module\n",
      "    return _bootstrap._gcd_import(name[level:], package, level)\n",
      "  File \"C:\\Users\\KIIT\\AppData\\Local\\Packages\\PythonSoftwareFoundation.Python.3.8_qbz5n2kfra8p0\\LocalCache\\local-packages\\Python38\\site-packages\\astroid\\interpreter\\objectmodel.py\", line 41, in <module>\n",
      "    from astroid import node_classes, util\n",
      "  File \"C:\\Users\\KIIT\\AppData\\Local\\Packages\\PythonSoftwareFoundation.Python.3.8_qbz5n2kfra8p0\\LocalCache\\local-packages\\Python38\\site-packages\\astroid\\node_classes.py\", line 59, in <module>\n",
      "    from astroid.manager import AstroidManager\n",
      "  File \"C:\\Users\\KIIT\\AppData\\Local\\Packages\\PythonSoftwareFoundation.Python.3.8_qbz5n2kfra8p0\\LocalCache\\local-packages\\Python38\\site-packages\\astroid\\manager.py\", line 35, in <module>\n",
      "    from astroid.interpreter._import import spec\n",
      "  File \"C:\\Users\\KIIT\\AppData\\Local\\Packages\\PythonSoftwareFoundation.Python.3.8_qbz5n2kfra8p0\\LocalCache\\local-packages\\Python38\\site-packages\\astroid\\interpreter\\_import\\spec.py\", line 27, in <module>\n",
      "    from . import util\n",
      "  File \"C:\\Users\\KIIT\\AppData\\Local\\Packages\\PythonSoftwareFoundation.Python.3.8_qbz5n2kfra8p0\\LocalCache\\local-packages\\Python38\\site-packages\\astroid\\interpreter\\_import\\util.py\", line 6, in <module>\n",
      "    import pkg_resources\n",
      "  File \"C:\\Users\\KIIT\\AppData\\Local\\Packages\\PythonSoftwareFoundation.Python.3.8_qbz5n2kfra8p0\\LocalCache\\local-packages\\Python38\\site-packages\\pkg_resources\\__init__.py\", line 96, in <module>\n",
      "    from jaraco.text import (\n",
      "  File \"C:\\Users\\KIIT\\AppData\\Local\\Packages\\PythonSoftwareFoundation.Python.3.8_qbz5n2kfra8p0\\LocalCache\\local-packages\\Python38\\site-packages\\setuptools\\_vendor\\jaraco\\text\\__init__.py\", line 139, in <module>\n",
      "    @_unicode_trap.passes\n",
      "AttributeError: 'ExceptionTrap' object has no attribute 'passes'\n"
     ]
    }
   ],
   "source": [
    "! pylint simple1.py "
   ]
  },
  {
   "cell_type": "code",
   "execution_count": 7,
   "metadata": {},
   "outputs": [
    {
     "name": "stdout",
     "output_type": "stream",
     "text": [
      "Writing simple2.py\n"
     ]
    }
   ],
   "source": [
    "%%writefile simple2.py \n",
    "def myfunc():\n",
    "    first = 1\n",
    "    second  = 2\n",
    "    print(first)\n",
    "    print(second)\n",
    "\n",
    "myfunc()"
   ]
  },
  {
   "cell_type": "code",
   "execution_count": 8,
   "metadata": {},
   "outputs": [
    {
     "name": "stderr",
     "output_type": "stream",
     "text": [
      "Traceback (most recent call last):\n",
      "  File \"C:\\Program Files\\WindowsApps\\PythonSoftwareFoundation.Python.3.8_3.8.2800.0_x64__qbz5n2kfra8p0\\lib\\runpy.py\", line 194, in _run_module_as_main\n",
      "    return _run_code(code, main_globals, None,\n",
      "  File \"C:\\Program Files\\WindowsApps\\PythonSoftwareFoundation.Python.3.8_3.8.2800.0_x64__qbz5n2kfra8p0\\lib\\runpy.py\", line 87, in _run_code\n",
      "    exec(code, run_globals)\n",
      "  File \"c:\\Users\\KIIT\\AppData\\Local\\Packages\\PythonSoftwareFoundation.Python.3.8_qbz5n2kfra8p0\\LocalCache\\local-packages\\Python38\\Scripts\\pylint.exe\\__main__.py\", line 7, in <module>\n",
      "  File \"C:\\Users\\KIIT\\AppData\\Local\\Packages\\PythonSoftwareFoundation.Python.3.8_qbz5n2kfra8p0\\LocalCache\\local-packages\\Python38\\site-packages\\pylint\\__init__.py\", line 21, in run_pylint\n",
      "    from pylint.lint import Run as PylintRun\n",
      "  File \"C:\\Users\\KIIT\\AppData\\Local\\Packages\\PythonSoftwareFoundation.Python.3.8_qbz5n2kfra8p0\\LocalCache\\local-packages\\Python38\\site-packages\\pylint\\lint\\__init__.py\", line 76, in <module>\n",
      "    from pylint.lint.parallel import check_parallel\n",
      "  File \"C:\\Users\\KIIT\\AppData\\Local\\Packages\\PythonSoftwareFoundation.Python.3.8_qbz5n2kfra8p0\\LocalCache\\local-packages\\Python38\\site-packages\\pylint\\lint\\parallel.py\", line 7, in <module>\n",
      "    from pylint import reporters\n",
      "  File \"C:\\Users\\KIIT\\AppData\\Local\\Packages\\PythonSoftwareFoundation.Python.3.8_qbz5n2kfra8p0\\LocalCache\\local-packages\\Python38\\site-packages\\pylint\\reporters\\__init__.py\", line 26, in <module>\n",
      "    from pylint import utils\n",
      "  File \"C:\\Users\\KIIT\\AppData\\Local\\Packages\\PythonSoftwareFoundation.Python.3.8_qbz5n2kfra8p0\\LocalCache\\local-packages\\Python38\\site-packages\\pylint\\utils\\__init__.py\", line 46, in <module>\n",
      "    from pylint.utils.ast_walker import ASTWalker\n",
      "  File \"C:\\Users\\KIIT\\AppData\\Local\\Packages\\PythonSoftwareFoundation.Python.3.8_qbz5n2kfra8p0\\LocalCache\\local-packages\\Python38\\site-packages\\pylint\\utils\\ast_walker.py\", line 6, in <module>\n",
      "    from astroid import nodes\n",
      "  File \"C:\\Users\\KIIT\\AppData\\Local\\Packages\\PythonSoftwareFoundation.Python.3.8_qbz5n2kfra8p0\\LocalCache\\local-packages\\Python38\\site-packages\\astroid\\__init__.py\", line 53, in <module>\n",
      "    from astroid import inference, raw_building\n",
      "  File \"C:\\Users\\KIIT\\AppData\\Local\\Packages\\PythonSoftwareFoundation.Python.3.8_qbz5n2kfra8p0\\LocalCache\\local-packages\\Python38\\site-packages\\astroid\\inference.py\", line 35, in <module>\n",
      "    from astroid import bases\n",
      "  File \"C:\\Users\\KIIT\\AppData\\Local\\Packages\\PythonSoftwareFoundation.Python.3.8_qbz5n2kfra8p0\\LocalCache\\local-packages\\Python38\\site-packages\\astroid\\bases.py\", line 540, in <module>\n",
      "    class Generator(BaseInstance):\n",
      "  File \"C:\\Users\\KIIT\\AppData\\Local\\Packages\\PythonSoftwareFoundation.Python.3.8_qbz5n2kfra8p0\\LocalCache\\local-packages\\Python38\\site-packages\\astroid\\bases.py\", line 546, in Generator\n",
      "    special_attributes = util.lazy_descriptor(objectmodel.GeneratorModel)\n",
      "  File \"C:\\Users\\KIIT\\AppData\\Local\\Packages\\PythonSoftwareFoundation.Python.3.8_qbz5n2kfra8p0\\LocalCache\\local-packages\\Python38\\site-packages\\astroid\\util.py\", line 29, in <lambda>\n",
      "    lambda: importlib.import_module(\".\" + module_name, \"astroid\")\n",
      "  File \"C:\\Program Files\\WindowsApps\\PythonSoftwareFoundation.Python.3.8_3.8.2800.0_x64__qbz5n2kfra8p0\\lib\\importlib\\__init__.py\", line 127, in import_module\n",
      "    return _bootstrap._gcd_import(name[level:], package, level)\n",
      "  File \"C:\\Users\\KIIT\\AppData\\Local\\Packages\\PythonSoftwareFoundation.Python.3.8_qbz5n2kfra8p0\\LocalCache\\local-packages\\Python38\\site-packages\\astroid\\interpreter\\objectmodel.py\", line 41, in <module>\n",
      "    from astroid import node_classes, util\n",
      "  File \"C:\\Users\\KIIT\\AppData\\Local\\Packages\\PythonSoftwareFoundation.Python.3.8_qbz5n2kfra8p0\\LocalCache\\local-packages\\Python38\\site-packages\\astroid\\node_classes.py\", line 59, in <module>\n",
      "    from astroid.manager import AstroidManager\n",
      "  File \"C:\\Users\\KIIT\\AppData\\Local\\Packages\\PythonSoftwareFoundation.Python.3.8_qbz5n2kfra8p0\\LocalCache\\local-packages\\Python38\\site-packages\\astroid\\manager.py\", line 35, in <module>\n",
      "    from astroid.interpreter._import import spec\n",
      "  File \"C:\\Users\\KIIT\\AppData\\Local\\Packages\\PythonSoftwareFoundation.Python.3.8_qbz5n2kfra8p0\\LocalCache\\local-packages\\Python38\\site-packages\\astroid\\interpreter\\_import\\spec.py\", line 27, in <module>\n",
      "    from . import util\n",
      "  File \"C:\\Users\\KIIT\\AppData\\Local\\Packages\\PythonSoftwareFoundation.Python.3.8_qbz5n2kfra8p0\\LocalCache\\local-packages\\Python38\\site-packages\\astroid\\interpreter\\_import\\util.py\", line 6, in <module>\n",
      "    import pkg_resources\n",
      "  File \"C:\\Users\\KIIT\\AppData\\Local\\Packages\\PythonSoftwareFoundation.Python.3.8_qbz5n2kfra8p0\\LocalCache\\local-packages\\Python38\\site-packages\\pkg_resources\\__init__.py\", line 96, in <module>\n",
      "    from jaraco.text import (\n",
      "  File \"C:\\Users\\KIIT\\AppData\\Local\\Packages\\PythonSoftwareFoundation.Python.3.8_qbz5n2kfra8p0\\LocalCache\\local-packages\\Python38\\site-packages\\setuptools\\_vendor\\jaraco\\text\\__init__.py\", line 139, in <module>\n",
      "    @_unicode_trap.passes\n",
      "AttributeError: 'ExceptionTrap' object has no attribute 'passes'\n"
     ]
    }
   ],
   "source": [
    "! pylint simple2.py"
   ]
  },
  {
   "cell_type": "markdown",
   "metadata": {},
   "source": [
    "**Unittest**\n",
    "\n",
    "Unittest lets you write your own test programs. The goal is to send a specific set of data to your program, and analyze the returned results against an expected result."
   ]
  },
  {
   "cell_type": "code",
   "execution_count": 9,
   "metadata": {},
   "outputs": [
    {
     "name": "stdout",
     "output_type": "stream",
     "text": [
      "Writing cap.py\n"
     ]
    }
   ],
   "source": [
    "%%writefile cap.py \n",
    "def cap_text(text):\n",
    "    return text.capitalize()"
   ]
  },
  {
   "cell_type": "code",
   "execution_count": 10,
   "metadata": {},
   "outputs": [
    {
     "name": "stdout",
     "output_type": "stream",
     "text": [
      "Writing test_cap.py\n"
     ]
    }
   ],
   "source": [
    "%%writefile test_cap.py\n",
    "import unittest\n",
    "import cap\n",
    "\n",
    "class TestCap(unittest.TestCase):\n",
    "    \n",
    "    def test_one_word(self):\n",
    "        text = 'python'\n",
    "        result = cap.cap_text(text)\n",
    "        self.assertEqual(result, 'Python')\n",
    "        \n",
    "    def test_multiple_words(self):\n",
    "        text = 'monty python'\n",
    "        result = cap.cap_text(text)\n",
    "        self.assertEqual(result, 'Monty Python')\n",
    "        \n",
    "    def test_with_apostrophes(self):\n",
    "        text = \"monty python's flying circus\"\n",
    "        result = cap.cap_text(text)\n",
    "        self.assertEqual(result, \"Monty Python's Flying Circus\")\n",
    "        \n",
    "if __name__ == '__main__':\n",
    "    unittest.main()"
   ]
  },
  {
   "cell_type": "code",
   "execution_count": 11,
   "metadata": {},
   "outputs": [
    {
     "name": "stdout",
     "output_type": "stream",
     "text": [
      "An error occurred !\n"
     ]
    }
   ],
   "source": [
    "try:\n",
    "    for i in ['a', 'b', 'c']:\n",
    "        print(i**2)\n",
    "except:\n",
    "    print(\"An error occurred !\")"
   ]
  },
  {
   "cell_type": "code",
   "execution_count": 12,
   "metadata": {},
   "outputs": [
    {
     "name": "stdout",
     "output_type": "stream",
     "text": [
      "Can`t divide by zero\n",
      "All Done !\n"
     ]
    }
   ],
   "source": [
    "x = 5\n",
    "y = 0\n",
    "try:\n",
    "    z = x/y\n",
    "except ZeroDivisionError:\n",
    "    print(\"Can`t divide by zero\")\n",
    "finally:\n",
    "    print(\"All Done !\")"
   ]
  },
  {
   "cell_type": "code",
   "execution_count": 13,
   "metadata": {},
   "outputs": [
    {
     "name": "stdout",
     "output_type": "stream",
     "text": [
      "Thank you, your number squared is:  16\n"
     ]
    }
   ],
   "source": [
    "def ask():\n",
    "    while True:\n",
    "        try:\n",
    "            n = int(input(\"Input an integer: \"))\n",
    "        except:\n",
    "            print(\"An error occurred! Please try again!\")\n",
    "            continue\n",
    "        else: \n",
    "            break \n",
    "    \n",
    "    print(\"Thank you, your number squared is: \", n**2)\n",
    "ask()"
   ]
  },
  {
   "cell_type": "markdown",
   "metadata": {},
   "source": [
    "### Decorators\n",
    "\n",
    "Decorators can be thought of as functions which modify the functionality of another function. They help to make your code shorter and more \"Pythonic\""
   ]
  },
  {
   "cell_type": "code",
   "execution_count": 16,
   "metadata": {},
   "outputs": [
    {
     "name": "stdout",
     "output_type": "stream",
     "text": [
      "{'__name__': '__main__', '__doc__': 'Automatically created module for IPython interactive environment', '__package__': None, '__loader__': None, '__spec__': None, '__builtin__': <module 'builtins' (built-in)>, '__builtins__': <module 'builtins' (built-in)>, '_ih': ['', 'try:\\n    for i in [\\'a\\', \\'b\\', \\'c\\']:\\n        print(i**2)\\nexcept:\\n    print(\"An error occurred !\")', 'def ask():\\n    while true:\\n        try:\\n            n = int(input(\"Input an integer: \"))\\n        except:\\n            print(\"ASn error occurred! please try again\")\\n            continue\\n        else: \\n            break\\n\\n    print(\"thank you, your number squared is: \", n**2)', \"get_ipython().run_cell_magic('writefile', 'simple.py', 'a = 1\\\\nb = 2\\\\nprint(a)\\\\nprint(b)\\\\n')\", \"get_ipython().system(' pylint simple1.py')\", 'get_ipython().run_cell_magic(\\'writefile\\', \\'simple1.py\\', \\'\"\"\"\\\\nA very simple script\\\\n\"\"\"\\\\ndef myfunc():\\\\n    first=1\\\\n    second = 2\\\\n    print(first)\\\\n    print(second)\\\\n\\\\nmyfunc()\\\\n\\')', \"get_ipython().system(' pylint simple1.py')\", \"get_ipython().run_cell_magic('writefile', 'simple2.py', 'def myfunc():\\\\n    first = 1\\\\n    second  = 2\\\\n    print(first)\\\\n    print(second)\\\\n\\\\nmyfunc()\\\\n')\", \"get_ipython().system(' pylint simple2.py')\", \"get_ipython().run_cell_magic('writefile', 'cap.py', 'def cap_text(text):\\\\n    return text.capitalize()\\\\n')\", 'get_ipython().run_cell_magic(\\'writefile\\', \\'test_cap.py\\', \\'import unittest\\\\nimport cap\\\\n\\\\nclass TestCap(unittest.TestCase):\\\\n    \\\\n    def test_one_word(self):\\\\n        text = \\\\\\'python\\\\\\'\\\\n        result = cap.cap_text(text)\\\\n        self.assertEqual(result, \\\\\\'Python\\\\\\')\\\\n        \\\\n    def test_multiple_words(self):\\\\n        text = \\\\\\'monty python\\\\\\'\\\\n        result = cap.cap_text(text)\\\\n        self.assertEqual(result, \\\\\\'Monty Python\\\\\\')\\\\n        \\\\n    def test_with_apostrophes(self):\\\\n        text = \"monty python\\\\\\'s flying circus\"\\\\n        result = cap.cap_text(text)\\\\n        self.assertEqual(result, \"Monty Python\\\\\\'s Flying Circus\")\\\\n        \\\\nif __name__ == \\\\\\'__main__\\\\\\':\\\\n    unittest.main()\\\\n\\')', 'try:\\n    for i in [\\'a\\', \\'b\\', \\'c\\']:\\n        print(i**2)\\nexcept:\\n    print(\"An error occurred !\")', 'x = 5\\ny = 0\\ntry:\\n    z = x/y\\nexcept ZeroDivisionError:\\n    print(\"Can`t divide by zero\")\\nfinally:\\n    print(\"All Done !\")', 'def ask():\\n    while True:\\n        try:\\n            n = int(input(\"Input an integer: \"))\\n        except:\\n            print(\"An error occurred! Please try again!\")\\n            continue\\n        else: \\n            break \\n    \\n    print(\"Thank you, your number squared is: \", n**2)\\nask()', 'def func():\\n    return 1\\n\\nfunc()', 'def func():\\n    return 1\\n\\nfunc()\\ns = \"Global Variable\"\\n\\ndef check_for_locals():\\n    print(locals())', 'def func():\\n    return 1\\n\\nfunc()\\ns = \"Global Variable\"\\n\\ndef check_for_locals():\\n    print(locals())\\n\\n\\nprint(globals())'], '_oh': {14: 1}, '_dh': ['c:\\\\Users\\\\KIIT\\\\Desktop\\\\Problem-Solving\\\\Codes-Imperian-Bootcamp'], 'In': ['', 'try:\\n    for i in [\\'a\\', \\'b\\', \\'c\\']:\\n        print(i**2)\\nexcept:\\n    print(\"An error occurred !\")', 'def ask():\\n    while true:\\n        try:\\n            n = int(input(\"Input an integer: \"))\\n        except:\\n            print(\"ASn error occurred! please try again\")\\n            continue\\n        else: \\n            break\\n\\n    print(\"thank you, your number squared is: \", n**2)', \"get_ipython().run_cell_magic('writefile', 'simple.py', 'a = 1\\\\nb = 2\\\\nprint(a)\\\\nprint(b)\\\\n')\", \"get_ipython().system(' pylint simple1.py')\", 'get_ipython().run_cell_magic(\\'writefile\\', \\'simple1.py\\', \\'\"\"\"\\\\nA very simple script\\\\n\"\"\"\\\\ndef myfunc():\\\\n    first=1\\\\n    second = 2\\\\n    print(first)\\\\n    print(second)\\\\n\\\\nmyfunc()\\\\n\\')', \"get_ipython().system(' pylint simple1.py')\", \"get_ipython().run_cell_magic('writefile', 'simple2.py', 'def myfunc():\\\\n    first = 1\\\\n    second  = 2\\\\n    print(first)\\\\n    print(second)\\\\n\\\\nmyfunc()\\\\n')\", \"get_ipython().system(' pylint simple2.py')\", \"get_ipython().run_cell_magic('writefile', 'cap.py', 'def cap_text(text):\\\\n    return text.capitalize()\\\\n')\", 'get_ipython().run_cell_magic(\\'writefile\\', \\'test_cap.py\\', \\'import unittest\\\\nimport cap\\\\n\\\\nclass TestCap(unittest.TestCase):\\\\n    \\\\n    def test_one_word(self):\\\\n        text = \\\\\\'python\\\\\\'\\\\n        result = cap.cap_text(text)\\\\n        self.assertEqual(result, \\\\\\'Python\\\\\\')\\\\n        \\\\n    def test_multiple_words(self):\\\\n        text = \\\\\\'monty python\\\\\\'\\\\n        result = cap.cap_text(text)\\\\n        self.assertEqual(result, \\\\\\'Monty Python\\\\\\')\\\\n        \\\\n    def test_with_apostrophes(self):\\\\n        text = \"monty python\\\\\\'s flying circus\"\\\\n        result = cap.cap_text(text)\\\\n        self.assertEqual(result, \"Monty Python\\\\\\'s Flying Circus\")\\\\n        \\\\nif __name__ == \\\\\\'__main__\\\\\\':\\\\n    unittest.main()\\\\n\\')', 'try:\\n    for i in [\\'a\\', \\'b\\', \\'c\\']:\\n        print(i**2)\\nexcept:\\n    print(\"An error occurred !\")', 'x = 5\\ny = 0\\ntry:\\n    z = x/y\\nexcept ZeroDivisionError:\\n    print(\"Can`t divide by zero\")\\nfinally:\\n    print(\"All Done !\")', 'def ask():\\n    while True:\\n        try:\\n            n = int(input(\"Input an integer: \"))\\n        except:\\n            print(\"An error occurred! Please try again!\")\\n            continue\\n        else: \\n            break \\n    \\n    print(\"Thank you, your number squared is: \", n**2)\\nask()', 'def func():\\n    return 1\\n\\nfunc()', 'def func():\\n    return 1\\n\\nfunc()\\ns = \"Global Variable\"\\n\\ndef check_for_locals():\\n    print(locals())', 'def func():\\n    return 1\\n\\nfunc()\\ns = \"Global Variable\"\\n\\ndef check_for_locals():\\n    print(locals())\\n\\n\\nprint(globals())'], 'Out': {14: 1}, 'get_ipython': <bound method InteractiveShell.get_ipython of <ipykernel.zmqshell.ZMQInteractiveShell object at 0x00000206CA38E0D0>>, 'exit': <IPython.core.autocall.ZMQExitAutocall object at 0x00000206CA38EAF0>, 'quit': <IPython.core.autocall.ZMQExitAutocall object at 0x00000206CA38EAF0>, '_': 1, '__': '', '___': '', '__vsc_ipynb_file__': 'c:\\\\Users\\\\KIIT\\\\Desktop\\\\Problem-Solving\\\\Codes-Imperian-Bootcamp\\\\OOP-Fundamentals.ipynb', '_i': 'def func():\\n    return 1\\n\\nfunc()\\ns = \"Global Variable\"\\n\\ndef check_for_locals():\\n    print(locals())', '_ii': 'def func():\\n    return 1\\n\\nfunc()', '_iii': 'def ask():\\n    while True:\\n        try:\\n            n = int(input(\"Input an integer: \"))\\n        except:\\n            print(\"An error occurred! Please try again!\")\\n            continue\\n        else: \\n            break \\n    \\n    print(\"Thank you, your number squared is: \", n**2)\\nask()', '_i1': 'try:\\n    for i in [\\'a\\', \\'b\\', \\'c\\']:\\n        print(i**2)\\nexcept:\\n    print(\"An error occurred !\")', 'i': 'a', '_i2': 'def ask():\\n    while true:\\n        try:\\n            n = int(input(\"Input an integer: \"))\\n        except:\\n            print(\"ASn error occurred! please try again\")\\n            continue\\n        else: \\n            break\\n\\n    print(\"thank you, your number squared is: \", n**2)', 'ask': <function ask at 0x00000206CB2A2820>, '_i3': '%%writefile simple.py \\na = 1\\nb = 2\\nprint(a)\\nprint(b)', '_i4': '! pylint simple1.py', '_exit_code': 1, '_i5': '%%writefile simple1.py \\n\"\"\"\\nA very simple script\\n\"\"\"\\ndef myfunc():\\n    first=1\\n    second = 2\\n    print(first)\\n    print(second)\\n\\nmyfunc()', '_i6': '! pylint simple1.py ', '_i7': '%%writefile simple2.py \\ndef myfunc():\\n    first = 1\\n    second  = 2\\n    print(first)\\n    print(second)\\n\\nmyfunc()', '_i8': '! pylint simple2.py', '_i9': '%%writefile cap.py \\ndef cap_text(text):\\n    return text.capitalize()', '_i10': '%%writefile test_cap.py\\nimport unittest\\nimport cap\\n\\nclass TestCap(unittest.TestCase):\\n    \\n    def test_one_word(self):\\n        text = \\'python\\'\\n        result = cap.cap_text(text)\\n        self.assertEqual(result, \\'Python\\')\\n        \\n    def test_multiple_words(self):\\n        text = \\'monty python\\'\\n        result = cap.cap_text(text)\\n        self.assertEqual(result, \\'Monty Python\\')\\n        \\n    def test_with_apostrophes(self):\\n        text = \"monty python\\'s flying circus\"\\n        result = cap.cap_text(text)\\n        self.assertEqual(result, \"Monty Python\\'s Flying Circus\")\\n        \\nif __name__ == \\'__main__\\':\\n    unittest.main()', '_i11': 'try:\\n    for i in [\\'a\\', \\'b\\', \\'c\\']:\\n        print(i**2)\\nexcept:\\n    print(\"An error occurred !\")', '_i12': 'x = 5\\ny = 0\\ntry:\\n    z = x/y\\nexcept ZeroDivisionError:\\n    print(\"Can`t divide by zero\")\\nfinally:\\n    print(\"All Done !\")', 'x': 5, 'y': 0, '_i13': 'def ask():\\n    while True:\\n        try:\\n            n = int(input(\"Input an integer: \"))\\n        except:\\n            print(\"An error occurred! Please try again!\")\\n            continue\\n        else: \\n            break \\n    \\n    print(\"Thank you, your number squared is: \", n**2)\\nask()', '_i14': 'def func():\\n    return 1\\n\\nfunc()', 'func': <function func at 0x00000206CB2A2790>, '_14': 1, '_i15': 'def func():\\n    return 1\\n\\nfunc()\\ns = \"Global Variable\"\\n\\ndef check_for_locals():\\n    print(locals())', 's': 'Global Variable', 'check_for_locals': <function check_for_locals at 0x00000206CB2A2F70>, '_i16': 'def func():\\n    return 1\\n\\nfunc()\\ns = \"Global Variable\"\\n\\ndef check_for_locals():\\n    print(locals())\\n\\n\\nprint(globals())'}\n"
     ]
    }
   ],
   "source": [
    "def func():\n",
    "    return 1\n",
    "\n",
    "func()\n",
    "s = \"Global Variable\"\n",
    "\n",
    "def check_for_locals():\n",
    "    print(locals())\n",
    "\n",
    "\n",
    "print(globals())\n",
    "print(globals().keys())\n",
    "globals()['s']\n",
    "check_for_locals()\n",
    "\n",
    "def hello(name = 'Jose'):\n",
    "    return 'Hello' + name\n",
    "\n",
    "hello()\n",
    "greet = hello\n",
    "greet\n"
   ]
  },
  {
   "cell_type": "markdown",
   "metadata": {},
   "source": [
    "### Type-1: \n",
    "\n",
    "Functions within function"
   ]
  },
  {
   "cell_type": "code",
   "execution_count": 4,
   "metadata": {},
   "outputs": [],
   "source": [
    "def hello(name=\"jose\"):\n",
    "    print('The hello() function has been executed')\n",
    "\n",
    "    def greet():\n",
    "        return '\\t This is inside the great() function'\n",
    "    \n",
    "    def welcome():\n",
    "        return '\\t This is inside the welcome() function'\n",
    "    \n",
    "    print(greet())\n",
    "    print(welcome())\n",
    "    print(\"Now we are back inside the hello() function\")\n",
    "\n",
    "    hello()\n",
    "    welcome()"
   ]
  },
  {
   "cell_type": "markdown",
   "metadata": {},
   "source": [
    "### Type -3:\n",
    "Returning Functions"
   ]
  },
  {
   "cell_type": "code",
   "execution_count": 17,
   "metadata": {},
   "outputs": [],
   "source": [
    "def hello(name = 'Jose'):\n",
    "    def greet():\n",
    "        return '\\t This is inside the greet() function'\n",
    "    \n",
    "    def welcome():\n",
    "        return '\\t This is inside the welcome() function'\n",
    "    \n",
    "    if name == 'Jose':\n",
    "        return greet\n",
    "    else: \n",
    "        return welcome "
   ]
  },
  {
   "cell_type": "markdown",
   "metadata": {},
   "source": [
    "### Type-3:\n",
    "Functions As Arguments"
   ]
  },
  {
   "cell_type": "code",
   "execution_count": 18,
   "metadata": {},
   "outputs": [],
   "source": [
    "def hello():\n",
    "    return 'Hi Jose!'\n",
    "\n",
    "def other(func):\n",
    "    print('Other code would go here !')\n",
    "    print(func())"
   ]
  },
  {
   "cell_type": "markdown",
   "metadata": {},
   "source": [
    "### Creating a Decorator"
   ]
  },
  {
   "cell_type": "code",
   "execution_count": 19,
   "metadata": {},
   "outputs": [
    {
     "name": "stdout",
     "output_type": "stream",
     "text": [
      "This function is in need of a decorator\n",
      "Code would be here, before executing the func\n",
      "This function is in need of a decorator\n",
      "Code here will execute after the func()\n",
      "Code would be here, before executing the func\n",
      "This function is in need of a Decorator\n",
      "Code here will execute after the func()\n"
     ]
    }
   ],
   "source": [
    "def new_decorator(func):\n",
    "\n",
    "    def wrap_func():\n",
    "        print(\"Code would be here, before executing the func\")\n",
    "        func()\n",
    "        print(\"Code here will execute after the func()\")\n",
    "\n",
    "    return wrap_func\n",
    "\n",
    "def func_needs_decorator():\n",
    "    print(\"This function is in need of a decorator\")\n",
    "\n",
    "func_needs_decorator()\n",
    "\n",
    "func_needs_decorator = new_decorator(func_needs_decorator)\n",
    "func_needs_decorator()\n",
    "\n",
    "@new_decorator\n",
    "def func_needs_decorator():\n",
    "    print(\"This function is in need of a Decorator\")\n",
    "\n",
    "func_needs_decorator()"
   ]
  },
  {
   "cell_type": "markdown",
   "metadata": {},
   "source": [
    "# Decorators Homework"
   ]
  },
  {
   "cell_type": "markdown",
   "metadata": {},
   "source": [
    "Web Framework flask is used to create web pages with python as long as we know HTML and CSS. Another more exclusively used web framework is Django which is a bit more heavy duty.\n",
    "\n",
    "That way if you decide to become a \"Full-Stack\" Python Web Developer, you won't find yourself perplexed by decorators.\n",
    "\n",
    "Also for some additional info:\n",
    "\n",
    "A framework is a type of software library that provides generic functionality which can be extended by the programmer to build applications. \n",
    "\n",
    "A framework is distinguished from a simple library or API. An API is a piece of software that a developer can use in his or her application. A framework is more encompassing: your entire application is structured around the framework (i.e. it provides the framework around which you build your software)."
   ]
  },
  {
   "cell_type": "markdown",
   "metadata": {},
   "source": [
    "# Generator Functions"
   ]
  },
  {
   "cell_type": "code",
   "execution_count": 10,
   "metadata": {},
   "outputs": [
    {
     "name": "stdout",
     "output_type": "stream",
     "text": [
      "0\n",
      "1\n",
      "8\n",
      "27\n",
      "64\n",
      "125\n",
      "216\n",
      "343\n",
      "512\n",
      "729\n"
     ]
    }
   ],
   "source": [
    "#General functions using generator functions\n",
    "def gencubes(n):\n",
    "    for num in range(n):\n",
    "        yield num**3\n",
    "\n",
    "for x in gencubes(10):\n",
    "    print(x)"
   ]
  },
  {
   "cell_type": "code",
   "execution_count": 3,
   "metadata": {},
   "outputs": [
    {
     "name": "stdout",
     "output_type": "stream",
     "text": [
      "1\n",
      "1\n",
      "2\n",
      "3\n",
      "5\n",
      "8\n",
      "13\n",
      "21\n",
      "34\n",
      "55\n"
     ]
    }
   ],
   "source": [
    "# Generating fibonacci sequences using generator functions\n",
    "\n",
    "def genfibon(n):\n",
    "    \"\"\"\n",
    "    Generate a fibonacci sequence upto n\n",
    "    \"\"\"\n",
    "    a = 1\n",
    "    b = 1\n",
    "    for i in range(n):\n",
    "        yield a\n",
    "        a, b = b, a+b\n",
    "    \n",
    "for num in genfibon(10):\n",
    "    print(num)"
   ]
  },
  {
   "cell_type": "code",
   "execution_count": 5,
   "metadata": {},
   "outputs": [
    {
     "data": {
      "text/plain": [
       "[1, 1, 2, 3, 5, 8, 13, 21, 34, 55]"
      ]
     },
     "execution_count": 5,
     "metadata": {},
     "output_type": "execute_result"
    }
   ],
   "source": [
    "# Generalized function for using the above generators\n",
    "\n",
    "def fibon(n):\n",
    "    a = 1\n",
    "    b = 1\n",
    "    output = []\n",
    "\n",
    "    for i in range(n):\n",
    "        output.append(a)\n",
    "        a, b = b, a+b\n",
    "    \n",
    "    return output\n",
    "\n",
    "# Example usage\n",
    "\n",
    "fibon(10)"
   ]
  },
  {
   "cell_type": "markdown",
   "metadata": {},
   "source": [
    "# Writing simple generator functions"
   ]
  },
  {
   "cell_type": "code",
   "execution_count": 1,
   "metadata": {},
   "outputs": [
    {
     "name": "stdout",
     "output_type": "stream",
     "text": [
      "0\n"
     ]
    }
   ],
   "source": [
    "# Example 1\n",
    "def simple_gen():\n",
    "    for x in range(3):\n",
    "        yield x\n",
    "# Assign simple_gen\n",
    "g = simple_gen()\n",
    "print(next(g))"
   ]
  },
  {
   "cell_type": "code",
   "execution_count": 3,
   "metadata": {},
   "outputs": [
    {
     "name": "stdout",
     "output_type": "stream",
     "text": [
      "h\n",
      "e\n",
      "l\n",
      "l\n",
      "o\n"
     ]
    }
   ],
   "source": [
    "# Example 2\n",
    "s = 'hello'\n",
    "\n",
    "# Iterate over string\n",
    "for let in s:\n",
    "    print(let)"
   ]
  },
  {
   "cell_type": "code",
   "execution_count": 4,
   "metadata": {},
   "outputs": [
    {
     "data": {
      "text/plain": [
       "'h'"
      ]
     },
     "execution_count": 4,
     "metadata": {},
     "output_type": "execute_result"
    }
   ],
   "source": [
    "s_iter = iter(s)\n",
    "next(s_iter)"
   ]
  },
  {
   "cell_type": "code",
   "execution_count": 1,
   "metadata": {},
   "outputs": [
    {
     "name": "stdout",
     "output_type": "stream",
     "text": [
      "0\n",
      "1\n",
      "4\n",
      "9\n",
      "16\n",
      "25\n",
      "36\n",
      "49\n",
      "64\n",
      "81\n"
     ]
    }
   ],
   "source": [
    "# Example 2\n",
    "def genSquares(N):\n",
    "    for i in range(N):\n",
    "        yield i**2\n",
    "for x in genSquares(10):\n",
    "    print(x)"
   ]
  },
  {
   "cell_type": "code",
   "execution_count": 5,
   "metadata": {},
   "outputs": [
    {
     "name": "stdout",
     "output_type": "stream",
     "text": [
      "3\n",
      "3\n",
      "8\n",
      "9\n",
      "3\n",
      "8\n",
      "4\n",
      "5\n",
      "1\n",
      "10\n",
      "5\n",
      "5\n"
     ]
    }
   ],
   "source": [
    "# Example 3\n",
    "import random\n",
    "random.randint(1, 10)\n",
    "def rand_num(low, high, n):\n",
    "\n",
    "    for i in range(n):\n",
    "        yield random.randint(low, high)\n",
    "\n",
    "for num in rand_num(1, 10, 12):\n",
    "    print(num)\n",
    "    "
   ]
  },
  {
   "cell_type": "markdown",
   "metadata": {},
   "source": [
    "# Counter\n",
    "\n",
    "Counter is a dict subclass which helps count hashable objects. Inside of it elements are stored as dictionary keys and the counts of the objects are stored as the value.\n"
   ]
  },
  {
   "cell_type": "code",
   "execution_count": 6,
   "metadata": {},
   "outputs": [
    {
     "data": {
      "text/plain": [
       "[('each', 3), ('word', 3)]"
      ]
     },
     "execution_count": 6,
     "metadata": {},
     "output_type": "execute_result"
    }
   ],
   "source": [
    "from collections import Counter \n",
    "lst = [1,2,2,2,2,3,3,3,1,2,1,12,3,2,32,1,21,1,223,1]\n",
    "Counter(lst)\n",
    "Counter('aabsbsbsbhshhbbsbs')\n",
    "s = 'How many times does each word show up in this sentence word times each each word'\n",
    "words = s.split()\n",
    "Counter(words)\n",
    "# Methods with Counter()\n",
    "c = Counter(words)\n",
    "c.most_common(2)\n"
   ]
  },
  {
   "cell_type": "markdown",
   "metadata": {},
   "source": [
    "# Defaultdict\n",
    "\n",
    "defaultdict is a dictionary-like object which provides all methods provided by a dictionary but takes a first argument (default_factory) as a default data type for the dictionary"
   ]
  },
  {
   "cell_type": "code",
   "execution_count": 1,
   "metadata": {},
   "outputs": [
    {
     "name": "stdout",
     "output_type": "stream",
     "text": [
      "one\n"
     ]
    },
    {
     "data": {
      "text/plain": [
       "0"
      ]
     },
     "execution_count": 1,
     "metadata": {},
     "output_type": "execute_result"
    }
   ],
   "source": [
    "from collections import defaultdict\n",
    "d = {}\n",
    "d = defaultdict(object)\n",
    "d['one']\n",
    "for item in d:\n",
    "    print(item)\n",
    "d = defaultdict(lambda: 0)\n",
    "d['one']"
   ]
  },
  {
   "cell_type": "markdown",
   "metadata": {},
   "source": [
    "# namedtuple\n",
    "\n",
    "The standard tuple uses numerical indexes to access its members, for example:(in the codes given below)"
   ]
  },
  {
   "cell_type": "code",
   "execution_count": 8,
   "metadata": {},
   "outputs": [
    {
     "data": {
      "text/plain": [
       "2"
      ]
     },
     "execution_count": 8,
     "metadata": {},
     "output_type": "execute_result"
    }
   ],
   "source": [
    "t = (12, 13, 14)\n",
    "t[0]\n",
    "\n",
    "from collections import namedtuple\n",
    "Dog = namedtuple('Dog', ['age', 'breed', 'name'])\n",
    "sam = Dog(age=2, breed='Lab', name='Sammy')\n",
    "frank = Dog(age=2, breed='Shepherd', name='Frankie')\n",
    "\n",
    "sam\n",
    "sam.age\n",
    "sam.breed\n",
    "sam[0]"
   ]
  },
  {
   "cell_type": "markdown",
   "metadata": {},
   "source": [
    "# Files: I/O Operations - +r, +x and +w \n",
    "(do it properly)"
   ]
  },
  {
   "cell_type": "code",
   "execution_count": 3,
   "metadata": {},
   "outputs": [
    {
     "data": {
      "text/plain": [
       "'c:\\\\Users\\\\KIIT\\\\Desktop\\\\Problem-Solving\\\\Codes-Imperian-Bootcamp'"
      ]
     },
     "execution_count": 3,
     "metadata": {},
     "output_type": "execute_result"
    }
   ],
   "source": [
    "pwd"
   ]
  },
  {
   "cell_type": "code",
   "execution_count": 4,
   "metadata": {},
   "outputs": [],
   "source": [
    "f = open('practice.txt', 'w+')\n",
    "f.write('test')\n",
    "f.close()"
   ]
  },
  {
   "cell_type": "code",
   "execution_count": 2,
   "metadata": {},
   "outputs": [
    {
     "data": {
      "text/plain": [
       "['Administrator',\n",
       " 'All Users',\n",
       " 'Default',\n",
       " 'Default User',\n",
       " 'DefaultAppPool',\n",
       " 'desktop.ini',\n",
       " 'KIIT',\n",
       " 'Public']"
      ]
     },
     "execution_count": 2,
     "metadata": {},
     "output_type": "execute_result"
    }
   ],
   "source": [
    "import os\n",
    "os.getcwd()\n",
    "os.listdir()\n",
    "os.listdir(\"C:\\\\Users\")"
   ]
  },
  {
   "cell_type": "code",
   "execution_count": 2,
   "metadata": {},
   "outputs": [
    {
     "data": {
      "text/plain": [
       "['cap.py',\n",
       " 'OOP-Fundamentals.ipynb',\n",
       " 'OOPs-Advanced-Fundamentals.ipynb',\n",
       " 'practice.txt',\n",
       " 'simple.py',\n",
       " 'simple1.py',\n",
       " 'simple2.py',\n",
       " 'test_cap.py']"
      ]
     },
     "execution_count": 2,
     "metadata": {},
     "output_type": "execute_result"
    }
   ],
   "source": [
    "import shutil\n",
    "shutil.move('practice.txt', 'c:\\\\Users\\\\KIIT\\\\Desktop\\\\')\n",
    "os.listdir()\n",
    "shutil.move('c:\\\\Users\\\\KIIT\\\\Desktop\\\\practice.txt', os.getcwd())\n",
    "os.listdir()"
   ]
  },
  {
   "cell_type": "code",
   "execution_count": 1,
   "metadata": {},
   "outputs": [
    {
     "name": "stdout",
     "output_type": "stream",
     "text": [
      "Requirement already satisfied: send2trash in c:\\users\\kiit\\appdata\\local\\packages\\pythonsoftwarefoundation.python.3.8_qbz5n2kfra8p0\\localcache\\local-packages\\python38\\site-packages (1.7.1)Note: you may need to restart the kernel to use updated packages.\n",
      "\n"
     ]
    },
    {
     "name": "stderr",
     "output_type": "stream",
     "text": [
      "WARNING: Ignoring invalid distribution -ip (c:\\users\\kiit\\appdata\\local\\packages\\pythonsoftwarefoundation.python.3.8_qbz5n2kfra8p0\\localcache\\local-packages\\python38\\site-packages)\n",
      "WARNING: Error parsing dependencies of gym: Expected matching RIGHT_PARENTHESIS for LEFT_PARENTHESIS, after version specifier\n",
      "    opencv-python (>=3.) ; extra == 'all'\n",
      "                  ~~~~^\n",
      "WARNING: Ignoring invalid distribution -ip (c:\\users\\kiit\\appdata\\local\\packages\\pythonsoftwarefoundation.python.3.8_qbz5n2kfra8p0\\localcache\\local-packages\\python38\\site-packages)\n",
      "\n",
      "[notice] A new release of pip is available: 24.1.2 -> 24.2\n",
      "[notice] To update, run: C:\\Users\\KIIT\\AppData\\Local\\Microsoft\\WindowsApps\\PythonSoftwareFoundation.Python.3.8_qbz5n2kfra8p0\\python.exe -m pip install --upgrade pip\n"
     ]
    }
   ],
   "source": [
    "pip install send2trash"
   ]
  },
  {
   "cell_type": "code",
   "execution_count": 4,
   "metadata": {},
   "outputs": [],
   "source": [
    "for folder , sub_folders , files in os.walk(\"Example_Top_Level\"):\n",
    "    \n",
    "    print(\"Currently looking at folder: \"+ folder)\n",
    "    print('\\n')\n",
    "    print(\"THE SUBFOLDERS ARE: \")\n",
    "    for sub_fold in sub_folders:\n",
    "        print(\"\\t Subfolder: \"+sub_fold )\n",
    "    \n",
    "    print('\\n')\n",
    "    \n",
    "    print(\"THE FILES ARE: \")\n",
    "    for f in files:\n",
    "        print(\"\\t File: \"+f)\n",
    "    print('\\n')"
   ]
  },
  {
   "cell_type": "code",
   "execution_count": 6,
   "metadata": {},
   "outputs": [
    {
     "name": "stdout",
     "output_type": "stream",
     "text": [
      "04:20:01\n",
      "hour : 4\n",
      "minutes:  20\n",
      "second 1\n",
      "microsecond 0\n",
      "tzinfo:  None\n"
     ]
    }
   ],
   "source": [
    "import datetime\n",
    "\n",
    "t = datetime.time(4, 20, 1)\n",
    "print(t)\n",
    "print('hour :', t.hour)\n",
    "print('minutes: ', t.minute)\n",
    "print('second', t.second)\n",
    "print('microsecond', t.microsecond)\n",
    "print('tzinfo: ', t.tzinfo)"
   ]
  },
  {
   "cell_type": "code",
   "execution_count": 7,
   "metadata": {},
   "outputs": [
    {
     "name": "stdout",
     "output_type": "stream",
     "text": [
      "Earliest:  00:00:00\n",
      "Latest : 23:59:59.999999\n",
      "Resolution:  0:00:00.000001\n"
     ]
    }
   ],
   "source": [
    "print('Earliest: ', datetime.time.min)\n",
    "print('Latest :', datetime.time.max)\n",
    "print('Resolution: ', datetime.time.resolution)"
   ]
  },
  {
   "cell_type": "code",
   "execution_count": 9,
   "metadata": {},
   "outputs": [
    {
     "name": "stdout",
     "output_type": "stream",
     "text": [
      "2024-08-19\n",
      "ctime: Mon Aug 19 00:00:00 2024\n",
      "tuple: time.struct_time(tm_year=2024, tm_mon=8, tm_mday=19, tm_hour=0, tm_min=0, tm_sec=0, tm_wday=0, tm_yday=232, tm_isdst=-1)\n",
      "ordinal: 739117\n",
      "Year : 2024\n",
      "Month: 8\n",
      "Day  : 19\n"
     ]
    }
   ],
   "source": [
    "today = datetime.date.today()\n",
    "print(today)\n",
    "print('ctime:', today.ctime())\n",
    "print('tuple:', today.timetuple())\n",
    "print('ordinal:', today.toordinal())\n",
    "print('Year :', today.year)\n",
    "print('Month:', today.month)\n",
    "print('Day  :', today.day)"
   ]
  },
  {
   "cell_type": "code",
   "execution_count": 10,
   "metadata": {},
   "outputs": [
    {
     "name": "stdout",
     "output_type": "stream",
     "text": [
      "Earliest  : 0001-01-01\n",
      "Latest    : 9999-12-31\n",
      "Resolution: 1 day, 0:00:00\n"
     ]
    }
   ],
   "source": [
    "print('Earliest  :', datetime.date.min)\n",
    "print('Latest    :', datetime.date.max)\n",
    "print('Resolution:', datetime.date.resolution)"
   ]
  },
  {
   "cell_type": "markdown",
   "metadata": {},
   "source": [
    "# Math functions"
   ]
  },
  {
   "cell_type": "code",
   "execution_count": 11,
   "metadata": {},
   "outputs": [
    {
     "name": "stdout",
     "output_type": "stream",
     "text": [
      "Help on built-in module math:\n",
      "\n",
      "NAME\n",
      "    math\n",
      "\n",
      "DESCRIPTION\n",
      "    This module provides access to the mathematical functions\n",
      "    defined by the C standard.\n",
      "\n",
      "FUNCTIONS\n",
      "    acos(x, /)\n",
      "        Return the arc cosine (measured in radians) of x.\n",
      "    \n",
      "    acosh(x, /)\n",
      "        Return the inverse hyperbolic cosine of x.\n",
      "    \n",
      "    asin(x, /)\n",
      "        Return the arc sine (measured in radians) of x.\n",
      "    \n",
      "    asinh(x, /)\n",
      "        Return the inverse hyperbolic sine of x.\n",
      "    \n",
      "    atan(x, /)\n",
      "        Return the arc tangent (measured in radians) of x.\n",
      "    \n",
      "    atan2(y, x, /)\n",
      "        Return the arc tangent (measured in radians) of y/x.\n",
      "        \n",
      "        Unlike atan(y/x), the signs of both x and y are considered.\n",
      "    \n",
      "    atanh(x, /)\n",
      "        Return the inverse hyperbolic tangent of x.\n",
      "    \n",
      "    ceil(x, /)\n",
      "        Return the ceiling of x as an Integral.\n",
      "        \n",
      "        This is the smallest integer >= x.\n",
      "    \n",
      "    comb(n, k, /)\n",
      "        Number of ways to choose k items from n items without repetition and without order.\n",
      "        \n",
      "        Evaluates to n! / (k! * (n - k)!) when k <= n and evaluates\n",
      "        to zero when k > n.\n",
      "        \n",
      "        Also called the binomial coefficient because it is equivalent\n",
      "        to the coefficient of k-th term in polynomial expansion of the\n",
      "        expression (1 + x)**n.\n",
      "        \n",
      "        Raises TypeError if either of the arguments are not integers.\n",
      "        Raises ValueError if either of the arguments are negative.\n",
      "    \n",
      "    copysign(x, y, /)\n",
      "        Return a float with the magnitude (absolute value) of x but the sign of y.\n",
      "        \n",
      "        On platforms that support signed zeros, copysign(1.0, -0.0)\n",
      "        returns -1.0.\n",
      "    \n",
      "    cos(x, /)\n",
      "        Return the cosine of x (measured in radians).\n",
      "    \n",
      "    cosh(x, /)\n",
      "        Return the hyperbolic cosine of x.\n",
      "    \n",
      "    degrees(x, /)\n",
      "        Convert angle x from radians to degrees.\n",
      "    \n",
      "    dist(p, q, /)\n",
      "        Return the Euclidean distance between two points p and q.\n",
      "        \n",
      "        The points should be specified as sequences (or iterables) of\n",
      "        coordinates.  Both inputs must have the same dimension.\n",
      "        \n",
      "        Roughly equivalent to:\n",
      "            sqrt(sum((px - qx) ** 2.0 for px, qx in zip(p, q)))\n",
      "    \n",
      "    erf(x, /)\n",
      "        Error function at x.\n",
      "    \n",
      "    erfc(x, /)\n",
      "        Complementary error function at x.\n",
      "    \n",
      "    exp(x, /)\n",
      "        Return e raised to the power of x.\n",
      "    \n",
      "    expm1(x, /)\n",
      "        Return exp(x)-1.\n",
      "        \n",
      "        This function avoids the loss of precision involved in the direct evaluation of exp(x)-1 for small x.\n",
      "    \n",
      "    fabs(x, /)\n",
      "        Return the absolute value of the float x.\n",
      "    \n",
      "    factorial(x, /)\n",
      "        Find x!.\n",
      "        \n",
      "        Raise a ValueError if x is negative or non-integral.\n",
      "    \n",
      "    floor(x, /)\n",
      "        Return the floor of x as an Integral.\n",
      "        \n",
      "        This is the largest integer <= x.\n",
      "    \n",
      "    fmod(x, y, /)\n",
      "        Return fmod(x, y), according to platform C.\n",
      "        \n",
      "        x % y may differ.\n",
      "    \n",
      "    frexp(x, /)\n",
      "        Return the mantissa and exponent of x, as pair (m, e).\n",
      "        \n",
      "        m is a float and e is an int, such that x = m * 2.**e.\n",
      "        If x is 0, m and e are both 0.  Else 0.5 <= abs(m) < 1.0.\n",
      "    \n",
      "    fsum(seq, /)\n",
      "        Return an accurate floating point sum of values in the iterable seq.\n",
      "        \n",
      "        Assumes IEEE-754 floating point arithmetic.\n",
      "    \n",
      "    gamma(x, /)\n",
      "        Gamma function at x.\n",
      "    \n",
      "    gcd(x, y, /)\n",
      "        greatest common divisor of x and y\n",
      "    \n",
      "    hypot(...)\n",
      "        hypot(*coordinates) -> value\n",
      "        \n",
      "        Multidimensional Euclidean distance from the origin to a point.\n",
      "        \n",
      "        Roughly equivalent to:\n",
      "            sqrt(sum(x**2 for x in coordinates))\n",
      "        \n",
      "        For a two dimensional point (x, y), gives the hypotenuse\n",
      "        using the Pythagorean theorem:  sqrt(x*x + y*y).\n",
      "        \n",
      "        For example, the hypotenuse of a 3/4/5 right triangle is:\n",
      "        \n",
      "            >>> hypot(3.0, 4.0)\n",
      "            5.0\n",
      "    \n",
      "    isclose(a, b, *, rel_tol=1e-09, abs_tol=0.0)\n",
      "        Determine whether two floating point numbers are close in value.\n",
      "        \n",
      "          rel_tol\n",
      "            maximum difference for being considered \"close\", relative to the\n",
      "            magnitude of the input values\n",
      "          abs_tol\n",
      "            maximum difference for being considered \"close\", regardless of the\n",
      "            magnitude of the input values\n",
      "        \n",
      "        Return True if a is close in value to b, and False otherwise.\n",
      "        \n",
      "        For the values to be considered close, the difference between them\n",
      "        must be smaller than at least one of the tolerances.\n",
      "        \n",
      "        -inf, inf and NaN behave similarly to the IEEE 754 Standard.  That\n",
      "        is, NaN is not close to anything, even itself.  inf and -inf are\n",
      "        only close to themselves.\n",
      "    \n",
      "    isfinite(x, /)\n",
      "        Return True if x is neither an infinity nor a NaN, and False otherwise.\n",
      "    \n",
      "    isinf(x, /)\n",
      "        Return True if x is a positive or negative infinity, and False otherwise.\n",
      "    \n",
      "    isnan(x, /)\n",
      "        Return True if x is a NaN (not a number), and False otherwise.\n",
      "    \n",
      "    isqrt(n, /)\n",
      "        Return the integer part of the square root of the input.\n",
      "    \n",
      "    ldexp(x, i, /)\n",
      "        Return x * (2**i).\n",
      "        \n",
      "        This is essentially the inverse of frexp().\n",
      "    \n",
      "    lgamma(x, /)\n",
      "        Natural logarithm of absolute value of Gamma function at x.\n",
      "    \n",
      "    log(...)\n",
      "        log(x, [base=math.e])\n",
      "        Return the logarithm of x to the given base.\n",
      "        \n",
      "        If the base not specified, returns the natural logarithm (base e) of x.\n",
      "    \n",
      "    log10(x, /)\n",
      "        Return the base 10 logarithm of x.\n",
      "    \n",
      "    log1p(x, /)\n",
      "        Return the natural logarithm of 1+x (base e).\n",
      "        \n",
      "        The result is computed in a way which is accurate for x near zero.\n",
      "    \n",
      "    log2(x, /)\n",
      "        Return the base 2 logarithm of x.\n",
      "    \n",
      "    modf(x, /)\n",
      "        Return the fractional and integer parts of x.\n",
      "        \n",
      "        Both results carry the sign of x and are floats.\n",
      "    \n",
      "    perm(n, k=None, /)\n",
      "        Number of ways to choose k items from n items without repetition and with order.\n",
      "        \n",
      "        Evaluates to n! / (n - k)! when k <= n and evaluates\n",
      "        to zero when k > n.\n",
      "        \n",
      "        If k is not specified or is None, then k defaults to n\n",
      "        and the function returns n!.\n",
      "        \n",
      "        Raises TypeError if either of the arguments are not integers.\n",
      "        Raises ValueError if either of the arguments are negative.\n",
      "    \n",
      "    pow(x, y, /)\n",
      "        Return x**y (x to the power of y).\n",
      "    \n",
      "    prod(iterable, /, *, start=1)\n",
      "        Calculate the product of all the elements in the input iterable.\n",
      "        \n",
      "        The default start value for the product is 1.\n",
      "        \n",
      "        When the iterable is empty, return the start value.  This function is\n",
      "        intended specifically for use with numeric values and may reject\n",
      "        non-numeric types.\n",
      "    \n",
      "    radians(x, /)\n",
      "        Convert angle x from degrees to radians.\n",
      "    \n",
      "    remainder(x, y, /)\n",
      "        Difference between x and the closest integer multiple of y.\n",
      "        \n",
      "        Return x - n*y where n*y is the closest integer multiple of y.\n",
      "        In the case where x is exactly halfway between two multiples of\n",
      "        y, the nearest even value of n is used. The result is always exact.\n",
      "    \n",
      "    sin(x, /)\n",
      "        Return the sine of x (measured in radians).\n",
      "    \n",
      "    sinh(x, /)\n",
      "        Return the hyperbolic sine of x.\n",
      "    \n",
      "    sqrt(x, /)\n",
      "        Return the square root of x.\n",
      "    \n",
      "    tan(x, /)\n",
      "        Return the tangent of x (measured in radians).\n",
      "    \n",
      "    tanh(x, /)\n",
      "        Return the hyperbolic tangent of x.\n",
      "    \n",
      "    trunc(x, /)\n",
      "        Truncates the Real x to the nearest Integral toward 0.\n",
      "        \n",
      "        Uses the __trunc__ magic method.\n",
      "\n",
      "DATA\n",
      "    e = 2.718281828459045\n",
      "    inf = inf\n",
      "    nan = nan\n",
      "    pi = 3.141592653589793\n",
      "    tau = 6.283185307179586\n",
      "\n",
      "FILE\n",
      "    (built-in)\n",
      "\n",
      "\n"
     ]
    }
   ],
   "source": [
    "import math\n",
    "help(math)"
   ]
  },
  {
   "cell_type": "code",
   "execution_count": 12,
   "metadata": {},
   "outputs": [
    {
     "data": {
      "text/plain": [
       "4"
      ]
     },
     "execution_count": 12,
     "metadata": {},
     "output_type": "execute_result"
    }
   ],
   "source": [
    "value = 4.35\n",
    "math.floor(value)\n",
    "math.ceil(value)\n",
    "round(value)"
   ]
  },
  {
   "cell_type": "code",
   "execution_count": 13,
   "metadata": {},
   "outputs": [
    {
     "data": {
      "text/plain": [
       "<function math.radians(x, /)>"
      ]
     },
     "execution_count": 13,
     "metadata": {},
     "output_type": "execute_result"
    }
   ],
   "source": [
    "from math import pi\n",
    "math.pi\n",
    "pi\n",
    "math.e\n",
    "math.tau\n",
    "math.inf\n",
    "math.nan \n",
    "math.e\n",
    "math.log(math.e)\n",
    "math.sin(10)\n",
    "math.degrees(pi/2)\n",
    "math.radians"
   ]
  },
  {
   "cell_type": "code",
   "execution_count": 15,
   "metadata": {},
   "outputs": [
    {
     "name": "stdout",
     "output_type": "stream",
     "text": [
      "74\n",
      "24\n"
     ]
    },
    {
     "data": {
      "text/plain": [
       "0.0"
      ]
     },
     "execution_count": 15,
     "metadata": {},
     "output_type": "execute_result"
    }
   ],
   "source": [
    "import random\n",
    "random.randint(0, 100)\n",
    "random.randint(0, 100)\n",
    "random.seed(101)\n",
    "random.randint(0, 100)\n",
    "random.randint(0, 100)\n",
    "random.seed(101)\n",
    "print(random.randint(0, 100))\n",
    "print(random.randint(0, 100))\n",
    "\n",
    "# random integers\n",
    "random.randint(0, 100)\n",
    "\n",
    "# Random with sequences \n",
    "mylist = list(range(0, 20))\n",
    "mylist\n",
    "random.choice(mylist)\n",
    "mylist\n",
    "\n",
    "#Sample with replacement\n",
    "random.choices(population=mylist, k = 10)\n",
    "\n",
    "#Sample with Replacement\n",
    "random.sample(population=mylist, k=10)\n",
    "\n",
    "#Shuffle a list\n",
    "random.shuffle(mylist) \n",
    "mylist \n",
    "\n",
    "# Random Distributions\n",
    "random.uniform(a=0, b=100) # Uniform Distributions\n",
    "random.gauss(mu=0, sigma=0) #Normal/gaussian Distribution\n"
   ]
  },
  {
   "cell_type": "code",
   "execution_count": 6,
   "metadata": {},
   "outputs": [
    {
     "name": "stdout",
     "output_type": "stream",
     "text": [
      "This is a Silver DeLorean with 88 MPG\n"
     ]
    }
   ],
   "source": [
    "class Car(object):\n",
    "    condition = \"used\"\n",
    "    \n",
    "    def __init__(self, color, model, mpg):\n",
    "        self.color = color \n",
    "        self.mpg = mpg \n",
    "        self.model = model\n",
    "    \n",
    "    def display_car(self):\n",
    "        return \"This is a %s %s with %s MPG\" % (self.color, self.model, str(self.mpg))\n",
    "\n",
    "    def driving_car(self):\n",
    "        self.condition = \"Used again\"\n",
    "\n",
    "class ElectricCar(Car):\n",
    "    def __init__(self, model, color, mpg, battery_type):\n",
    "        super(ElectricCar, self).__init__(color, model, mpg)\n",
    "        self.battery_type = battery_type \n",
    "\n",
    "my_car = ElectricCar(\"DeLorean\", \"Silver\", 88, \"Molten Salt\")\n",
    "print(my_car.display_car())"
   ]
  },
  {
   "cell_type": "code",
   "execution_count": 7,
   "metadata": {},
   "outputs": [
    {
     "name": "stdout",
     "output_type": "stream",
     "text": [
      "64\n"
     ]
    }
   ],
   "source": [
    "class Square(object):\n",
    "    def __init__(self, side):\n",
    "        self.side = side \n",
    "    \n",
    "    def perimeter(self):\n",
    "        return self.side * 4\n",
    "\n",
    "my_square = Square(16)\n",
    "print(my_square.perimeter())"
   ]
  },
  {
   "cell_type": "code",
   "execution_count": 8,
   "metadata": {},
   "outputs": [
    {
     "name": "stdout",
     "output_type": "stream",
     "text": [
      "<bound method Point3D.__repr__ of (1, 2, 3)>\n"
     ]
    }
   ],
   "source": [
    "class Point3D(object):\n",
    "    def __init__(self, x, y, z):\n",
    "        self.x = x\n",
    "        self.y = y \n",
    "        self.z = z\n",
    "\n",
    "    def __repr__(self):\n",
    "        return \"(%d, %d, %d)\" %(self.x, self.y, self.z)\n",
    "    \n",
    "my_points = Point3D(1, 2, 3)\n",
    "print(my_points.__repr__)"
   ]
  }
 ],
 "metadata": {
  "kernelspec": {
   "display_name": "Python 3",
   "language": "python",
   "name": "python3"
  },
  "language_info": {
   "codemirror_mode": {
    "name": "ipython",
    "version": 3
   },
   "file_extension": ".py",
   "mimetype": "text/x-python",
   "name": "python",
   "nbconvert_exporter": "python",
   "pygments_lexer": "ipython3",
   "version": "3.8.10"
  }
 },
 "nbformat": 4,
 "nbformat_minor": 2
}
