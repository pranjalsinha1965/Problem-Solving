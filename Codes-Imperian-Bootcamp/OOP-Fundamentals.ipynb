{
 "cells": [
  {
   "cell_type": "code",
   "execution_count": 1,
   "metadata": {},
   "outputs": [
    {
     "name": "stdout",
     "output_type": "stream",
     "text": [
      "<class 'int'>\n",
      "<class 'list'>\n",
      "<class 'tuple'>\n",
      "<class 'dict'>\n"
     ]
    }
   ],
   "source": [
    "lst = [1, 2, 3]\n",
    "lst.count(2)\n",
    "print(type(1))\n",
    "print(type([]))\n",
    "print(type(()))\n",
    "print(type({}))"
   ]
  },
  {
   "cell_type": "code",
   "execution_count": 2,
   "metadata": {},
   "outputs": [
    {
     "name": "stdout",
     "output_type": "stream",
     "text": [
      "<class '__main__.Sample'>\n"
     ]
    }
   ],
   "source": [
    "class Sample:\n",
    "    pass\n",
    "x = Sample()\n",
    "print(type(x))"
   ]
  },
  {
   "cell_type": "code",
   "execution_count": 3,
   "metadata": {},
   "outputs": [
    {
     "data": {
      "text/plain": [
       "'Huskie'"
      ]
     },
     "execution_count": 3,
     "metadata": {},
     "output_type": "execute_result"
    }
   ],
   "source": [
    "class Dog:\n",
    "    def __init__(self, breed):\n",
    "        self.breed = breed\n",
    "\n",
    "sam = Dog(breed='Lab')\n",
    "frank = Dog(breed='Huskie')\n",
    "sam.breed\n",
    "frank.breed"
   ]
  },
  {
   "cell_type": "code",
   "execution_count": 4,
   "metadata": {},
   "outputs": [],
   "source": [
    "class Dog:\n",
    "    species = 'mammal'\n",
    "    def __init__(self, breed, name):\n",
    "        self.breed = breed\n",
    "        self.name = name"
   ]
  },
  {
   "cell_type": "code",
   "execution_count": 5,
   "metadata": {},
   "outputs": [
    {
     "data": {
      "text/plain": [
       "'mammal'"
      ]
     },
     "execution_count": 5,
     "metadata": {},
     "output_type": "execute_result"
    }
   ],
   "source": [
    "sam = Dog('Lab', 'Sam')\n",
    "sam.name\n",
    "sam.species"
   ]
  },
  {
   "cell_type": "code",
   "execution_count": 1,
   "metadata": {},
   "outputs": [
    {
     "name": "stdout",
     "output_type": "stream",
     "text": [
      "Radius is:  1\n",
      "Area is:  3.14\n",
      "Circumference is: 6.28\n"
     ]
    }
   ],
   "source": [
    "class Circle:\n",
    "    pi = 3.14\n",
    "\n",
    "    def __init__(self, radius=1):\n",
    "        self.radius = radius\n",
    "        self.area = radius * radius * Circle.pi\n",
    "    \n",
    "    def setRadius(self, new_radius):\n",
    "        self.radius = new_radius\n",
    "        self.area = new_radius * new_radius * self.pi\n",
    "    \n",
    "    def getCircumference(self):\n",
    "        return self.radius * self.pi * 2\n",
    "    \n",
    "c = Circle()\n",
    "print('Radius is: ', c.radius)\n",
    "print('Area is: ', c.area)\n",
    "print('Circumference is:', c.getCircumference())"
   ]
  },
  {
   "cell_type": "code",
   "execution_count": 2,
   "metadata": {},
   "outputs": [],
   "source": [
    "\n",
    "class Animal:\n",
    "    def __init__(self):\n",
    "        print(\"Animal created\")\n",
    "\n",
    "    def whoAmI(self):\n",
    "        print(\"Animal\")\n",
    "\n",
    "    def eat(self):\n",
    "        print(\"Eating\")\n",
    "\n",
    "\n",
    "class Dog(Animal):\n",
    "    def __init__(self):\n",
    "        Animal.__init__(self)\n",
    "        print(\"Dog created\")\n",
    "\n",
    "    def whoAmI(self):\n",
    "        print(\"Dog\")\n",
    "\n",
    "    def bark(self):\n",
    "        print(\"Woof!\")"
   ]
  },
  {
   "cell_type": "code",
   "execution_count": 8,
   "metadata": {},
   "outputs": [
    {
     "name": "stdout",
     "output_type": "stream",
     "text": [
      "Animal created\n",
      "Dog created\n",
      "Dog\n",
      "Eating\n",
      "Woof!\n"
     ]
    }
   ],
   "source": [
    "# Create an instance of Dog\n",
    "dog = Dog()\n",
    "\n",
    "# Call the whoAmI method\n",
    "dog.whoAmI()  # Output: Dog\n",
    "\n",
    "# Call the eat method\n",
    "dog.eat()  # Output: Eating\n",
    "\n",
    "# Call the bark method\n",
    "dog.bark()  # Output: Woof!"
   ]
  },
  {
   "cell_type": "code",
   "execution_count": 9,
   "metadata": {},
   "outputs": [
    {
     "name": "stdout",
     "output_type": "stream",
     "text": [
      "Niko says Woof ! \n",
      "Felix says Meow !\n",
      "Niko says Woof ! \n",
      "Felix says Meow !\n",
      "Niko says Woof ! \n",
      "Felix says Meow !\n"
     ]
    }
   ],
   "source": [
    "# Polymorphism\n",
    "\n",
    "class Dog:\n",
    "    def __init__(self, name):\n",
    "        self.name = name\n",
    "    \n",
    "    def speak(self):\n",
    "        return self.name + ' says Woof ! '\n",
    "\n",
    "class Cat:\n",
    "    def __init__(self, name):\n",
    "        self.name = name\n",
    "    \n",
    "    def speak(self):\n",
    "        return self.name + ' says Meow !'\n",
    "    \n",
    "niko = Dog('Niko')\n",
    "felix = Cat('Felix')\n",
    "\n",
    "print(niko.speak())\n",
    "print(felix.speak())\n",
    "\n",
    "for pet in [niko, felix]:\n",
    "    print(pet.speak())\n",
    "\n",
    "def pet_speak(pet):\n",
    "    print(pet.speak())\n",
    "\n",
    "pet_speak(niko)\n",
    "pet_speak(felix)"
   ]
  },
  {
   "cell_type": "code",
   "execution_count": 10,
   "metadata": {},
   "outputs": [
    {
     "name": "stdout",
     "output_type": "stream",
     "text": [
      "A book is created\n",
      "Title: Python Rocks!, author: Jose Portilla, pages: 159\n",
      "159\n",
      "A book is destroyed\n"
     ]
    }
   ],
   "source": [
    "class Book:\n",
    "    def __init__(self, title, author, pages):\n",
    "        print(\"A book is created\")\n",
    "        self.title = title\n",
    "        self.author = author\n",
    "        self.pages = pages\n",
    "\n",
    "    def __str__(self):\n",
    "        return \"Title: %s, author: %s, pages: %s\" %(self.title, self.author, self.pages)\n",
    "\n",
    "    def __len__(self):\n",
    "        return self.pages\n",
    "\n",
    "    def __del__(self):\n",
    "        print(\"A book is destroyed\")\n",
    "\n",
    "book = Book(\"Python Rocks!\", \"Jose Portilla\", 159)\n",
    "\n",
    "#Special Methods\n",
    "print(book)\n",
    "print(len(book))\n",
    "del book"
   ]
  },
  {
   "cell_type": "code",
   "execution_count": 11,
   "metadata": {},
   "outputs": [],
   "source": [
    "class Line:\n",
    "    \n",
    "    def __init__(self, coor1, coor2):\n",
    "        pass\n",
    "\n",
    "    def distance(self):\n",
    "        pass\n",
    "\n",
    "    def slope(self):\n",
    "        pass\n",
    "\n",
    "coordinate1 = (3, 2)\n",
    "coordinate2 = (8, 10)\n",
    "\n",
    "li = Line(coordinate1, coordinate2)\n",
    "\n",
    "li.slope()\n",
    "li.distance()"
   ]
  },
  {
   "cell_type": "code",
   "execution_count": 12,
   "metadata": {},
   "outputs": [
    {
     "name": "stdout",
     "output_type": "stream",
     "text": [
      "Volume: 56.548667764616276\n",
      "Surface Area: 94.24777960769379\n"
     ]
    }
   ],
   "source": [
    "import math\n",
    "\n",
    "class Cylinder:\n",
    "    def __init__(self, height=1, radius=2):\n",
    "        self.height = height\n",
    "        self.radius = radius\n",
    "\n",
    "    def volume(self):\n",
    "        return math.pi * self.radius ** 2 * self.height\n",
    "\n",
    "    def surface_area(self):\n",
    "        return 2 * math.pi * self.radius * self.height + 2 * math.pi * self.radius ** 2\n",
    "\n",
    "# Create an instance of Cylinder\n",
    "c = Cylinder(2, 3)\n",
    "\n",
    "# Calculate and print the volume\n",
    "print(\"Volume:\", c.volume())\n",
    "\n",
    "# Calculate and print the surface area\n",
    "print(\"Surface Area:\", c.surface_area())"
   ]
  },
  {
   "cell_type": "code",
   "execution_count": 13,
   "metadata": {},
   "outputs": [
    {
     "name": "stdout",
     "output_type": "stream",
     "text": [
      "Jose\n",
      "100\n",
      "Withdrawn 75 from the balance\n",
      "25\n",
      "Funds Unavailable!\n",
      "25\n",
      "Funds Unavailable!\n",
      "25\n"
     ]
    }
   ],
   "source": [
    "class Account:\n",
    "    def __init__(self, owner, balance=0):\n",
    "        self.owner = owner\n",
    "        self.balance = balance\n",
    "\n",
    "    def deposit(self, amount):\n",
    "        self.balance += amount\n",
    "        print(f\"Added {amount} to the balance\")\n",
    "\n",
    "    def withdraw(self, amount):\n",
    "        if amount > self.balance:\n",
    "            print(\"Funds Unavailable!\")\n",
    "        else:\n",
    "            self.balance -= amount\n",
    "            print(f\"Withdrawn {amount} from the balance\")\n",
    "\n",
    "    def __str__(self):\n",
    "        return f\"Account owner: {self.owner}\\nAccount balance: {self.balance}\"\n",
    "\n",
    "# Create an instance of Account\n",
    "acct1 = Account('Jose', 100)\n",
    "\n",
    "# Access owner and balance attributes\n",
    "print(acct1.owner)       # Output: Jose\n",
    "print(acct1.balance)     # Output: 100\n",
    "\n",
    "# Perform withdrawals\n",
    "acct1.withdraw(75)       # Output: Withdrawn 75 from the balance\n",
    "print(acct1.balance)     # Output: 25\n",
    "\n",
    "acct1.withdraw(500)      # Output: Funds Unavailable!\n",
    "print(acct1.balance)     # Output: 25\n",
    "\n",
    "acct1.withdraw(50)       # Output: Funds Unavailable!\n",
    "print(acct1.balance)     # Output: 25"
   ]
  },
  {
   "cell_type": "code",
   "execution_count": 2,
   "metadata": {},
   "outputs": [
    {
     "name": "stdout",
     "output_type": "stream",
     "text": [
      "Yep that`s an integer !\n",
      "Finally, I executed!\n"
     ]
    }
   ],
   "source": [
    "def askint():\n",
    "    while True:\n",
    "        try:\n",
    "            val = int(input(\"Please enter an integer: \"))\n",
    "        except:\n",
    "            print(\"Looks like you did not enter an integer!\")\n",
    "            continue\n",
    "        else: \n",
    "            print(\"Yep that`s an integer !\")\n",
    "            break\n",
    "        finally:\n",
    "            print(\"Finally, I executed!\")\n",
    "        print(val)\n",
    "askint()"
   ]
  },
  {
   "cell_type": "code",
   "execution_count": null,
   "metadata": {},
   "outputs": [],
   "source": [
    "import math\n",
    "math.ceil(2.4)\n",
    "print(dir(math))\n",
    "help(math.ceil)"
   ]
  },
  {
   "cell_type": "markdown",
   "metadata": {},
   "source": [
    "Go and lookout in jupyter notebook about modules and packages.\n",
    "\n",
    "(https://github.com/Pierian-Data/Complete-Python-3-Bootcamp/blob/master/06-Modules%20and%20Packages/.ipynb_checkpoints/Useful_Info_Notebook-checkpoint.ipynb)"
   ]
  },
  {
   "cell_type": "code",
   "execution_count": 1,
   "metadata": {},
   "outputs": [
    {
     "name": "stdout",
     "output_type": "stream",
     "text": [
      "An error occurred !\n"
     ]
    }
   ],
   "source": [
    "try:\n",
    "    for i in ['a', 'b', 'c']:\n",
    "        print(i**2)\n",
    "except:\n",
    "    print(\"An error occurred !\")"
   ]
  },
  {
   "cell_type": "code",
   "execution_count": null,
   "metadata": {},
   "outputs": [],
   "source": [
    "x = 5\n",
    "y = 0\n",
    "try:\n",
    "    z = x/y\n",
    "except ZeroDivisionError:\n",
    "    print(\"Can`t divide by Zero !\")\n",
    "finally:\n",
    "    print(\"All Done!\")"
   ]
  },
  {
   "cell_type": "markdown",
   "metadata": {},
   "source": [
    "**Unit Testing**\n",
    "\n",
    "Recall that with some IPython magic we can write the contents of a cell to a file using %%writefile.\n",
    "Something we haven't seen yet; you can run terminal commands from a jupyter cell using !"
   ]
  },
  {
   "cell_type": "code",
   "execution_count": null,
   "metadata": {},
   "outputs": [],
   "source": [
    "! pip install pylint"
   ]
  },
  {
   "cell_type": "code",
   "execution_count": 3,
   "metadata": {},
   "outputs": [
    {
     "name": "stdout",
     "output_type": "stream",
     "text": [
      "Writing simple.py\n"
     ]
    }
   ],
   "source": [
    "%%writefile simple.py \n",
    "a = 1\n",
    "b = 2\n",
    "print(a)\n",
    "print(b)"
   ]
  },
  {
   "cell_type": "code",
   "execution_count": 4,
   "metadata": {},
   "outputs": [
    {
     "name": "stderr",
     "output_type": "stream",
     "text": [
      "Traceback (most recent call last):\n",
      "  File \"C:\\Program Files\\WindowsApps\\PythonSoftwareFoundation.Python.3.8_3.8.2800.0_x64__qbz5n2kfra8p0\\lib\\runpy.py\", line 194, in _run_module_as_main\n",
      "    return _run_code(code, main_globals, None,\n",
      "  File \"C:\\Program Files\\WindowsApps\\PythonSoftwareFoundation.Python.3.8_3.8.2800.0_x64__qbz5n2kfra8p0\\lib\\runpy.py\", line 87, in _run_code\n",
      "    exec(code, run_globals)\n",
      "  File \"c:\\Users\\KIIT\\AppData\\Local\\Packages\\PythonSoftwareFoundation.Python.3.8_qbz5n2kfra8p0\\LocalCache\\local-packages\\Python38\\Scripts\\pylint.exe\\__main__.py\", line 7, in <module>\n",
      "  File \"C:\\Users\\KIIT\\AppData\\Local\\Packages\\PythonSoftwareFoundation.Python.3.8_qbz5n2kfra8p0\\LocalCache\\local-packages\\Python38\\site-packages\\pylint\\__init__.py\", line 21, in run_pylint\n",
      "    from pylint.lint import Run as PylintRun\n",
      "  File \"C:\\Users\\KIIT\\AppData\\Local\\Packages\\PythonSoftwareFoundation.Python.3.8_qbz5n2kfra8p0\\LocalCache\\local-packages\\Python38\\site-packages\\pylint\\lint\\__init__.py\", line 76, in <module>\n",
      "    from pylint.lint.parallel import check_parallel\n",
      "  File \"C:\\Users\\KIIT\\AppData\\Local\\Packages\\PythonSoftwareFoundation.Python.3.8_qbz5n2kfra8p0\\LocalCache\\local-packages\\Python38\\site-packages\\pylint\\lint\\parallel.py\", line 7, in <module>\n",
      "    from pylint import reporters\n",
      "  File \"C:\\Users\\KIIT\\AppData\\Local\\Packages\\PythonSoftwareFoundation.Python.3.8_qbz5n2kfra8p0\\LocalCache\\local-packages\\Python38\\site-packages\\pylint\\reporters\\__init__.py\", line 26, in <module>\n",
      "    from pylint import utils\n",
      "  File \"C:\\Users\\KIIT\\AppData\\Local\\Packages\\PythonSoftwareFoundation.Python.3.8_qbz5n2kfra8p0\\LocalCache\\local-packages\\Python38\\site-packages\\pylint\\utils\\__init__.py\", line 46, in <module>\n",
      "    from pylint.utils.ast_walker import ASTWalker\n",
      "  File \"C:\\Users\\KIIT\\AppData\\Local\\Packages\\PythonSoftwareFoundation.Python.3.8_qbz5n2kfra8p0\\LocalCache\\local-packages\\Python38\\site-packages\\pylint\\utils\\ast_walker.py\", line 6, in <module>\n",
      "    from astroid import nodes\n",
      "  File \"C:\\Users\\KIIT\\AppData\\Local\\Packages\\PythonSoftwareFoundation.Python.3.8_qbz5n2kfra8p0\\LocalCache\\local-packages\\Python38\\site-packages\\astroid\\__init__.py\", line 53, in <module>\n",
      "    from astroid import inference, raw_building\n",
      "  File \"C:\\Users\\KIIT\\AppData\\Local\\Packages\\PythonSoftwareFoundation.Python.3.8_qbz5n2kfra8p0\\LocalCache\\local-packages\\Python38\\site-packages\\astroid\\inference.py\", line 35, in <module>\n",
      "    from astroid import bases\n",
      "  File \"C:\\Users\\KIIT\\AppData\\Local\\Packages\\PythonSoftwareFoundation.Python.3.8_qbz5n2kfra8p0\\LocalCache\\local-packages\\Python38\\site-packages\\astroid\\bases.py\", line 540, in <module>\n",
      "    class Generator(BaseInstance):\n",
      "  File \"C:\\Users\\KIIT\\AppData\\Local\\Packages\\PythonSoftwareFoundation.Python.3.8_qbz5n2kfra8p0\\LocalCache\\local-packages\\Python38\\site-packages\\astroid\\bases.py\", line 546, in Generator\n",
      "    special_attributes = util.lazy_descriptor(objectmodel.GeneratorModel)\n",
      "  File \"C:\\Users\\KIIT\\AppData\\Local\\Packages\\PythonSoftwareFoundation.Python.3.8_qbz5n2kfra8p0\\LocalCache\\local-packages\\Python38\\site-packages\\astroid\\util.py\", line 29, in <lambda>\n",
      "    lambda: importlib.import_module(\".\" + module_name, \"astroid\")\n",
      "  File \"C:\\Program Files\\WindowsApps\\PythonSoftwareFoundation.Python.3.8_3.8.2800.0_x64__qbz5n2kfra8p0\\lib\\importlib\\__init__.py\", line 127, in import_module\n",
      "    return _bootstrap._gcd_import(name[level:], package, level)\n",
      "  File \"C:\\Users\\KIIT\\AppData\\Local\\Packages\\PythonSoftwareFoundation.Python.3.8_qbz5n2kfra8p0\\LocalCache\\local-packages\\Python38\\site-packages\\astroid\\interpreter\\objectmodel.py\", line 41, in <module>\n",
      "    from astroid import node_classes, util\n",
      "  File \"C:\\Users\\KIIT\\AppData\\Local\\Packages\\PythonSoftwareFoundation.Python.3.8_qbz5n2kfra8p0\\LocalCache\\local-packages\\Python38\\site-packages\\astroid\\node_classes.py\", line 59, in <module>\n",
      "    from astroid.manager import AstroidManager\n",
      "  File \"C:\\Users\\KIIT\\AppData\\Local\\Packages\\PythonSoftwareFoundation.Python.3.8_qbz5n2kfra8p0\\LocalCache\\local-packages\\Python38\\site-packages\\astroid\\manager.py\", line 35, in <module>\n",
      "    from astroid.interpreter._import import spec\n",
      "  File \"C:\\Users\\KIIT\\AppData\\Local\\Packages\\PythonSoftwareFoundation.Python.3.8_qbz5n2kfra8p0\\LocalCache\\local-packages\\Python38\\site-packages\\astroid\\interpreter\\_import\\spec.py\", line 27, in <module>\n",
      "    from . import util\n",
      "  File \"C:\\Users\\KIIT\\AppData\\Local\\Packages\\PythonSoftwareFoundation.Python.3.8_qbz5n2kfra8p0\\LocalCache\\local-packages\\Python38\\site-packages\\astroid\\interpreter\\_import\\util.py\", line 6, in <module>\n",
      "    import pkg_resources\n",
      "  File \"C:\\Users\\KIIT\\AppData\\Local\\Packages\\PythonSoftwareFoundation.Python.3.8_qbz5n2kfra8p0\\LocalCache\\local-packages\\Python38\\site-packages\\pkg_resources\\__init__.py\", line 96, in <module>\n",
      "    from jaraco.text import (\n",
      "  File \"C:\\Users\\KIIT\\AppData\\Local\\Packages\\PythonSoftwareFoundation.Python.3.8_qbz5n2kfra8p0\\LocalCache\\local-packages\\Python38\\site-packages\\setuptools\\_vendor\\jaraco\\text\\__init__.py\", line 139, in <module>\n",
      "    @_unicode_trap.passes\n",
      "AttributeError: 'ExceptionTrap' object has no attribute 'passes'\n"
     ]
    }
   ],
   "source": [
    "! pylint simple1.py"
   ]
  },
  {
   "cell_type": "code",
   "execution_count": 5,
   "metadata": {},
   "outputs": [
    {
     "name": "stdout",
     "output_type": "stream",
     "text": [
      "Writing simple1.py\n"
     ]
    }
   ],
   "source": [
    "%%writefile simple1.py \n",
    "\"\"\"\n",
    "A very simple script\n",
    "\"\"\"\n",
    "def myfunc():\n",
    "    first=1\n",
    "    second = 2\n",
    "    print(first)\n",
    "    print(second)\n",
    "\n",
    "myfunc()"
   ]
  },
  {
   "cell_type": "code",
   "execution_count": 6,
   "metadata": {},
   "outputs": [
    {
     "name": "stderr",
     "output_type": "stream",
     "text": [
      "Traceback (most recent call last):\n",
      "  File \"C:\\Program Files\\WindowsApps\\PythonSoftwareFoundation.Python.3.8_3.8.2800.0_x64__qbz5n2kfra8p0\\lib\\runpy.py\", line 194, in _run_module_as_main\n",
      "    return _run_code(code, main_globals, None,\n",
      "  File \"C:\\Program Files\\WindowsApps\\PythonSoftwareFoundation.Python.3.8_3.8.2800.0_x64__qbz5n2kfra8p0\\lib\\runpy.py\", line 87, in _run_code\n",
      "    exec(code, run_globals)\n",
      "  File \"c:\\Users\\KIIT\\AppData\\Local\\Packages\\PythonSoftwareFoundation.Python.3.8_qbz5n2kfra8p0\\LocalCache\\local-packages\\Python38\\Scripts\\pylint.exe\\__main__.py\", line 7, in <module>\n",
      "  File \"C:\\Users\\KIIT\\AppData\\Local\\Packages\\PythonSoftwareFoundation.Python.3.8_qbz5n2kfra8p0\\LocalCache\\local-packages\\Python38\\site-packages\\pylint\\__init__.py\", line 21, in run_pylint\n",
      "    from pylint.lint import Run as PylintRun\n",
      "  File \"C:\\Users\\KIIT\\AppData\\Local\\Packages\\PythonSoftwareFoundation.Python.3.8_qbz5n2kfra8p0\\LocalCache\\local-packages\\Python38\\site-packages\\pylint\\lint\\__init__.py\", line 76, in <module>\n",
      "    from pylint.lint.parallel import check_parallel\n",
      "  File \"C:\\Users\\KIIT\\AppData\\Local\\Packages\\PythonSoftwareFoundation.Python.3.8_qbz5n2kfra8p0\\LocalCache\\local-packages\\Python38\\site-packages\\pylint\\lint\\parallel.py\", line 7, in <module>\n",
      "    from pylint import reporters\n",
      "  File \"C:\\Users\\KIIT\\AppData\\Local\\Packages\\PythonSoftwareFoundation.Python.3.8_qbz5n2kfra8p0\\LocalCache\\local-packages\\Python38\\site-packages\\pylint\\reporters\\__init__.py\", line 26, in <module>\n",
      "    from pylint import utils\n",
      "  File \"C:\\Users\\KIIT\\AppData\\Local\\Packages\\PythonSoftwareFoundation.Python.3.8_qbz5n2kfra8p0\\LocalCache\\local-packages\\Python38\\site-packages\\pylint\\utils\\__init__.py\", line 46, in <module>\n",
      "    from pylint.utils.ast_walker import ASTWalker\n",
      "  File \"C:\\Users\\KIIT\\AppData\\Local\\Packages\\PythonSoftwareFoundation.Python.3.8_qbz5n2kfra8p0\\LocalCache\\local-packages\\Python38\\site-packages\\pylint\\utils\\ast_walker.py\", line 6, in <module>\n",
      "    from astroid import nodes\n",
      "  File \"C:\\Users\\KIIT\\AppData\\Local\\Packages\\PythonSoftwareFoundation.Python.3.8_qbz5n2kfra8p0\\LocalCache\\local-packages\\Python38\\site-packages\\astroid\\__init__.py\", line 53, in <module>\n",
      "    from astroid import inference, raw_building\n",
      "  File \"C:\\Users\\KIIT\\AppData\\Local\\Packages\\PythonSoftwareFoundation.Python.3.8_qbz5n2kfra8p0\\LocalCache\\local-packages\\Python38\\site-packages\\astroid\\inference.py\", line 35, in <module>\n",
      "    from astroid import bases\n",
      "  File \"C:\\Users\\KIIT\\AppData\\Local\\Packages\\PythonSoftwareFoundation.Python.3.8_qbz5n2kfra8p0\\LocalCache\\local-packages\\Python38\\site-packages\\astroid\\bases.py\", line 540, in <module>\n",
      "    class Generator(BaseInstance):\n",
      "  File \"C:\\Users\\KIIT\\AppData\\Local\\Packages\\PythonSoftwareFoundation.Python.3.8_qbz5n2kfra8p0\\LocalCache\\local-packages\\Python38\\site-packages\\astroid\\bases.py\", line 546, in Generator\n",
      "    special_attributes = util.lazy_descriptor(objectmodel.GeneratorModel)\n",
      "  File \"C:\\Users\\KIIT\\AppData\\Local\\Packages\\PythonSoftwareFoundation.Python.3.8_qbz5n2kfra8p0\\LocalCache\\local-packages\\Python38\\site-packages\\astroid\\util.py\", line 29, in <lambda>\n",
      "    lambda: importlib.import_module(\".\" + module_name, \"astroid\")\n",
      "  File \"C:\\Program Files\\WindowsApps\\PythonSoftwareFoundation.Python.3.8_3.8.2800.0_x64__qbz5n2kfra8p0\\lib\\importlib\\__init__.py\", line 127, in import_module\n",
      "    return _bootstrap._gcd_import(name[level:], package, level)\n",
      "  File \"C:\\Users\\KIIT\\AppData\\Local\\Packages\\PythonSoftwareFoundation.Python.3.8_qbz5n2kfra8p0\\LocalCache\\local-packages\\Python38\\site-packages\\astroid\\interpreter\\objectmodel.py\", line 41, in <module>\n",
      "    from astroid import node_classes, util\n",
      "  File \"C:\\Users\\KIIT\\AppData\\Local\\Packages\\PythonSoftwareFoundation.Python.3.8_qbz5n2kfra8p0\\LocalCache\\local-packages\\Python38\\site-packages\\astroid\\node_classes.py\", line 59, in <module>\n",
      "    from astroid.manager import AstroidManager\n",
      "  File \"C:\\Users\\KIIT\\AppData\\Local\\Packages\\PythonSoftwareFoundation.Python.3.8_qbz5n2kfra8p0\\LocalCache\\local-packages\\Python38\\site-packages\\astroid\\manager.py\", line 35, in <module>\n",
      "    from astroid.interpreter._import import spec\n",
      "  File \"C:\\Users\\KIIT\\AppData\\Local\\Packages\\PythonSoftwareFoundation.Python.3.8_qbz5n2kfra8p0\\LocalCache\\local-packages\\Python38\\site-packages\\astroid\\interpreter\\_import\\spec.py\", line 27, in <module>\n",
      "    from . import util\n",
      "  File \"C:\\Users\\KIIT\\AppData\\Local\\Packages\\PythonSoftwareFoundation.Python.3.8_qbz5n2kfra8p0\\LocalCache\\local-packages\\Python38\\site-packages\\astroid\\interpreter\\_import\\util.py\", line 6, in <module>\n",
      "    import pkg_resources\n",
      "  File \"C:\\Users\\KIIT\\AppData\\Local\\Packages\\PythonSoftwareFoundation.Python.3.8_qbz5n2kfra8p0\\LocalCache\\local-packages\\Python38\\site-packages\\pkg_resources\\__init__.py\", line 96, in <module>\n",
      "    from jaraco.text import (\n",
      "  File \"C:\\Users\\KIIT\\AppData\\Local\\Packages\\PythonSoftwareFoundation.Python.3.8_qbz5n2kfra8p0\\LocalCache\\local-packages\\Python38\\site-packages\\setuptools\\_vendor\\jaraco\\text\\__init__.py\", line 139, in <module>\n",
      "    @_unicode_trap.passes\n",
      "AttributeError: 'ExceptionTrap' object has no attribute 'passes'\n"
     ]
    }
   ],
   "source": [
    "! pylint simple1.py "
   ]
  },
  {
   "cell_type": "code",
   "execution_count": 7,
   "metadata": {},
   "outputs": [
    {
     "name": "stdout",
     "output_type": "stream",
     "text": [
      "Writing simple2.py\n"
     ]
    }
   ],
   "source": [
    "%%writefile simple2.py \n",
    "def myfunc():\n",
    "    first = 1\n",
    "    second  = 2\n",
    "    print(first)\n",
    "    print(second)\n",
    "\n",
    "myfunc()"
   ]
  },
  {
   "cell_type": "code",
   "execution_count": 8,
   "metadata": {},
   "outputs": [
    {
     "name": "stderr",
     "output_type": "stream",
     "text": [
      "Traceback (most recent call last):\n",
      "  File \"C:\\Program Files\\WindowsApps\\PythonSoftwareFoundation.Python.3.8_3.8.2800.0_x64__qbz5n2kfra8p0\\lib\\runpy.py\", line 194, in _run_module_as_main\n",
      "    return _run_code(code, main_globals, None,\n",
      "  File \"C:\\Program Files\\WindowsApps\\PythonSoftwareFoundation.Python.3.8_3.8.2800.0_x64__qbz5n2kfra8p0\\lib\\runpy.py\", line 87, in _run_code\n",
      "    exec(code, run_globals)\n",
      "  File \"c:\\Users\\KIIT\\AppData\\Local\\Packages\\PythonSoftwareFoundation.Python.3.8_qbz5n2kfra8p0\\LocalCache\\local-packages\\Python38\\Scripts\\pylint.exe\\__main__.py\", line 7, in <module>\n",
      "  File \"C:\\Users\\KIIT\\AppData\\Local\\Packages\\PythonSoftwareFoundation.Python.3.8_qbz5n2kfra8p0\\LocalCache\\local-packages\\Python38\\site-packages\\pylint\\__init__.py\", line 21, in run_pylint\n",
      "    from pylint.lint import Run as PylintRun\n",
      "  File \"C:\\Users\\KIIT\\AppData\\Local\\Packages\\PythonSoftwareFoundation.Python.3.8_qbz5n2kfra8p0\\LocalCache\\local-packages\\Python38\\site-packages\\pylint\\lint\\__init__.py\", line 76, in <module>\n",
      "    from pylint.lint.parallel import check_parallel\n",
      "  File \"C:\\Users\\KIIT\\AppData\\Local\\Packages\\PythonSoftwareFoundation.Python.3.8_qbz5n2kfra8p0\\LocalCache\\local-packages\\Python38\\site-packages\\pylint\\lint\\parallel.py\", line 7, in <module>\n",
      "    from pylint import reporters\n",
      "  File \"C:\\Users\\KIIT\\AppData\\Local\\Packages\\PythonSoftwareFoundation.Python.3.8_qbz5n2kfra8p0\\LocalCache\\local-packages\\Python38\\site-packages\\pylint\\reporters\\__init__.py\", line 26, in <module>\n",
      "    from pylint import utils\n",
      "  File \"C:\\Users\\KIIT\\AppData\\Local\\Packages\\PythonSoftwareFoundation.Python.3.8_qbz5n2kfra8p0\\LocalCache\\local-packages\\Python38\\site-packages\\pylint\\utils\\__init__.py\", line 46, in <module>\n",
      "    from pylint.utils.ast_walker import ASTWalker\n",
      "  File \"C:\\Users\\KIIT\\AppData\\Local\\Packages\\PythonSoftwareFoundation.Python.3.8_qbz5n2kfra8p0\\LocalCache\\local-packages\\Python38\\site-packages\\pylint\\utils\\ast_walker.py\", line 6, in <module>\n",
      "    from astroid import nodes\n",
      "  File \"C:\\Users\\KIIT\\AppData\\Local\\Packages\\PythonSoftwareFoundation.Python.3.8_qbz5n2kfra8p0\\LocalCache\\local-packages\\Python38\\site-packages\\astroid\\__init__.py\", line 53, in <module>\n",
      "    from astroid import inference, raw_building\n",
      "  File \"C:\\Users\\KIIT\\AppData\\Local\\Packages\\PythonSoftwareFoundation.Python.3.8_qbz5n2kfra8p0\\LocalCache\\local-packages\\Python38\\site-packages\\astroid\\inference.py\", line 35, in <module>\n",
      "    from astroid import bases\n",
      "  File \"C:\\Users\\KIIT\\AppData\\Local\\Packages\\PythonSoftwareFoundation.Python.3.8_qbz5n2kfra8p0\\LocalCache\\local-packages\\Python38\\site-packages\\astroid\\bases.py\", line 540, in <module>\n",
      "    class Generator(BaseInstance):\n",
      "  File \"C:\\Users\\KIIT\\AppData\\Local\\Packages\\PythonSoftwareFoundation.Python.3.8_qbz5n2kfra8p0\\LocalCache\\local-packages\\Python38\\site-packages\\astroid\\bases.py\", line 546, in Generator\n",
      "    special_attributes = util.lazy_descriptor(objectmodel.GeneratorModel)\n",
      "  File \"C:\\Users\\KIIT\\AppData\\Local\\Packages\\PythonSoftwareFoundation.Python.3.8_qbz5n2kfra8p0\\LocalCache\\local-packages\\Python38\\site-packages\\astroid\\util.py\", line 29, in <lambda>\n",
      "    lambda: importlib.import_module(\".\" + module_name, \"astroid\")\n",
      "  File \"C:\\Program Files\\WindowsApps\\PythonSoftwareFoundation.Python.3.8_3.8.2800.0_x64__qbz5n2kfra8p0\\lib\\importlib\\__init__.py\", line 127, in import_module\n",
      "    return _bootstrap._gcd_import(name[level:], package, level)\n",
      "  File \"C:\\Users\\KIIT\\AppData\\Local\\Packages\\PythonSoftwareFoundation.Python.3.8_qbz5n2kfra8p0\\LocalCache\\local-packages\\Python38\\site-packages\\astroid\\interpreter\\objectmodel.py\", line 41, in <module>\n",
      "    from astroid import node_classes, util\n",
      "  File \"C:\\Users\\KIIT\\AppData\\Local\\Packages\\PythonSoftwareFoundation.Python.3.8_qbz5n2kfra8p0\\LocalCache\\local-packages\\Python38\\site-packages\\astroid\\node_classes.py\", line 59, in <module>\n",
      "    from astroid.manager import AstroidManager\n",
      "  File \"C:\\Users\\KIIT\\AppData\\Local\\Packages\\PythonSoftwareFoundation.Python.3.8_qbz5n2kfra8p0\\LocalCache\\local-packages\\Python38\\site-packages\\astroid\\manager.py\", line 35, in <module>\n",
      "    from astroid.interpreter._import import spec\n",
      "  File \"C:\\Users\\KIIT\\AppData\\Local\\Packages\\PythonSoftwareFoundation.Python.3.8_qbz5n2kfra8p0\\LocalCache\\local-packages\\Python38\\site-packages\\astroid\\interpreter\\_import\\spec.py\", line 27, in <module>\n",
      "    from . import util\n",
      "  File \"C:\\Users\\KIIT\\AppData\\Local\\Packages\\PythonSoftwareFoundation.Python.3.8_qbz5n2kfra8p0\\LocalCache\\local-packages\\Python38\\site-packages\\astroid\\interpreter\\_import\\util.py\", line 6, in <module>\n",
      "    import pkg_resources\n",
      "  File \"C:\\Users\\KIIT\\AppData\\Local\\Packages\\PythonSoftwareFoundation.Python.3.8_qbz5n2kfra8p0\\LocalCache\\local-packages\\Python38\\site-packages\\pkg_resources\\__init__.py\", line 96, in <module>\n",
      "    from jaraco.text import (\n",
      "  File \"C:\\Users\\KIIT\\AppData\\Local\\Packages\\PythonSoftwareFoundation.Python.3.8_qbz5n2kfra8p0\\LocalCache\\local-packages\\Python38\\site-packages\\setuptools\\_vendor\\jaraco\\text\\__init__.py\", line 139, in <module>\n",
      "    @_unicode_trap.passes\n",
      "AttributeError: 'ExceptionTrap' object has no attribute 'passes'\n"
     ]
    }
   ],
   "source": [
    "! pylint simple2.py"
   ]
  },
  {
   "cell_type": "markdown",
   "metadata": {},
   "source": [
    "**Unittest**\n",
    "\n",
    "Unittest lets you write your own test programs. The goal is to send a specific set of data to your program, and analyze the returned results against an expected result."
   ]
  },
  {
   "cell_type": "code",
   "execution_count": 9,
   "metadata": {},
   "outputs": [
    {
     "name": "stdout",
     "output_type": "stream",
     "text": [
      "Writing cap.py\n"
     ]
    }
   ],
   "source": [
    "%%writefile cap.py \n",
    "def cap_text(text):\n",
    "    return text.capitalize()"
   ]
  },
  {
   "cell_type": "code",
   "execution_count": 10,
   "metadata": {},
   "outputs": [
    {
     "name": "stdout",
     "output_type": "stream",
     "text": [
      "Writing test_cap.py\n"
     ]
    }
   ],
   "source": [
    "%%writefile test_cap.py\n",
    "import unittest\n",
    "import cap\n",
    "\n",
    "class TestCap(unittest.TestCase):\n",
    "    \n",
    "    def test_one_word(self):\n",
    "        text = 'python'\n",
    "        result = cap.cap_text(text)\n",
    "        self.assertEqual(result, 'Python')\n",
    "        \n",
    "    def test_multiple_words(self):\n",
    "        text = 'monty python'\n",
    "        result = cap.cap_text(text)\n",
    "        self.assertEqual(result, 'Monty Python')\n",
    "        \n",
    "    def test_with_apostrophes(self):\n",
    "        text = \"monty python's flying circus\"\n",
    "        result = cap.cap_text(text)\n",
    "        self.assertEqual(result, \"Monty Python's Flying Circus\")\n",
    "        \n",
    "if __name__ == '__main__':\n",
    "    unittest.main()"
   ]
  },
  {
   "cell_type": "code",
   "execution_count": 11,
   "metadata": {},
   "outputs": [
    {
     "name": "stdout",
     "output_type": "stream",
     "text": [
      "An error occurred !\n"
     ]
    }
   ],
   "source": [
    "try:\n",
    "    for i in ['a', 'b', 'c']:\n",
    "        print(i**2)\n",
    "except:\n",
    "    print(\"An error occurred !\")"
   ]
  },
  {
   "cell_type": "code",
   "execution_count": 12,
   "metadata": {},
   "outputs": [
    {
     "name": "stdout",
     "output_type": "stream",
     "text": [
      "Can`t divide by zero\n",
      "All Done !\n"
     ]
    }
   ],
   "source": [
    "x = 5\n",
    "y = 0\n",
    "try:\n",
    "    z = x/y\n",
    "except ZeroDivisionError:\n",
    "    print(\"Can`t divide by zero\")\n",
    "finally:\n",
    "    print(\"All Done !\")"
   ]
  },
  {
   "cell_type": "code",
   "execution_count": 13,
   "metadata": {},
   "outputs": [
    {
     "name": "stdout",
     "output_type": "stream",
     "text": [
      "Thank you, your number squared is:  16\n"
     ]
    }
   ],
   "source": [
    "def ask():\n",
    "    while True:\n",
    "        try:\n",
    "            n = int(input(\"Input an integer: \"))\n",
    "        except:\n",
    "            print(\"An error occurred! Please try again!\")\n",
    "            continue\n",
    "        else: \n",
    "            break \n",
    "    \n",
    "    print(\"Thank you, your number squared is: \", n**2)\n",
    "ask()"
   ]
  },
  {
   "cell_type": "markdown",
   "metadata": {},
   "source": [
    "### Decorators\n",
    "\n",
    "Decorators can be thought of as functions which modify the functionality of another function. They help to make your code shorter and more \"Pythonic\""
   ]
  },
  {
   "cell_type": "code",
   "execution_count": 16,
   "metadata": {},
   "outputs": [
    {
     "name": "stdout",
     "output_type": "stream",
     "text": [
      "{'__name__': '__main__', '__doc__': 'Automatically created module for IPython interactive environment', '__package__': None, '__loader__': None, '__spec__': None, '__builtin__': <module 'builtins' (built-in)>, '__builtins__': <module 'builtins' (built-in)>, '_ih': ['', 'try:\\n    for i in [\\'a\\', \\'b\\', \\'c\\']:\\n        print(i**2)\\nexcept:\\n    print(\"An error occurred !\")', 'def ask():\\n    while true:\\n        try:\\n            n = int(input(\"Input an integer: \"))\\n        except:\\n            print(\"ASn error occurred! please try again\")\\n            continue\\n        else: \\n            break\\n\\n    print(\"thank you, your number squared is: \", n**2)', \"get_ipython().run_cell_magic('writefile', 'simple.py', 'a = 1\\\\nb = 2\\\\nprint(a)\\\\nprint(b)\\\\n')\", \"get_ipython().system(' pylint simple1.py')\", 'get_ipython().run_cell_magic(\\'writefile\\', \\'simple1.py\\', \\'\"\"\"\\\\nA very simple script\\\\n\"\"\"\\\\ndef myfunc():\\\\n    first=1\\\\n    second = 2\\\\n    print(first)\\\\n    print(second)\\\\n\\\\nmyfunc()\\\\n\\')', \"get_ipython().system(' pylint simple1.py')\", \"get_ipython().run_cell_magic('writefile', 'simple2.py', 'def myfunc():\\\\n    first = 1\\\\n    second  = 2\\\\n    print(first)\\\\n    print(second)\\\\n\\\\nmyfunc()\\\\n')\", \"get_ipython().system(' pylint simple2.py')\", \"get_ipython().run_cell_magic('writefile', 'cap.py', 'def cap_text(text):\\\\n    return text.capitalize()\\\\n')\", 'get_ipython().run_cell_magic(\\'writefile\\', \\'test_cap.py\\', \\'import unittest\\\\nimport cap\\\\n\\\\nclass TestCap(unittest.TestCase):\\\\n    \\\\n    def test_one_word(self):\\\\n        text = \\\\\\'python\\\\\\'\\\\n        result = cap.cap_text(text)\\\\n        self.assertEqual(result, \\\\\\'Python\\\\\\')\\\\n        \\\\n    def test_multiple_words(self):\\\\n        text = \\\\\\'monty python\\\\\\'\\\\n        result = cap.cap_text(text)\\\\n        self.assertEqual(result, \\\\\\'Monty Python\\\\\\')\\\\n        \\\\n    def test_with_apostrophes(self):\\\\n        text = \"monty python\\\\\\'s flying circus\"\\\\n        result = cap.cap_text(text)\\\\n        self.assertEqual(result, \"Monty Python\\\\\\'s Flying Circus\")\\\\n        \\\\nif __name__ == \\\\\\'__main__\\\\\\':\\\\n    unittest.main()\\\\n\\')', 'try:\\n    for i in [\\'a\\', \\'b\\', \\'c\\']:\\n        print(i**2)\\nexcept:\\n    print(\"An error occurred !\")', 'x = 5\\ny = 0\\ntry:\\n    z = x/y\\nexcept ZeroDivisionError:\\n    print(\"Can`t divide by zero\")\\nfinally:\\n    print(\"All Done !\")', 'def ask():\\n    while True:\\n        try:\\n            n = int(input(\"Input an integer: \"))\\n        except:\\n            print(\"An error occurred! Please try again!\")\\n            continue\\n        else: \\n            break \\n    \\n    print(\"Thank you, your number squared is: \", n**2)\\nask()', 'def func():\\n    return 1\\n\\nfunc()', 'def func():\\n    return 1\\n\\nfunc()\\ns = \"Global Variable\"\\n\\ndef check_for_locals():\\n    print(locals())', 'def func():\\n    return 1\\n\\nfunc()\\ns = \"Global Variable\"\\n\\ndef check_for_locals():\\n    print(locals())\\n\\n\\nprint(globals())'], '_oh': {14: 1}, '_dh': ['c:\\\\Users\\\\KIIT\\\\Desktop\\\\Problem-Solving\\\\Codes-Imperian-Bootcamp'], 'In': ['', 'try:\\n    for i in [\\'a\\', \\'b\\', \\'c\\']:\\n        print(i**2)\\nexcept:\\n    print(\"An error occurred !\")', 'def ask():\\n    while true:\\n        try:\\n            n = int(input(\"Input an integer: \"))\\n        except:\\n            print(\"ASn error occurred! please try again\")\\n            continue\\n        else: \\n            break\\n\\n    print(\"thank you, your number squared is: \", n**2)', \"get_ipython().run_cell_magic('writefile', 'simple.py', 'a = 1\\\\nb = 2\\\\nprint(a)\\\\nprint(b)\\\\n')\", \"get_ipython().system(' pylint simple1.py')\", 'get_ipython().run_cell_magic(\\'writefile\\', \\'simple1.py\\', \\'\"\"\"\\\\nA very simple script\\\\n\"\"\"\\\\ndef myfunc():\\\\n    first=1\\\\n    second = 2\\\\n    print(first)\\\\n    print(second)\\\\n\\\\nmyfunc()\\\\n\\')', \"get_ipython().system(' pylint simple1.py')\", \"get_ipython().run_cell_magic('writefile', 'simple2.py', 'def myfunc():\\\\n    first = 1\\\\n    second  = 2\\\\n    print(first)\\\\n    print(second)\\\\n\\\\nmyfunc()\\\\n')\", \"get_ipython().system(' pylint simple2.py')\", \"get_ipython().run_cell_magic('writefile', 'cap.py', 'def cap_text(text):\\\\n    return text.capitalize()\\\\n')\", 'get_ipython().run_cell_magic(\\'writefile\\', \\'test_cap.py\\', \\'import unittest\\\\nimport cap\\\\n\\\\nclass TestCap(unittest.TestCase):\\\\n    \\\\n    def test_one_word(self):\\\\n        text = \\\\\\'python\\\\\\'\\\\n        result = cap.cap_text(text)\\\\n        self.assertEqual(result, \\\\\\'Python\\\\\\')\\\\n        \\\\n    def test_multiple_words(self):\\\\n        text = \\\\\\'monty python\\\\\\'\\\\n        result = cap.cap_text(text)\\\\n        self.assertEqual(result, \\\\\\'Monty Python\\\\\\')\\\\n        \\\\n    def test_with_apostrophes(self):\\\\n        text = \"monty python\\\\\\'s flying circus\"\\\\n        result = cap.cap_text(text)\\\\n        self.assertEqual(result, \"Monty Python\\\\\\'s Flying Circus\")\\\\n        \\\\nif __name__ == \\\\\\'__main__\\\\\\':\\\\n    unittest.main()\\\\n\\')', 'try:\\n    for i in [\\'a\\', \\'b\\', \\'c\\']:\\n        print(i**2)\\nexcept:\\n    print(\"An error occurred !\")', 'x = 5\\ny = 0\\ntry:\\n    z = x/y\\nexcept ZeroDivisionError:\\n    print(\"Can`t divide by zero\")\\nfinally:\\n    print(\"All Done !\")', 'def ask():\\n    while True:\\n        try:\\n            n = int(input(\"Input an integer: \"))\\n        except:\\n            print(\"An error occurred! Please try again!\")\\n            continue\\n        else: \\n            break \\n    \\n    print(\"Thank you, your number squared is: \", n**2)\\nask()', 'def func():\\n    return 1\\n\\nfunc()', 'def func():\\n    return 1\\n\\nfunc()\\ns = \"Global Variable\"\\n\\ndef check_for_locals():\\n    print(locals())', 'def func():\\n    return 1\\n\\nfunc()\\ns = \"Global Variable\"\\n\\ndef check_for_locals():\\n    print(locals())\\n\\n\\nprint(globals())'], 'Out': {14: 1}, 'get_ipython': <bound method InteractiveShell.get_ipython of <ipykernel.zmqshell.ZMQInteractiveShell object at 0x00000206CA38E0D0>>, 'exit': <IPython.core.autocall.ZMQExitAutocall object at 0x00000206CA38EAF0>, 'quit': <IPython.core.autocall.ZMQExitAutocall object at 0x00000206CA38EAF0>, '_': 1, '__': '', '___': '', '__vsc_ipynb_file__': 'c:\\\\Users\\\\KIIT\\\\Desktop\\\\Problem-Solving\\\\Codes-Imperian-Bootcamp\\\\OOP-Fundamentals.ipynb', '_i': 'def func():\\n    return 1\\n\\nfunc()\\ns = \"Global Variable\"\\n\\ndef check_for_locals():\\n    print(locals())', '_ii': 'def func():\\n    return 1\\n\\nfunc()', '_iii': 'def ask():\\n    while True:\\n        try:\\n            n = int(input(\"Input an integer: \"))\\n        except:\\n            print(\"An error occurred! Please try again!\")\\n            continue\\n        else: \\n            break \\n    \\n    print(\"Thank you, your number squared is: \", n**2)\\nask()', '_i1': 'try:\\n    for i in [\\'a\\', \\'b\\', \\'c\\']:\\n        print(i**2)\\nexcept:\\n    print(\"An error occurred !\")', 'i': 'a', '_i2': 'def ask():\\n    while true:\\n        try:\\n            n = int(input(\"Input an integer: \"))\\n        except:\\n            print(\"ASn error occurred! please try again\")\\n            continue\\n        else: \\n            break\\n\\n    print(\"thank you, your number squared is: \", n**2)', 'ask': <function ask at 0x00000206CB2A2820>, '_i3': '%%writefile simple.py \\na = 1\\nb = 2\\nprint(a)\\nprint(b)', '_i4': '! pylint simple1.py', '_exit_code': 1, '_i5': '%%writefile simple1.py \\n\"\"\"\\nA very simple script\\n\"\"\"\\ndef myfunc():\\n    first=1\\n    second = 2\\n    print(first)\\n    print(second)\\n\\nmyfunc()', '_i6': '! pylint simple1.py ', '_i7': '%%writefile simple2.py \\ndef myfunc():\\n    first = 1\\n    second  = 2\\n    print(first)\\n    print(second)\\n\\nmyfunc()', '_i8': '! pylint simple2.py', '_i9': '%%writefile cap.py \\ndef cap_text(text):\\n    return text.capitalize()', '_i10': '%%writefile test_cap.py\\nimport unittest\\nimport cap\\n\\nclass TestCap(unittest.TestCase):\\n    \\n    def test_one_word(self):\\n        text = \\'python\\'\\n        result = cap.cap_text(text)\\n        self.assertEqual(result, \\'Python\\')\\n        \\n    def test_multiple_words(self):\\n        text = \\'monty python\\'\\n        result = cap.cap_text(text)\\n        self.assertEqual(result, \\'Monty Python\\')\\n        \\n    def test_with_apostrophes(self):\\n        text = \"monty python\\'s flying circus\"\\n        result = cap.cap_text(text)\\n        self.assertEqual(result, \"Monty Python\\'s Flying Circus\")\\n        \\nif __name__ == \\'__main__\\':\\n    unittest.main()', '_i11': 'try:\\n    for i in [\\'a\\', \\'b\\', \\'c\\']:\\n        print(i**2)\\nexcept:\\n    print(\"An error occurred !\")', '_i12': 'x = 5\\ny = 0\\ntry:\\n    z = x/y\\nexcept ZeroDivisionError:\\n    print(\"Can`t divide by zero\")\\nfinally:\\n    print(\"All Done !\")', 'x': 5, 'y': 0, '_i13': 'def ask():\\n    while True:\\n        try:\\n            n = int(input(\"Input an integer: \"))\\n        except:\\n            print(\"An error occurred! Please try again!\")\\n            continue\\n        else: \\n            break \\n    \\n    print(\"Thank you, your number squared is: \", n**2)\\nask()', '_i14': 'def func():\\n    return 1\\n\\nfunc()', 'func': <function func at 0x00000206CB2A2790>, '_14': 1, '_i15': 'def func():\\n    return 1\\n\\nfunc()\\ns = \"Global Variable\"\\n\\ndef check_for_locals():\\n    print(locals())', 's': 'Global Variable', 'check_for_locals': <function check_for_locals at 0x00000206CB2A2F70>, '_i16': 'def func():\\n    return 1\\n\\nfunc()\\ns = \"Global Variable\"\\n\\ndef check_for_locals():\\n    print(locals())\\n\\n\\nprint(globals())'}\n"
     ]
    }
   ],
   "source": [
    "def func():\n",
    "    return 1\n",
    "\n",
    "func()\n",
    "s = \"Global Variable\"\n",
    "\n",
    "def check_for_locals():\n",
    "    print(locals())\n",
    "\n",
    "\n",
    "print(globals())\n",
    "print(globals().keys())\n",
    "globals()['s']\n",
    "check_for_locals()\n",
    "\n",
    "def hello(name = 'Jose'):\n",
    "    return 'Hello' + name\n",
    "\n",
    "hello()\n",
    "greet = hello\n",
    "greet\n"
   ]
  },
  {
   "cell_type": "markdown",
   "metadata": {},
   "source": [
    "### Type-1: \n",
    "\n",
    "Functions within function"
   ]
  },
  {
   "cell_type": "code",
   "execution_count": null,
   "metadata": {},
   "outputs": [],
   "source": [
    "def hello(name=\"jose\"):\n",
    "    print('The hello() function has been executed')\n",
    "\n",
    "    def greet():\n",
    "        return '\\t This is inside the great() function'\n",
    "    \n",
    "    def welcome():\n",
    "        return '\\t This is inside the welcome() function'\n",
    "    \n",
    "    print(greet())\n",
    "    print(welcome())\n",
    "    print(\"Now we are back inside the hello() function\")\n",
    "\n",
    "    hello()\n",
    "    welcome()\n",
    "    "
   ]
  },
  {
   "cell_type": "markdown",
   "metadata": {},
   "source": [
    "### Type -3:\n",
    "Returning Functions"
   ]
  },
  {
   "cell_type": "code",
   "execution_count": 17,
   "metadata": {},
   "outputs": [],
   "source": [
    "def hello(name = 'Jose'):\n",
    "    def greet():\n",
    "        return '\\t This is inside the greet() function'\n",
    "    \n",
    "    def welcome():\n",
    "        return '\\t This is inside the welcome() function'\n",
    "    \n",
    "    if name == 'Jose':\n",
    "        return greet\n",
    "    else: \n",
    "        return welcome "
   ]
  },
  {
   "cell_type": "markdown",
   "metadata": {},
   "source": [
    "### Type-3:\n",
    "Functions As Arguments"
   ]
  },
  {
   "cell_type": "code",
   "execution_count": 18,
   "metadata": {},
   "outputs": [],
   "source": [
    "def hello():\n",
    "    return 'Hi Jose!'\n",
    "\n",
    "def other(func):\n",
    "    print('Other code would go here !')\n",
    "    print(func())\n",
    "    "
   ]
  },
  {
   "cell_type": "markdown",
   "metadata": {},
   "source": [
    "### Creating a Decorator"
   ]
  },
  {
   "cell_type": "code",
   "execution_count": 19,
   "metadata": {},
   "outputs": [
    {
     "name": "stdout",
     "output_type": "stream",
     "text": [
      "This function is in need of a decorator\n",
      "Code would be here, before executing the func\n",
      "This function is in need of a decorator\n",
      "Code here will execute after the func()\n",
      "Code would be here, before executing the func\n",
      "This function is in need of a Decorator\n",
      "Code here will execute after the func()\n"
     ]
    }
   ],
   "source": [
    "def new_decorator(func):\n",
    "\n",
    "    def wrap_func():\n",
    "        print(\"Code would be here, before executing the func\")\n",
    "\n",
    "        func()\n",
    "\n",
    "        print(\"Code here will execute after the func()\")\n",
    "\n",
    "    return wrap_func\n",
    "\n",
    "def func_needs_decorator():\n",
    "    print(\"This function is in need of a decorator\")\n",
    "\n",
    "func_needs_decorator()\n",
    "\n",
    "func_needs_decorator = new_decorator(func_needs_decorator)\n",
    "func_needs_decorator()\n",
    "\n",
    "@new_decorator\n",
    "def func_needs_decorator():\n",
    "    print(\"This function is in need of a Decorator\")\n",
    "\n",
    "func_needs_decorator()\n"
   ]
  }
 ],
 "metadata": {
  "kernelspec": {
   "display_name": "Python 3",
   "language": "python",
   "name": "python3"
  },
  "language_info": {
   "codemirror_mode": {
    "name": "ipython",
    "version": 3
   },
   "file_extension": ".py",
   "mimetype": "text/x-python",
   "name": "python",
   "nbconvert_exporter": "python",
   "pygments_lexer": "ipython3",
   "version": "3.8.10"
  }
 },
 "nbformat": 4,
 "nbformat_minor": 2
}
