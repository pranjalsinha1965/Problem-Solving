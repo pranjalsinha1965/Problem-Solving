{
 "cells": [
  {
   "cell_type": "code",
   "execution_count": 1,
   "metadata": {},
   "outputs": [
    {
     "name": "stdout",
     "output_type": "stream",
     "text": [
      "<class 'int'>\n",
      "<class 'list'>\n",
      "<class 'tuple'>\n",
      "<class 'dict'>\n"
     ]
    }
   ],
   "source": [
    "lst = [1, 2, 3]\n",
    "lst.count(2)\n",
    "print(type(1))\n",
    "print(type([]))\n",
    "print(type(()))\n",
    "print(type({}))"
   ]
  },
  {
   "cell_type": "code",
   "execution_count": 2,
   "metadata": {},
   "outputs": [
    {
     "name": "stdout",
     "output_type": "stream",
     "text": [
      "<class '__main__.Sample'>\n"
     ]
    }
   ],
   "source": [
    "class Sample:\n",
    "    pass\n",
    "x = Sample()\n",
    "print(type(x))"
   ]
  },
  {
   "cell_type": "code",
   "execution_count": 3,
   "metadata": {},
   "outputs": [
    {
     "data": {
      "text/plain": [
       "'Huskie'"
      ]
     },
     "execution_count": 3,
     "metadata": {},
     "output_type": "execute_result"
    }
   ],
   "source": [
    "class Dog:\n",
    "    def __init__(self, breed):\n",
    "        self.breed = breed\n",
    "\n",
    "sam = Dog(breed='Lab')\n",
    "frank = Dog(breed='Huskie')\n",
    "sam.breed\n",
    "frank.breed"
   ]
  },
  {
   "cell_type": "code",
   "execution_count": 4,
   "metadata": {},
   "outputs": [],
   "source": [
    "class Dog:\n",
    "    species = 'mammal'\n",
    "    def __init__(self, breed, name):\n",
    "        self.breed = breed\n",
    "        self.name = name"
   ]
  },
  {
   "cell_type": "code",
   "execution_count": 5,
   "metadata": {},
   "outputs": [
    {
     "data": {
      "text/plain": [
       "'mammal'"
      ]
     },
     "execution_count": 5,
     "metadata": {},
     "output_type": "execute_result"
    }
   ],
   "source": [
    "sam = Dog('Lab', 'Sam')\n",
    "sam.name\n",
    "sam.species"
   ]
  },
  {
   "cell_type": "code",
   "execution_count": 1,
   "metadata": {},
   "outputs": [
    {
     "name": "stdout",
     "output_type": "stream",
     "text": [
      "Radius is:  1\n",
      "Area is:  3.14\n",
      "Circumference is: 6.28\n"
     ]
    }
   ],
   "source": [
    "class Circle:\n",
    "    pi = 3.14\n",
    "\n",
    "    def __init__(self, radius=1):\n",
    "        self.radius = radius\n",
    "        self.area = radius * radius * Circle.pi\n",
    "    \n",
    "    def setRadius(self, new_radius):\n",
    "        self.radius = new_radius\n",
    "        self.area = new_radius * new_radius * self.pi\n",
    "    \n",
    "    def getCircumference(self):\n",
    "        return self.radius * self.pi * 2\n",
    "    \n",
    "c = Circle()\n",
    "print('Radius is: ', c.radius)\n",
    "print('Area is: ', c.area)\n",
    "print('Circumference is:', c.getCircumference())"
   ]
  },
  {
   "cell_type": "code",
   "execution_count": 2,
   "metadata": {},
   "outputs": [],
   "source": [
    "\n",
    "class Animal:\n",
    "    def __init__(self):\n",
    "        print(\"Animal created\")\n",
    "\n",
    "    def whoAmI(self):\n",
    "        print(\"Animal\")\n",
    "\n",
    "    def eat(self):\n",
    "        print(\"Eating\")\n",
    "\n",
    "\n",
    "class Dog(Animal):\n",
    "    def __init__(self):\n",
    "        Animal.__init__(self)\n",
    "        print(\"Dog created\")\n",
    "\n",
    "    def whoAmI(self):\n",
    "        print(\"Dog\")\n",
    "\n",
    "    def bark(self):\n",
    "        print(\"Woof!\")"
   ]
  },
  {
   "cell_type": "code",
   "execution_count": 8,
   "metadata": {},
   "outputs": [
    {
     "name": "stdout",
     "output_type": "stream",
     "text": [
      "Animal created\n",
      "Dog created\n",
      "Dog\n",
      "Eating\n",
      "Woof!\n"
     ]
    }
   ],
   "source": [
    "# Create an instance of Dog\n",
    "dog = Dog()\n",
    "\n",
    "# Call the whoAmI method\n",
    "dog.whoAmI()  # Output: Dog\n",
    "\n",
    "# Call the eat method\n",
    "dog.eat()  # Output: Eating\n",
    "\n",
    "# Call the bark method\n",
    "dog.bark()  # Output: Woof!"
   ]
  },
  {
   "cell_type": "code",
   "execution_count": 9,
   "metadata": {},
   "outputs": [
    {
     "name": "stdout",
     "output_type": "stream",
     "text": [
      "Niko says Woof ! \n",
      "Felix says Meow !\n",
      "Niko says Woof ! \n",
      "Felix says Meow !\n",
      "Niko says Woof ! \n",
      "Felix says Meow !\n"
     ]
    }
   ],
   "source": [
    "# Polymorphism\n",
    "\n",
    "class Dog:\n",
    "    def __init__(self, name):\n",
    "        self.name = name\n",
    "    \n",
    "    def speak(self):\n",
    "        return self.name + ' says Woof ! '\n",
    "\n",
    "class Cat:\n",
    "    def __init__(self, name):\n",
    "        self.name = name\n",
    "    \n",
    "    def speak(self):\n",
    "        return self.name + ' says Meow !'\n",
    "    \n",
    "niko = Dog('Niko')\n",
    "felix = Cat('Felix')\n",
    "\n",
    "print(niko.speak())\n",
    "print(felix.speak())\n",
    "\n",
    "for pet in [niko, felix]:\n",
    "    print(pet.speak())\n",
    "\n",
    "def pet_speak(pet):\n",
    "    print(pet.speak())\n",
    "\n",
    "pet_speak(niko)\n",
    "pet_speak(felix)"
   ]
  },
  {
   "cell_type": "code",
   "execution_count": 10,
   "metadata": {},
   "outputs": [
    {
     "name": "stdout",
     "output_type": "stream",
     "text": [
      "A book is created\n",
      "Title: Python Rocks!, author: Jose Portilla, pages: 159\n",
      "159\n",
      "A book is destroyed\n"
     ]
    }
   ],
   "source": [
    "class Book:\n",
    "    def __init__(self, title, author, pages):\n",
    "        print(\"A book is created\")\n",
    "        self.title = title\n",
    "        self.author = author\n",
    "        self.pages = pages\n",
    "\n",
    "    def __str__(self):\n",
    "        return \"Title: %s, author: %s, pages: %s\" %(self.title, self.author, self.pages)\n",
    "\n",
    "    def __len__(self):\n",
    "        return self.pages\n",
    "\n",
    "    def __del__(self):\n",
    "        print(\"A book is destroyed\")\n",
    "\n",
    "book = Book(\"Python Rocks!\", \"Jose Portilla\", 159)\n",
    "\n",
    "#Special Methods\n",
    "print(book)\n",
    "print(len(book))\n",
    "del book"
   ]
  },
  {
   "cell_type": "code",
   "execution_count": 11,
   "metadata": {},
   "outputs": [],
   "source": [
    "class Line:\n",
    "    \n",
    "    def __init__(self, coor1, coor2):\n",
    "        pass\n",
    "\n",
    "    def distance(self):\n",
    "        pass\n",
    "\n",
    "    def slope(self):\n",
    "        pass\n",
    "\n",
    "coordinate1 = (3, 2)\n",
    "coordinate2 = (8, 10)\n",
    "\n",
    "li = Line(coordinate1, coordinate2)\n",
    "\n",
    "li.slope()\n",
    "li.distance()"
   ]
  },
  {
   "cell_type": "code",
   "execution_count": 12,
   "metadata": {},
   "outputs": [
    {
     "name": "stdout",
     "output_type": "stream",
     "text": [
      "Volume: 56.548667764616276\n",
      "Surface Area: 94.24777960769379\n"
     ]
    }
   ],
   "source": [
    "import math\n",
    "\n",
    "class Cylinder:\n",
    "    def __init__(self, height=1, radius=2):\n",
    "        self.height = height\n",
    "        self.radius = radius\n",
    "\n",
    "    def volume(self):\n",
    "        return math.pi * self.radius ** 2 * self.height\n",
    "\n",
    "    def surface_area(self):\n",
    "        return 2 * math.pi * self.radius * self.height + 2 * math.pi * self.radius ** 2\n",
    "\n",
    "# Create an instance of Cylinder\n",
    "c = Cylinder(2, 3)\n",
    "\n",
    "# Calculate and print the volume\n",
    "print(\"Volume:\", c.volume())\n",
    "\n",
    "# Calculate and print the surface area\n",
    "print(\"Surface Area:\", c.surface_area())"
   ]
  },
  {
   "cell_type": "code",
   "execution_count": 13,
   "metadata": {},
   "outputs": [
    {
     "name": "stdout",
     "output_type": "stream",
     "text": [
      "Jose\n",
      "100\n",
      "Withdrawn 75 from the balance\n",
      "25\n",
      "Funds Unavailable!\n",
      "25\n",
      "Funds Unavailable!\n",
      "25\n"
     ]
    }
   ],
   "source": [
    "class Account:\n",
    "    def __init__(self, owner, balance=0):\n",
    "        self.owner = owner\n",
    "        self.balance = balance\n",
    "\n",
    "    def deposit(self, amount):\n",
    "        self.balance += amount\n",
    "        print(f\"Added {amount} to the balance\")\n",
    "\n",
    "    def withdraw(self, amount):\n",
    "        if amount > self.balance:\n",
    "            print(\"Funds Unavailable!\")\n",
    "        else:\n",
    "            self.balance -= amount\n",
    "            print(f\"Withdrawn {amount} from the balance\")\n",
    "\n",
    "    def __str__(self):\n",
    "        return f\"Account owner: {self.owner}\\nAccount balance: {self.balance}\"\n",
    "\n",
    "# Create an instance of Account\n",
    "acct1 = Account('Jose', 100)\n",
    "\n",
    "# Access owner and balance attributes\n",
    "print(acct1.owner)       # Output: Jose\n",
    "print(acct1.balance)     # Output: 100\n",
    "\n",
    "# Perform withdrawals\n",
    "acct1.withdraw(75)       # Output: Withdrawn 75 from the balance\n",
    "print(acct1.balance)     # Output: 25\n",
    "\n",
    "acct1.withdraw(500)      # Output: Funds Unavailable!\n",
    "print(acct1.balance)     # Output: 25\n",
    "\n",
    "acct1.withdraw(50)       # Output: Funds Unavailable!\n",
    "print(acct1.balance)     # Output: 25"
   ]
  },
  {
   "cell_type": "code",
   "execution_count": 2,
   "metadata": {},
   "outputs": [
    {
     "name": "stdout",
     "output_type": "stream",
     "text": [
      "Yep that`s an integer !\n",
      "Finally, I executed!\n"
     ]
    }
   ],
   "source": [
    "def askint():\n",
    "    while True:\n",
    "        try:\n",
    "            val = int(input(\"Please enter an integer: \"))\n",
    "        except:\n",
    "            print(\"Looks like you did not enter an integer!\")\n",
    "            continue\n",
    "        else: \n",
    "            print(\"Yep that`s an integer !\")\n",
    "            break\n",
    "        finally:\n",
    "            print(\"Finally, I executed!\")\n",
    "        print(val)\n",
    "askint()"
   ]
  }
 ],
 "metadata": {
  "kernelspec": {
   "display_name": "Python 3",
   "language": "python",
   "name": "python3"
  },
  "language_info": {
   "codemirror_mode": {
    "name": "ipython",
    "version": 3
   },
   "file_extension": ".py",
   "mimetype": "text/x-python",
   "name": "python",
   "nbconvert_exporter": "python",
   "pygments_lexer": "ipython3",
   "version": "3.8.10"
  }
 },
 "nbformat": 4,
 "nbformat_minor": 2
}
