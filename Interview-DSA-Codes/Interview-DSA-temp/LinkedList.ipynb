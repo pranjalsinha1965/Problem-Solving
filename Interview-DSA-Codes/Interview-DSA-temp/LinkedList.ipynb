{
 "cells": [
  {
   "cell_type": "code",
   "execution_count": 1,
   "metadata": {},
   "outputs": [
    {
     "name": "stdout",
     "output_type": "stream",
     "text": [
      "2\n"
     ]
    }
   ],
   "source": [
    "class Node:\n",
    "    def __init__(self, data1, next1=None):\n",
    "        self.data = data1\n",
    "        self.next = next1\n",
    "# Creating a new Node with the value from the array\n",
    "y = Node(2)\n",
    "# Printing the data stored in the Node\n",
    "print(y.data)"
   ]
  },
  {
   "cell_type": "code",
   "execution_count": 2,
   "metadata": {},
   "outputs": [
    {
     "name": "stdout",
     "output_type": "stream",
     "text": [
      "<__main__.Node object at 0x00000179483AFFD0>\n"
     ]
    }
   ],
   "source": [
    "class Node: \n",
    "    def __init__(self, data1, next1 = None):\n",
    "        self.data = data1 \n",
    "        self.next = next1 \n",
    "\n",
    "x = Node(2)\n",
    "y = x \n",
    "print(y)\n"
   ]
  },
  {
   "cell_type": "code",
   "execution_count": 3,
   "metadata": {},
   "outputs": [
    {
     "name": "stdout",
     "output_type": "stream",
     "text": [
      "Length of the linked list:  None\n"
     ]
    }
   ],
   "source": [
    "class Node:\n",
    "    def __init__(self, data, next_node=None):\n",
    "        self.data = data \n",
    "        self.next = next_node \n",
    "\n",
    "def length_of_linked_list(head):\n",
    "    cnt = 0\n",
    "    temp = head \n",
    "\n",
    "    while temp is not None:\n",
    "        temp = temp.next \n",
    "        cnt += 1\n",
    "\n",
    "def main():\n",
    "    arr = [2, 5, 8, 7]\n",
    "    head = Node(arr[0])\n",
    "    head.next = Node(arr[1])\n",
    "    head.next.next = Node(arr[2])\n",
    "    head.next.next.next = Node(arr[3])\n",
    "\n",
    "    print(\"Length of the linked list: \", length_of_linked_list(head))\n",
    "main()"
   ]
  },
  {
   "cell_type": "code",
   "execution_count": 4,
   "metadata": {},
   "outputs": [
    {
     "name": "stdout",
     "output_type": "stream",
     "text": [
      "1\n"
     ]
    }
   ],
   "source": [
    "class Node:\n",
    "    def __init__(self, data1, next1=None):\n",
    "        self.data = data1\n",
    "        self.next = next1\n",
    "\n",
    "# Function to check if a given element is present in the linked list\n",
    "def check_if_present(head, desired_element):\n",
    "    temp = head\n",
    "\n",
    "    # Traverse the linked list\n",
    "    while temp is not None:\n",
    "        # Check if the current node's data is equal to the desired element\n",
    "        if temp.data == desired_element:\n",
    "            return 1  # Return 1 if the element is found\n",
    "\n",
    "        # Move to the next node\n",
    "        temp = temp.next\n",
    "\n",
    "    return 0  # Return 0 if the element is not found in the linked list\n",
    "\n",
    "# Main function\n",
    "if __name__ == \"__main__\":\n",
    "    # Create a linked list: 1 -> 2 -> 3\n",
    "    arr = [1, 2, 3]\n",
    "    head = Node(arr[0])\n",
    "    head.next = Node(arr[1])\n",
    "    head.next.next = Node(arr[2])\n",
    "\n",
    "    val = 3  # Element to be checked for presence in the linked list\n",
    "\n",
    "    # Call the check_if_present function and print the result\n",
    "    print(check_if_present(head, val))"
   ]
  }
 ],
 "metadata": {
  "kernelspec": {
   "display_name": "Python 3",
   "language": "python",
   "name": "python3"
  },
  "language_info": {
   "codemirror_mode": {
    "name": "ipython",
    "version": 3
   },
   "file_extension": ".py",
   "mimetype": "text/x-python",
   "name": "python",
   "nbconvert_exporter": "python",
   "pygments_lexer": "ipython3",
   "version": "3.8.10"
  }
 },
 "nbformat": 4,
 "nbformat_minor": 2
}
